{
 "nbformat": 4,
 "nbformat_minor": 0,
 "metadata": {
  "colab": {
   "provenance": [
    {
     "file_id": "17qHD4-ezroA79uzGY_Rek-wa6yxfpBdH",
     "timestamp": 1747323603595
    }
   ]
  },
  "kernelspec": {
   "name": "python3",
   "display_name": "Python 3"
  },
  "language_info": {
   "name": "python"
  }
 },
 "cells": [
  {
   "cell_type": "markdown",
   "source": [
    "В цьому домашньому завданні відпрацюємо з вами знання, отримані в модулі зі статистики.\n",
    "\n",
    "**Завдання 1.** Ми обговорили з Вами на лекції, що велика літера Сігма грецького алфавіту позначає в математиці суму. Знайдіть з використанням Python $\\Sigma x$, $\\Sigma x^2$, та $\\Sigma (x-1)^2$ для наступного набору даних:\n",
    "`1 3 4`\n",
    "Виведіть результат кожного обчислення на екран."
   ],
   "metadata": {
    "id": "SDhaTqxcWhnP"
   }
  },
  {
   "cell_type": "code",
   "source": [
    "data = [1, 3, 4]\n",
    "\n",
    "print(f\"Sum: {sum(data)}\")\n",
    "print(f\"Sum of squares: {sum(x ** 2 for x in data)}\")\n",
    "print(f\"Sum of (x - 1)^2: {sum((x - 1) ** 2 for x in data)}\")"
   ],
   "metadata": {
    "id": "B1mgx_IBT0e8",
    "ExecuteTime": {
     "end_time": "2025-05-15T17:59:20.511425Z",
     "start_time": "2025-05-15T17:59:20.507425Z"
    }
   },
   "outputs": [
    {
     "name": "stdout",
     "output_type": "stream",
     "text": [
      "Sum: 8\n",
      "Sum of squares: 26\n",
      "Sum of (x - 1)^2: 13\n"
     ]
    }
   ],
   "execution_count": 49
  },
  {
   "cell_type": "markdown",
   "source": [
    "**Завдання 2.** Ми зібрали дані про суму покупок в гривнях 20ма випадково обраними клієнтами в нашому магазині (всього клієнтів у нас більше) за минулий місяць. Вони представлені в змінній `sum_purchases`. Знайдіть **вибіркове середнє** для цих даних кожним з зазначених методів:   \n",
    "\n",
    "  2.1. без використання жодних бібліотек, користуючись тільки Python.  \n",
    "  2.2. використовуючи відповідний метод бібліотеки `numpy`.\n",
    "\n",
    "  Виведіть результат обчислень в кожному з випадків на екран та порівняйте результати. Вони співпадають?"
   ],
   "metadata": {
    "id": "fa78aW5lhiia"
   }
  },
  {
   "cell_type": "code",
   "metadata": {
    "id": "_9kMt3rq6V5m",
    "ExecuteTime": {
     "end_time": "2025-05-15T17:59:20.525889Z",
     "start_time": "2025-05-15T17:59:20.523604Z"
    }
   },
   "source": [
    "import numpy as np\n",
    "\n",
    "sum_purchases = [316, 493, 367, 153, 224, 121, 322, 450, 196, 397, 281,\n",
    "                 239, 484, 124, 223, 448, 432, 255, 4310, 3524]"
   ],
   "outputs": [],
   "execution_count": 50
  },
  {
   "cell_type": "code",
   "source": [
    "def get_sample_mean(arr):\n",
    "    return sum(arr) / len(arr)\n",
    "\n",
    "print(f\"Sample mean (without libraries): {get_sample_mean(sum_purchases)}\")"
   ],
   "metadata": {
    "id": "wPmL919HT1c0",
    "ExecuteTime": {
     "end_time": "2025-05-15T17:59:20.547150Z",
     "start_time": "2025-05-15T17:59:20.544502Z"
    }
   },
   "outputs": [
    {
     "name": "stdout",
     "output_type": "stream",
     "text": [
      "Sample mean (without libraries): 667.95\n"
     ]
    }
   ],
   "execution_count": 51
  },
  {
   "metadata": {
    "ExecuteTime": {
     "end_time": "2025-05-15T17:59:20.574486Z",
     "start_time": "2025-05-15T17:59:20.571806Z"
    }
   },
   "cell_type": "code",
   "source": [
    "sample_mean_np = np.mean(sum_purchases)\n",
    "print(f\"Sample mean (NumPy): {sample_mean_np}\")"
   ],
   "outputs": [
    {
     "name": "stdout",
     "output_type": "stream",
     "text": [
      "Sample mean (NumPy): 667.95\n"
     ]
    }
   ],
   "execution_count": 52
  },
  {
   "cell_type": "markdown",
   "source": [
    "**Завдання 3.** Для того ж набору даних в змінній `sum_purchases` обчисліть **медіану** кожним з зазначених методів:  \n",
    "\n",
    "  3.1. без використання жодних бібліотек, користуючись тільки Python.  \n",
    "  3.2. використовуючи відповідний метод бібліотеки numpy.  \n",
    "\n",
    "Виведіть результат обчислень в кожному з випадків на екран. Порівняйте результати зі значенням вибіркового середнього. Напишіть коментар, для яких задач ви б використовували вибіркове середнє, а для яких - медіану?"
   ],
   "metadata": {
    "id": "FMdoxZd0kZdW"
   }
  },
  {
   "cell_type": "code",
   "source": [
    "def get_purchases_median(arr):\n",
    "    s = sorted(arr)\n",
    "    if len(arr) % 2 == 0:\n",
    "        return (s[len(arr) // 2 - 1] + s[len(arr) // 2]) / 2\n",
    "    else:\n",
    "        return s[len(arr) // 2]\n",
    "\n",
    "print(f\"Sample median (without libraries): {get_purchases_median(sum_purchases)}\")"
   ],
   "metadata": {
    "id": "x58BumvuT2nl",
    "ExecuteTime": {
     "end_time": "2025-05-15T17:59:20.597413Z",
     "start_time": "2025-05-15T17:59:20.594310Z"
    }
   },
   "outputs": [
    {
     "name": "stdout",
     "output_type": "stream",
     "text": [
      "Sample median (without libraries): 319.0\n"
     ]
    }
   ],
   "execution_count": 53
  },
  {
   "metadata": {
    "ExecuteTime": {
     "end_time": "2025-05-15T17:59:20.623720Z",
     "start_time": "2025-05-15T17:59:20.620766Z"
    }
   },
   "cell_type": "code",
   "source": "print(f\"Sample median (NumPy): {np.median(sum_purchases)}\")",
   "outputs": [
    {
     "name": "stdout",
     "output_type": "stream",
     "text": [
      "Sample median (NumPy): 319.0\n"
     ]
    }
   ],
   "execution_count": 54
  },
  {
   "metadata": {},
   "cell_type": "markdown",
   "source": [
    "For sum_purchases sample:\n",
    "\n",
    "   - Using mean make sense if purchase amounts are fairly evenly distributed (not this case). Make sense when number of purchases larger and doesn't have a lot of distortions.\n",
    "\n",
    "   - Using median make sense if there are some unusually large or small purchases that might distort the mean."
   ]
  },
  {
   "cell_type": "markdown",
   "source": [
    "**Завдання 4**. Обчислість стандартне відхилення наведеної вибірки в змінній `sum_purchases` кожним з зазначених методів:  \n",
    "\n",
    "  4.1. без використання жодних бібліотек, користуючись тільки Python.  \n",
    "  4.2. використовуючи відповідний метод бібліотеки numpy.  \n",
    "\n",
    "Виведіть результат обчислень в кожному з випадків на екран."
   ],
   "metadata": {
    "id": "o1Z7az2yNDQV"
   }
  },
  {
   "cell_type": "code",
   "source": [
    "def var_sum_purchases(arr):\n",
    "    return sum([(x - get_sample_mean(arr)) ** 2 for x in arr]) / len(arr)\n",
    "print(f\"Sample variance (without libraries): {var_sum_purchases(sum_purchases)}\")"
   ],
   "metadata": {
    "id": "X4ixtmL2T642",
    "ExecuteTime": {
     "end_time": "2025-05-15T17:59:20.646829Z",
     "start_time": "2025-05-15T17:59:20.643741Z"
    }
   },
   "outputs": [
    {
     "name": "stdout",
     "output_type": "stream",
     "text": [
      "Sample variance (without libraries): 1201367.8475000001\n"
     ]
    }
   ],
   "execution_count": 55
  },
  {
   "metadata": {
    "ExecuteTime": {
     "end_time": "2025-05-15T17:59:20.678927Z",
     "start_time": "2025-05-15T17:59:20.675994Z"
    }
   },
   "cell_type": "code",
   "source": "print(f\"Sample variance (NumPy): {np.var(sum_purchases)}\")",
   "outputs": [
    {
     "name": "stdout",
     "output_type": "stream",
     "text": [
      "Sample variance (NumPy): 1201367.8475000001\n"
     ]
    }
   ],
   "execution_count": 56
  },
  {
   "cell_type": "markdown",
   "source": [
    "**Завдання 5**. Ми провели дослідження віку студентів-першокурсників. Виявилось, що\n",
    "- 10 студентів мають вік 16 років\n",
    "- 25 студентів - 17 років\n",
    "- 20 студентів - 18 років\n",
    "- 2 студенти - 20 років\n",
    "\n",
    "Обчислість середнє значення для цієї вибірки будь-яким способом - на чистому Python або з numpy - та виведіть результат на екран."
   ],
   "metadata": {
    "id": "M1ntKTjXLVlH"
   }
  },
  {
   "cell_type": "code",
   "source": [
    "students = [16] * 10 + [17] * 25 + [18] * 20 + [20] * 2\n",
    "\n",
    "mean_manual = get_sample_mean(students)\n",
    "mean_np = np.mean(students)\n",
    "\n",
    "print(\"Mean (manual):\", mean_manual)\n",
    "print(\"Mean (numpy):\", mean_np)"
   ],
   "metadata": {
    "id": "RdIU4M-7T8R4",
    "ExecuteTime": {
     "end_time": "2025-05-15T17:59:20.699723Z",
     "start_time": "2025-05-15T17:59:20.696728Z"
    }
   },
   "outputs": [
    {
     "name": "stdout",
     "output_type": "stream",
     "text": [
      "Mean (manual): 17.280701754385966\n",
      "Mean (numpy): 17.280701754385966\n"
     ]
    }
   ],
   "execution_count": 57
  },
  {
   "cell_type": "markdown",
   "source": [
    "**Завдання 6**. Крім даних про суму покупок, ми зібрали ще дані про кількість відвідувань кожного з кожного покупця, які знаходяться в змінній `visits`. Обчисліть коефіцієнт кореляції Пірсона для суми покупок і кількості відвідувань кожним з зазначених методів:\n",
    "\n",
    "  6.1. без використання жодних бібліотек, користуючись тільки Python.\n",
    "  6.2. використовуючи відповідний метод бібліотеки numpy.\n",
    "\n",
    "Виведіть результат на екран. Проаналізуйте результат.\n",
    "\n",
    "Виведіть додатково графік розсіювання викликавши код нижче і зробіть заключення, чи варто щось змінити при підрахунку кореляції, аби коефіцієнт Пірсона показував коректну оцінку лінійної залежності?"
   ],
   "metadata": {
    "id": "Xx8MFkkVM53z"
   }
  },
  {
   "metadata": {
    "ExecuteTime": {
     "end_time": "2025-05-15T17:59:20.719735Z",
     "start_time": "2025-05-15T17:59:20.717294Z"
    }
   },
   "cell_type": "code",
   "source": [
    "import matplotlib.pyplot as plt\n",
    "visits = [6, 2, 10, 3, 9, 9, 2, 3, 6, 6, 10, 2, 5, 10, 3, 5, 4,\n",
    "          7, 4, 2]"
   ],
   "outputs": [],
   "execution_count": 58
  },
  {
   "metadata": {
    "ExecuteTime": {
     "end_time": "2025-05-15T17:59:20.739711Z",
     "start_time": "2025-05-15T17:59:20.734712Z"
    }
   },
   "cell_type": "code",
   "source": [
    "def var_sum_purchases(arr):\n",
    "    return sum([(x - get_sample_mean(arr)) ** 2 for x in arr]) / len(arr)\n",
    "def get_covariation(a, b):\n",
    "    mean_a = get_sample_mean(a)\n",
    "    mean_b = get_sample_mean(b)\n",
    "    ab = [(a[i] - mean_a) * (b[i] - mean_b) for i in range(len(a))]\n",
    "    return sum(ab) / (len(a) - 1)\n",
    "def var_sample(arr):\n",
    "    mean = get_sample_mean(arr)\n",
    "    return sum((x - mean) ** 2 for x in arr) / (len(arr) - 1)\n",
    "\n",
    "def get_pirson_cor(a, b):\n",
    "    return get_covariation(a, b) / (var_sample(a) ** 0.5 * var_sample(b) ** 0.5)\n",
    "\n",
    "print(f\"Pearson correlation (pure Python): {get_pirson_cor(sum_purchases, visits)}\")\n",
    "\n",
    "corr_np = np.corrcoef(sum_purchases, visits)\n",
    "print(f\"Pearson correlation (NumPy): {corr_np}\")"
   ],
   "outputs": [
    {
     "name": "stdout",
     "output_type": "stream",
     "text": [
      "Pearson correlation (pure Python): -0.30265844687666454\n",
      "Pearson correlation (NumPy): [[ 1.         -0.30265845]\n",
      " [-0.30265845  1.        ]]\n"
     ]
    }
   ],
   "execution_count": 59
  },
  {
   "cell_type": "code",
   "source": [
    "plt.scatter(sum_purchases, visits)\n",
    "plt.title('Scatter Plot of Purchases vs. Visits')\n",
    "plt.xlabel('Sum of Purchases')\n",
    "plt.ylabel('Number of Visits');"
   ],
   "metadata": {
    "colab": {
     "base_uri": "https://localhost:8080/",
     "height": 472
    },
    "id": "gaeoGA-5Prr1",
    "executionInfo": {
     "status": "ok",
     "timestamp": 1713730451828,
     "user_tz": -120,
     "elapsed": 390,
     "user": {
      "displayName": "Hanna Pylieva",
      "userId": "11922761571498418088"
     }
    },
    "outputId": "0c910a7f-0e96-449a-881d-1efa453b3c8d",
    "ExecuteTime": {
     "end_time": "2025-05-15T17:59:20.872Z",
     "start_time": "2025-05-15T17:59:20.760019Z"
    }
   },
   "outputs": [
    {
     "data": {
      "text/plain": [
       "<Figure size 640x480 with 1 Axes>"
      ],
      "image/png": "[encoded data removed]"
     },
     "metadata": {},
     "output_type": "display_data"
    }
   ],
   "execution_count": 60
  },
  {
   "metadata": {},
   "cell_type": "markdown",
   "source": "The Pearson correlation coefficients calculated using both pure Python and NumPy are close (around -0.3), indicating a weak negative  association between purchases and visits. One possible explanation is that customers who visit more frequently may prefer to make smaller, more frequent purchases, while those who visit less often might make larger purchases at once. However, it is difficult to visually understand any clear relationship due to the presence of outliers in the plot."
  },
  {
   "cell_type": "markdown",
   "source": [
    "**Завдання 7**. В попередньому завданні ми помітили, що викиди нам заважають отримати \"правдиве\" значення кореляції. Давайте вилучимо записи, які відповідають значенням з викидами в сумі покупок і обчисліть коеф. кореляції. Для цього поставте `threshold`, який дорінює середньому значенню + 2 стандартних вдіхилля суми покупок і всі значення, які більше за нього, будемо вважати викидами (є і інші правила для визначення викидів - з ним и познайомимось пізніше).\n",
    "\n",
    "Вилучіть значення з обох масивів і обчисліть коеф. кореляції Пірсона з допомогою `numpy` для кількості візитів і суми покупок без записів-викидів. Виведіть результат на екран, побудуйте діаграму розсіювання і проаналізуйте результат: що можемо сказати про залежність в даних?"
   ],
   "metadata": {
    "id": "4pEg0KzSQ6KA"
   }
  },
  {
   "cell_type": "code",
   "source": [
    "mean_purchases = get_sample_mean(sum_purchases)\n",
    "std_purchases = var_sample(sum_purchases) ** 0.5\n",
    "\n",
    "threshold = mean_purchases + 2 * std_purchases\n",
    "\n",
    "filtered_indices = [i for i, val in enumerate(sum_purchases) if val <= threshold]\n",
    "\n",
    "filtered_purchases = [sum_purchases[i] for i in filtered_indices]\n",
    "filtered_visits = [visits[i] for i in filtered_indices]\n",
    "\n",
    "corr_filtered = get_pirson_cor(filtered_purchases, filtered_visits)\n",
    "\n",
    "print(f\"Pearson correlation without outliers (pure Python): {corr_filtered}\")\n",
    "\n",
    "plt.scatter(filtered_visits, filtered_purchases)\n",
    "plt.xlabel('Visits')\n",
    "plt.ylabel('Sum of purchases')\n",
    "plt.title('Scatter plot without outliers')\n",
    "plt.show()"
   ],
   "metadata": {
    "id": "Yj3Yfaf7UBbc",
    "ExecuteTime": {
     "end_time": "2025-05-15T17:59:20.980989Z",
     "start_time": "2025-05-15T17:59:20.881901Z"
    }
   },
   "outputs": [
    {
     "name": "stdout",
     "output_type": "stream",
     "text": [
      "Pearson correlation without outliers (pure Python): -0.36852120781277986\n"
     ]
    },
    {
     "data": {
      "text/plain": [
       "<Figure size 640x480 with 1 Axes>"
      ],
      "image/png": "[encoded data removed]"
     },
     "metadata": {},
     "output_type": "display_data"
    }
   ],
   "execution_count": 61
  },
  {
   "metadata": {},
   "cell_type": "markdown",
   "source": "The Pearson correlation coefficient calculated without outliers using pure Python is approximately -0.37, which is stronger than before but still weak. Removing the outliers clarifies that no clear linear relationship between the sum of purchases and the number of visits is present."
  }
 ]
}
