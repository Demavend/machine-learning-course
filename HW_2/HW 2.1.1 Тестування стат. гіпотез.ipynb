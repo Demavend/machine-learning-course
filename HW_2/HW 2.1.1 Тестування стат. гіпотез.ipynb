{
 "nbformat": 4,
 "nbformat_minor": 0,
 "metadata": {
  "colab": {
   "provenance": []
  },
  "kernelspec": {
   "name": "python3",
   "display_name": "Python 3"
  },
  "language_info": {
   "name": "python"
  }
 },
 "cells": [
  {
   "cell_type": "markdown",
   "source": [
    "В цьому ДЗ потренуємось виконувати Z-тести для тестування гіпотез в різних задачах. Для коректної імплементації та інтерпретації тестів рекоемндую переглянути спершу документацію:\n",
    "\n",
    "https://www.statsmodels.org/dev/generated/statsmodels.stats.weightstats.ztest.html\n",
    "\n",
    "### Завдання 1: Z-тест для однієї вибірки\n",
    "\n",
    "**Мета**: Перевірити, чи середнє значення вибірки відрізняється від гіпотетичного середнього.\n",
    "\n",
    "**Припущення**: Середній ріст студентів університету вважається 170 см. Ми хочемо перевірити, чи середній ріст випадкової вибірки студентів істотно більший. Вибірка задана в змінній `heights`.\n",
    "\n",
    "Для виконання завдання імпортуйте метод для проведення `ztest`, виконайте Z-тест з Python, виведіть p-value і зробіть заключення, чи справдилось припущення про середній зріст студентів на рівні значущості 0.05?\n",
    "\n",
    "Використовуємо тут Z-тест, оскільки вибірка достатньо велика (більше 30 екземплярів) і можемо вважати, що її стандартне відхилення близьке до ст. відхилення генеральної сукупності, а значить - відоме."
   ],
   "metadata": {
    "id": "ID3uSQHkQJ2J"
   }
  },
  {
   "metadata": {
    "ExecuteTime": {
     "end_time": "2025-06-07T14:40:08.443425Z",
     "start_time": "2025-06-07T14:40:05.981890Z"
    }
   },
   "cell_type": "code",
   "source": "!pip install statsmodels --quiet",
   "outputs": [],
   "execution_count": 1
  },
  {
   "metadata": {
    "ExecuteTime": {
     "end_time": "2025-06-07T14:40:08.467531Z",
     "start_time": "2025-06-07T14:40:08.453431Z"
    }
   },
   "cell_type": "code",
   "source": [
    "import numpy as np\n",
    "from statsmodels.stats.weightstats import ztest\n",
    "from scipy.stats import ttest_ind"
   ],
   "outputs": [],
   "execution_count": 2
  },
  {
   "cell_type": "code",
   "source": "heights = [174, 171, 175, 179, 170, 170, 179, 175, 169, 174, 169, 169, 173, 162, 163, 169, 166, 173, 167, 164, 179, 170, 172, 164, 169, 175, 169, 174, 169, 169, 173, 162, 177]",
   "metadata": {
    "id": "TUYNSCDzRE7N",
    "ExecuteTime": {
     "end_time": "2025-06-07T14:40:08.807526Z",
     "start_time": "2025-06-07T14:40:08.804534Z"
    }
   },
   "outputs": [],
   "execution_count": 3
  },
  {
   "metadata": {
    "ExecuteTime": {
     "end_time": "2025-06-07T14:40:08.819719Z",
     "start_time": "2025-06-07T14:40:08.817168Z"
    }
   },
   "cell_type": "code",
   "source": [
    "alpha = 0.05\n",
    "null_mean = 170"
   ],
   "outputs": [],
   "execution_count": 4
  },
  {
   "metadata": {
    "ExecuteTime": {
     "end_time": "2025-06-07T14:40:08.894622Z",
     "start_time": "2025-06-07T14:40:08.891359Z"
    }
   },
   "cell_type": "code",
   "source": [
    "def get_mean_and_deviation(data):\n",
    "    mean = np.mean(data)\n",
    "    std = np.std(data, ddof=0)\n",
    "\n",
    "    print(\"Sample mean:\", mean)\n",
    "    print(\"Sample standard deviation (assuming population):\", std)\n",
    "get_mean_and_deviation(heights)"
   ],
   "outputs": [
    {
     "name": "stdout",
     "output_type": "stream",
     "text": [
      "Sample mean: 170.6969696969697\n",
      "Sample standard deviation (assuming population): 4.648133209409457\n"
     ]
    }
   ],
   "execution_count": 5
  },
  {
   "metadata": {
    "ExecuteTime": {
     "end_time": "2025-06-07T14:40:08.972984Z",
     "start_time": "2025-06-07T14:40:08.968003Z"
    }
   },
   "cell_type": "code",
   "source": [
    "ztest_score, p_value = ztest(heights, value=null_mean, alternative='two-sided')\n",
    "\n",
    "print(\"Z-test statistic:\", ztest_score)\n",
    "print(\"P-value:\", p_value)\n",
    "\n",
    "if p_value < alpha:\n",
    "    print(f\"Reject H0: The mean student height equals {null_mean} cm. Significant difference detected.\")\n",
    "else:\n",
    "    print(f\"Fail to reject H0: No significant evidence that the mean student height differs from {null_mean} cm.\")"
   ],
   "outputs": [
    {
     "name": "stdout",
     "output_type": "stream",
     "text": [
      "Z-test statistic: 0.8482235371587619\n",
      "P-value: 0.3963134914218349\n",
      "Fail to reject H0: No significant evidence that the mean student height differs from 170 cm.\n"
     ]
    }
   ],
   "execution_count": 6
  },
  {
   "metadata": {},
   "cell_type": "markdown",
   "source": [
    "### Summary\n",
    "\n",
    "In this task, a two-sided Z-test was used to check whether the average student height differs from 170 cm (in either direction). Based on the obtained p-value, no statistically significant difference from 170 cm was detected. Therefore, there is not enough evidence to conclude that the true mean height is different from 170 cm.\n"
   ]
  },
  {
   "cell_type": "markdown",
   "source": [
    "### Завдання 2: Z-тест для двох незалежних вибірок\n",
    "\n",
    "**Завдання 2.1.**\n",
    "\n",
    "**Мета**: Перевірити, чи існує статистична різниця між середніми оцінками двох груп студентів.\n",
    "\n",
    "**Припущення**: Група A отримала новий навчальний курс, а група B продовжувала зі стандартним курсом. Ми перевіряємо, чи є новий курс ефективнішим.\n",
    "\n",
    "Виконайте Z-тест з Python, виведіть p-value і зробіть заключення, чи справдилось припущення щодо студентів на рівні значущості 0.05?"
   ],
   "metadata": {
    "id": "ga4iKM9kQa9Q"
   }
  },
  {
   "cell_type": "code",
   "source": [
    "group_a_scores = [78.55, 72.25, 79.88, 75.  , 76.54, 74.99, 87.26, 77.93, 72.71,\n",
    "       82.11, 71.9 , 79.04, 68.2 , 71.36, 78.98, 81.69, 78.86, 77.42,\n",
    "       76.49, 70.61, 74.4 , 75.7 , 83.29, 79.72, 69.18, 79.62, 76.07,\n",
    "       74.62, 81.06, 83.15, 82.66, 73.8 , 76.45, 79.66, 82.88, 75.6 ,\n",
    "       77.07, 72.47, 72.02, 82.06]\n",
    "\n",
    "group_b_scores = [81.78, 74.64, 80.02, 76.81, 71.77, 76.81, 82.69, 74.82, 82.82,\n",
    "       61.9 , 79.11, 75.44, 73.5 , 75.46, 65.06, 73.9 , 76.79, 82.39,\n",
    "       72.41, 70.96, 72.49, 79.58, 76.64, 72.35, 77.57, 75.49, 79.84,\n",
    "       71.49, 73.36, 73.04, 67.68, 76.48, 76.31, 75.03, 73.83, 67.92,\n",
    "       72.9 , 73.29, 70.99, 74.19]"
   ],
   "metadata": {
    "id": "SngJjNBJTgBp",
    "ExecuteTime": {
     "end_time": "2025-06-07T14:40:09.051360Z",
     "start_time": "2025-06-07T14:40:09.047657Z"
    }
   },
   "outputs": [],
   "execution_count": 7
  },
  {
   "cell_type": "code",
   "source": "get_mean_and_deviation(group_a_scores)",
   "metadata": {
    "id": "CvftCAEHYPKL",
    "ExecuteTime": {
     "end_time": "2025-06-07T14:40:09.072120Z",
     "start_time": "2025-06-07T14:40:09.069389Z"
    }
   },
   "outputs": [
    {
     "name": "stdout",
     "output_type": "stream",
     "text": [
      "Sample mean: 77.08125\n",
      "Sample standard deviation (assuming population): 4.3108706704678585\n"
     ]
    }
   ],
   "execution_count": 8
  },
  {
   "metadata": {
    "ExecuteTime": {
     "end_time": "2025-06-07T14:40:09.109354Z",
     "start_time": "2025-06-07T14:40:09.106274Z"
    }
   },
   "cell_type": "code",
   "source": "get_mean_and_deviation(group_b_scores)",
   "outputs": [
    {
     "name": "stdout",
     "output_type": "stream",
     "text": [
      "Sample mean: 74.73875000000001\n",
      "Sample standard deviation (assuming population): 4.463902545699223\n"
     ]
    }
   ],
   "execution_count": 9
  },
  {
   "metadata": {
    "ExecuteTime": {
     "end_time": "2025-06-07T14:40:09.156290Z",
     "start_time": "2025-06-07T14:40:09.152592Z"
    }
   },
   "cell_type": "code",
   "source": [
    "ztest_score, p_value = ztest(group_a_scores, group_b_scores, alternative='two-sided')\n",
    "\n",
    "print(\"Z-test statistic:\", ztest_score)\n",
    "print(\"P-value:\", p_value)\n",
    "\n",
    "if p_value < alpha:\n",
    "    print(\"Reject H0: The mean scores between Group A and Group B are significantly different.\")\n",
    "else:\n",
    "    print(\"Fail to reject H0: No significant difference between the mean scores of Group A and Group B.\")"
   ],
   "outputs": [
    {
     "name": "stdout",
     "output_type": "stream",
     "text": [
      "Z-test statistic: 2.357354864751502\n",
      "P-value: 0.01840564855252801\n",
      "Reject H0: The mean scores between Group A and Group B are significantly different.\n"
     ]
    }
   ],
   "execution_count": 10
  },
  {
   "metadata": {},
   "cell_type": "markdown",
   "source": [
    "### Summary\n",
    "\n",
    "In this task, a two-sided Z-test was used to check whether the mean scores of Group A and Group B differ. Based on the obtained p-value, no significant difference between the groups was detected. The calculated sample means showed that Group A had a slightly higher average score compared to Group B, but this difference was not strong enough to be considered statistically significant with the current data.\n"
   ]
  },
  {
   "cell_type": "markdown",
   "source": [
    "**Завдання 2.2.**\n",
    "\n",
    "\n",
    "**Мета**: Побачити, як впливає розмір вибірок на результат тесту.\n",
    "\n",
    "**Завдання**: Уявіть, що з групи А ми маємо тільки перші 5 записів, а з групи В - усі. Таке могло статись, якщо ми вже маємо результати тестів учнів за попередньою програмою, а тести за новою програмою здали наразі лише 5 учнів і ми вирішили не чекати довше.\n",
    "Виберіть перші 5 записів для групи А і проведіть t-test (для цього використовуємо наступний [метод](https://docs.scipy.org/doc/scipy/reference/generated/scipy.stats.ttest_ind.html)). Виведіть значення p-value. Зробіть висновок, який результат ви бачите щодо стат. значущості на рівні 0.05 для цього експерименту?\n",
    "\n",
    "Тут проводимо t-test оскільки одна з вибірок - дуже мала."
   ],
   "metadata": {
    "id": "zOxz2tU0VpJM"
   }
  },
  {
   "cell_type": "code",
   "source": [
    "group_a_scores_cropped = group_a_scores[:5]\n",
    "print(group_a_scores_cropped)"
   ],
   "metadata": {
    "id": "D9znE6liYQmP",
    "ExecuteTime": {
     "end_time": "2025-06-07T14:40:09.188532Z",
     "start_time": "2025-06-07T14:40:09.185771Z"
    }
   },
   "outputs": [
    {
     "name": "stdout",
     "output_type": "stream",
     "text": [
      "[78.55, 72.25, 79.88, 75.0, 76.54]\n"
     ]
    }
   ],
   "execution_count": 11
  },
  {
   "metadata": {
    "ExecuteTime": {
     "end_time": "2025-06-07T14:40:09.238218Z",
     "start_time": "2025-06-07T14:40:09.231979Z"
    }
   },
   "cell_type": "code",
   "source": [
    "t_test_score, p_value = ttest_ind(group_a_scores_cropped, group_b_scores, alternative='two-sided')\n",
    "\n",
    "print(\"T-test statistic:\", t_test_score)\n",
    "print(\"P-value:\", p_value)\n",
    "\n",
    "if p_value < alpha:\n",
    "    print(\"Reject H0: The mean scores between Group A (5 samples) and Group B are significantly different.\")\n",
    "else:\n",
    "    print(\"Fail to reject H0: No significant difference between the mean scores of Group A (5 samples) and Group B.\")"
   ],
   "outputs": [
    {
     "name": "stdout",
     "output_type": "stream",
     "text": [
      "T-test statistic: 0.8167951030410814\n",
      "P-value: 0.4185479477535733\n",
      "Fail to reject H0: No significant difference between the mean scores of Group A (5 samples) and Group B.\n"
     ]
    }
   ],
   "execution_count": 12
  },
  {
   "metadata": {},
   "cell_type": "markdown",
   "source": [
    "### Summary\n",
    "\n",
    "In this task, a two-sided t-test was used to check whether the mean scores of Group A (only 5 observations) and Group B differ. Based on the obtained p-value, no statistically significant difference between the groups was detected. The smaller sample size for Group A increases the uncertainty in estimating its mean, which makes it harder to detect potential differences with the available data.\n"
   ]
  },
  {
   "cell_type": "markdown",
   "source": [
    "\n",
    "### Завдання 3\\*: Z-тест для двох **пов'язаних** вибірок\n",
    "\n",
    "**Мета**: Перевірити, чи вплинув тренінг на продуктивність працівників, коли всі справробітники проходили тренінг.\n",
    "\n",
    "**Припущення**: Наші працівники проходять однаковий тренінг, і ми хочемо з'ясувати, чи покращилися їхні показники після тренінгу на рівні значущості 0.05. Виконайте Z-тест з Python, виведіть p-value і зробіть заключення, чи поліпшились показники працівників на рівні значущості 0.05?\n",
    "\n",
    "Зверніть увагу, ці вибірки повʼязані між собою, значить не буде коректно виконати z-test між ними, натомість, ми можемо порівняти, чи різниця в результатах (продуктивності співробітників) є стат значущою."
   ],
   "metadata": {
    "id": "3TcRHLLz0SLw"
   }
  },
  {
   "cell_type": "code",
   "source": [
    "before_training = [57.82, 37.63, 36.8 , 55.22, 52.97, 52.5 , 53.46, 43.2 , 52.32,\n",
    "       52.93, 42.86, 68.66, 54.74, 38.09, 56.57, 40.25, 57.87, 61.59,\n",
    "       41.79, 59.63, 54.13, 58.22, 68.97, 47.55, 42.46, 41.1 , 41.84,\n",
    "       49.23, 53.41, 52.77]\n",
    "\n",
    "after_training = [62.47, 40.66, 42.7 , 57.69, 61.41, 56.76, 54.75, 44.06, 56.29,\n",
    "       55.48, 47.28, 72.6 , 57.59, 39.39, 56.54, 42.36, 62.58, 65.01,\n",
    "       42.3 , 62.98, 57.9 , 59.45, 72.28, 50.66, 43.18, 44.82, 45.96,\n",
    "       54.4 , 58.52, 53.01]"
   ],
   "metadata": {
    "id": "uxrjagJFW1GC",
    "ExecuteTime": {
     "end_time": "2025-06-07T14:40:09.291226Z",
     "start_time": "2025-06-07T14:40:09.287871Z"
    }
   },
   "outputs": [],
   "execution_count": 13
  },
  {
   "cell_type": "code",
   "source": [
    "diffs = np.array(after_training) - np.array(before_training)\n",
    "print(diffs)"
   ],
   "metadata": {
    "id": "NwCsN91OYSpN",
    "ExecuteTime": {
     "end_time": "2025-06-07T14:40:09.320777Z",
     "start_time": "2025-06-07T14:40:09.317218Z"
    }
   },
   "outputs": [
    {
     "name": "stdout",
     "output_type": "stream",
     "text": [
      "[ 4.65  3.03  5.9   2.47  8.44  4.26  1.29  0.86  3.97  2.55  4.42  3.94\n",
      "  2.85  1.3  -0.03  2.11  4.71  3.42  0.51  3.35  3.77  1.23  3.31  3.11\n",
      "  0.72  3.72  4.12  5.17  5.11  0.24]\n"
     ]
    }
   ],
   "execution_count": 14
  },
  {
   "metadata": {
    "ExecuteTime": {
     "end_time": "2025-06-07T14:40:09.341738Z",
     "start_time": "2025-06-07T14:40:09.338891Z"
    }
   },
   "cell_type": "code",
   "source": "get_mean_and_deviation(diffs)",
   "outputs": [
    {
     "name": "stdout",
     "output_type": "stream",
     "text": [
      "Sample mean: 3.1499999999999995\n",
      "Sample standard deviation (assuming population): 1.8561609125647853\n"
     ]
    }
   ],
   "execution_count": 15
  },
  {
   "metadata": {
    "ExecuteTime": {
     "end_time": "2025-06-07T14:40:09.413754Z",
     "start_time": "2025-06-07T14:40:09.410037Z"
    }
   },
   "cell_type": "code",
   "source": [
    "ztest_score, p_value = ztest(diffs, value=0, alternative='larger')\n",
    "\n",
    "print(\"Z-test statistic:\", ztest_score)\n",
    "print(\"P-value:\", p_value)\n",
    "\n",
    "if p_value < alpha:\n",
    "    print(\"Reject H0: The training significantly increased employee productivity.\")\n",
    "else:\n",
    "    print(\"Fail to reject H0: No significant increase in employee productivity was detected.\")"
   ],
   "outputs": [
    {
     "name": "stdout",
     "output_type": "stream",
     "text": [
      "Z-test statistic: 9.13890009623916\n",
      "P-value: 3.1545359919175505e-20\n",
      "Reject H0: The training significantly increased employee productivity.\n"
     ]
    }
   ],
   "execution_count": 16
  },
  {
   "metadata": {},
   "cell_type": "markdown",
   "source": [
    "### Summary\n",
    "\n",
    "In this task, a one-sided Z-test for paired samples was used to check whether the training led to an increase in employee productivity. Based on the obtained p-value, a statistically significant improvement was detected. This suggests that the training had a positive effect on productivity.\n"
   ]
  }
 ]
}
