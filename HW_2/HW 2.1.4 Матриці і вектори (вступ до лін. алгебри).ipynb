{
 "nbformat": 4,
 "nbformat_minor": 0,
 "metadata": {
  "colab": {
   "provenance": []
  },
  "kernelspec": {
   "name": "python3",
   "display_name": "Python 3"
  },
  "language_info": {
   "name": "python"
  }
 },
 "cells": [
  {
   "metadata": {
    "ExecuteTime": {
     "end_time": "2025-06-09T11:49:40.598387Z",
     "start_time": "2025-06-09T11:49:40.518139Z"
    }
   },
   "cell_type": "code",
   "source": "import numpy as np",
   "outputs": [],
   "execution_count": 1
  },
  {
   "cell_type": "markdown",
   "source": [
    "### Завдання 1: Створення матриць та векторів\n",
    "1. Створіть `numpy` вектор `vector` розмірністю 10 з випадковими дійсними значеннями в діапазоні від 0 до 1. Можна скористатись двома альтернативними варіантами:\n",
    "  1. Генерація випадкових чисел з модулем [`random.uniform`](https://docs.python.org/3/library/random.html).\n",
    "  2. Створення вектора з допомогою метода `numpy` [np.random.rand](https://numpy.org/doc/stable/reference/random/generated/numpy.random.rand.html)\n",
    "\n",
    "2. Створіть матрицю `matrix` типу `numpy.array` розмірності 3x3 з наступними значеннями\n",
    "\n",
    "  $$\n",
    "  matrix = \\begin{bmatrix}\n",
    "  11 & 14 & 17 \\\\\n",
    "  20 & 23 & 26 \\\\\n",
    "  29 & 32 & 35\n",
    "  \\end{bmatrix}\n",
    "  $$\n",
    "\n",
    "  будь-яким відомими Вам способом.\n",
    "\n",
    "Виведіть на екран вектор і матрицю, а також їх розміри.\n"
   ],
   "metadata": {
    "id": "efug1V4CM0lT"
   }
  },
  {
   "cell_type": "code",
   "source": [
    "vector_uniform = np.random.uniform(0, 1, 10)\n",
    "print(\"Vector (uniform):\", vector_uniform)\n",
    "print(\"Vector shape:\", vector_uniform.shape)\n",
    "\n",
    "vector_rand = np.random.rand(10)\n",
    "print(\"\\nVector (rand):\", vector_rand)\n",
    "print(\"Vector shape:\", vector_rand.shape)\n",
    "\n",
    "matrix = np.array([\n",
    "    [11, 14, 17],\n",
    "    [20, 23, 26],\n",
    "    [29, 32, 35]\n",
    "])\n",
    "print(\"\\nMatrix:\\n\", matrix)\n",
    "print(\"Matrix shape:\", matrix.shape)\n",
    "\n",
    "matrix_reshape = np.array([11, 14, 17, 20, 23, 26, 29, 32, 35]).reshape(3, 3)\n",
    "print(\"\\nMatrix (reshape):\\n\", matrix)\n",
    "print(\"Matrix shape (reshape):\", matrix.shape)"
   ],
   "metadata": {
    "id": "jxA_lG2_VIMe",
    "ExecuteTime": {
     "end_time": "2025-06-09T12:01:37.420347Z",
     "start_time": "2025-06-09T12:01:37.414693Z"
    }
   },
   "outputs": [
    {
     "name": "stdout",
     "output_type": "stream",
     "text": [
      "Vector (uniform): [0.98869732 0.42780066 0.31996823 0.51951102 0.81231717 0.85939801\n",
      " 0.56798772 0.179848   0.64790741 0.39448457]\n",
      "Vector shape: (10,)\n",
      "\n",
      "Vector (rand): [0.14780831 0.92028094 0.56074088 0.21180977 0.67840865 0.80084609\n",
      " 0.54479086 0.65665992 0.96525993 0.02667498]\n",
      "Vector shape: (10,)\n",
      "\n",
      "Matrix:\n",
      " [[11 14 17]\n",
      " [20 23 26]\n",
      " [29 32 35]]\n",
      "Matrix shape: (3, 3)\n",
      "\n",
      "Matrix (reshape):\n",
      " [[11 14 17]\n",
      " [20 23 26]\n",
      " [29 32 35]]\n",
      "Matrix shape (reshape): (3, 3)\n"
     ]
    }
   ],
   "execution_count": 3
  },
  {
   "metadata": {},
   "cell_type": "markdown",
   "source": [
    "### Summary\n",
    "\n",
    "Two random vectors of size 10 were generated:\n",
    "\n",
    "- The first one was generated using `np.random.uniform(0, 1, 10)` which samples random real values uniformly distributed between 0 and 1.\n",
    "- The second one was generated using `np.random.rand(10)` which produces similar uniformly distributed random values between 0 and 1.\n",
    "\n",
    "A 3x3 matrix was also created in two ways:\n",
    "\n",
    "- Directly using `numpy.array` with predefined integer values.\n",
    "- Using a one-dimensional list of values reshaped into a 3x3 matrix with `reshape(3, 3)`.\n",
    "\n",
    "In both cases, the matrix contains the same elements and has the expected shape of `(3, 3)`.\n"
   ]
  },
  {
   "cell_type": "markdown",
   "source": [
    "\n",
    "### Завдання 2: Операції над векторами та матрицями\n",
    "Виконайте кожну з зазначених операцій над зазначеними оʼєктами і виведіть результат на екран:\n",
    "1. Додайте до кожного значення вектора `vector` число 10 і округліть кожне значення до 2 знаків після коми без використання циклів.\n",
    "2. Помножте кожен елемент матриці з першого завдання на 2 без використання циклів.\n",
    "3. Створіть новий вектор, який містить квадрат кожного `vector` без циклів.\n"
   ],
   "metadata": {
    "id": "TSJ1P4OuOVe2"
   }
  },
  {
   "cell_type": "code",
   "source": [
    "vector_added = np.round(vector_rand + 10, 2)\n",
    "print(\"Vector after adding 10 and rounding:\", vector_added)"
   ],
   "metadata": {
    "id": "nAAojtyUVJXN",
    "ExecuteTime": {
     "end_time": "2025-06-09T12:05:16.934545Z",
     "start_time": "2025-06-09T12:05:16.931548Z"
    }
   },
   "outputs": [
    {
     "name": "stdout",
     "output_type": "stream",
     "text": [
      "Vector after adding 10 and rounding: [10.15 10.92 10.56 10.21 10.68 10.8  10.54 10.66 10.97 10.03]\n"
     ]
    }
   ],
   "execution_count": 4
  },
  {
   "metadata": {
    "ExecuteTime": {
     "end_time": "2025-06-09T12:07:16.355847Z",
     "start_time": "2025-06-09T12:07:16.351848Z"
    }
   },
   "cell_type": "code",
   "source": [
    "matrix_multiplied = matrix * 2\n",
    "print(\"\\nMatrix after multiplying by 2:\\n\", matrix_multiplied)"
   ],
   "outputs": [
    {
     "name": "stdout",
     "output_type": "stream",
     "text": [
      "\n",
      "Matrix after multiplying by 2:\n",
      " [[22 28 34]\n",
      " [40 46 52]\n",
      " [58 64 70]]\n"
     ]
    }
   ],
   "execution_count": 5
  },
  {
   "metadata": {
    "ExecuteTime": {
     "end_time": "2025-06-09T12:08:57.721157Z",
     "start_time": "2025-06-09T12:08:57.718160Z"
    }
   },
   "cell_type": "code",
   "source": [
    "vector_squared = vector_rand ** 2\n",
    "print(\"\\nVector squared:\", vector_squared)"
   ],
   "outputs": [
    {
     "name": "stdout",
     "output_type": "stream",
     "text": [
      "\n",
      "Vector squared: [2.18472959e-02 8.46917001e-01 3.14430334e-01 4.48633786e-02\n",
      " 4.60238296e-01 6.41354459e-01 2.96797081e-01 4.31202257e-01\n",
      " 9.31726729e-01 7.11554435e-04]\n"
     ]
    }
   ],
   "execution_count": 6
  },
  {
   "metadata": {},
   "cell_type": "markdown",
   "source": [
    "### Summary\n",
    "\n",
    "Several operations were performed using NumPy without explicit loops:\n",
    "\n",
    "- Added 10 to each element of the vector and rounded the result to 2 decimal places using `np.round()`.\n",
    "- Multiplied each element of the matrix by 2 using vectorized operations.\n",
    "- Created a new vector containing the square of each element of the original vector using element-wise exponentiation.."
   ]
  },
  {
   "cell_type": "markdown",
   "source": [
    "\n",
    "### Завдання 3: Множення матриць\n",
    "1. Задані дві матриці `A` і `B`розмірностями 3x2 та 2х3. Виконайте їхнє множення, щоб отримати матрицю 2x2. Виведіть результуючу матрицю `result_matrix` на екран.\n",
    "\n",
    "2. Заданий вектор `C` розмірністю 2х1. Подумайте спочатку, яку розмірність Ви отрмаєте, коли домножите `result_matrix` на вектор `C` і який результат буде. А потім виконайте множення і виведіть результат на екран.\n",
    "\n",
    "3. Задана матриця `D` розмірністю 2х2. Подумайте спочатку, яку розмірність Ви отрмаєте, коли домножите `result_matrix` на матрицю `D` і який результат буде. А потім виконайте множення і виведіть результат на екран."
   ],
   "metadata": {
    "id": "u6RvWVfhPy-k"
   }
  },
  {
   "cell_type": "code",
   "source": [
    "A = np.array(\n",
    "    [[0.18, 0.53],\n",
    "     [0.75, 0.47],\n",
    "     [0.35, 0.21]])\n",
    "\n",
    "B = np.array(\n",
    "    [[0.17, 0.58, 0.75],\n",
    "     [0.38, 0.11, 0.15]])\n",
    "\n",
    "C = np.array([[0], [1]])\n",
    "\n",
    "D = np.array([[0,1], [1,0]])\n",
    "\n",
    "display(A, B, C, D)"
   ],
   "metadata": {
    "id": "RwXfPzlbSJ44",
    "ExecuteTime": {
     "end_time": "2025-06-09T12:15:06.119404Z",
     "start_time": "2025-06-09T12:15:06.111427Z"
    }
   },
   "outputs": [
    {
     "data": {
      "text/plain": [
       "array([[0.18, 0.53],\n",
       "       [0.75, 0.47],\n",
       "       [0.35, 0.21]])"
      ]
     },
     "metadata": {},
     "output_type": "display_data"
    },
    {
     "data": {
      "text/plain": [
       "array([[0.17, 0.58, 0.75],\n",
       "       [0.38, 0.11, 0.15]])"
      ]
     },
     "metadata": {},
     "output_type": "display_data"
    },
    {
     "data": {
      "text/plain": [
       "array([[0],\n",
       "       [1]])"
      ]
     },
     "metadata": {},
     "output_type": "display_data"
    },
    {
     "data": {
      "text/plain": [
       "array([[0, 1],\n",
       "       [1, 0]])"
      ]
     },
     "metadata": {},
     "output_type": "display_data"
    }
   ],
   "execution_count": 7
  },
  {
   "cell_type": "code",
   "source": [
    "result_matrix = np.dot(B, A)\n",
    "print(\"Result matrix (B dot A) with shape 2x2:\\n\", result_matrix)\n",
    "print(\"Shape:\", result_matrix.shape)"
   ],
   "metadata": {
    "id": "z7-boTbhVKkj",
    "ExecuteTime": {
     "end_time": "2025-06-09T12:34:56.098136Z",
     "start_time": "2025-06-09T12:34:56.093669Z"
    }
   },
   "outputs": [
    {
     "name": "stdout",
     "output_type": "stream",
     "text": [
      "Result matrix (B dot A) with shape 2x2:\n",
      " [[0.7281 0.5202]\n",
      " [0.2034 0.2846]]\n",
      "Shape: (2, 2)\n"
     ]
    }
   ],
   "execution_count": 15
  },
  {
   "metadata": {
    "ExecuteTime": {
     "end_time": "2025-06-09T12:30:26.609235Z",
     "start_time": "2025-06-09T12:30:26.605794Z"
    }
   },
   "cell_type": "code",
   "source": [
    "result_vector = np.dot(result_matrix, C)\n",
    "print(\"\\nResult of result_matrix dot C:\\n\", result_vector)\n",
    "print(\"Shape:\", result_vector.shape)"
   ],
   "outputs": [
    {
     "name": "stdout",
     "output_type": "stream",
     "text": [
      "\n",
      "Result of result_matrix dot C:\n",
      " [[0.5202]\n",
      " [0.2846]]\n",
      "Shape: (2, 1)\n"
     ]
    }
   ],
   "execution_count": 13
  },
  {
   "metadata": {
    "ExecuteTime": {
     "end_time": "2025-06-09T12:31:00.633961Z",
     "start_time": "2025-06-09T12:31:00.630949Z"
    }
   },
   "cell_type": "code",
   "source": [
    "result_final = np.dot(result_matrix, D)\n",
    "print(\"\\nResult of result_matrix dot D:\\n\", result_final)\n",
    "print(\"Shape:\", result_final.shape)"
   ],
   "outputs": [
    {
     "name": "stdout",
     "output_type": "stream",
     "text": [
      "\n",
      "Result of result_matrix dot D:\n",
      " [[0.5202 0.7281]\n",
      " [0.2846 0.2034]]\n",
      "Shape: (2, 2)\n"
     ]
    }
   ],
   "execution_count": 14
  },
  {
   "metadata": {},
   "cell_type": "markdown",
   "source": [
    "### Summary\n",
    "\n",
    "Matrix and vector multiplications were performed using NumPy's `dot` function:\n",
    "\n",
    "- First, matrices `B (2x3)` and `A (3x2)` were multiplied to obtain `result_matrix` of shape `(2x2)`.\n",
    "- Next, `result_matrix (2x2)` was multiplied by vector `C (2x1)` to produce a result of shape `(2x1)`.\n",
    "- Finally, `result_matrix (2x2)` was multiplied by matrix `D (2x2)` to produce a final result of shape `(2x2)`.\n"
   ]
  },
  {
   "cell_type": "markdown",
   "source": [
    "\n",
    "### Завдання 4: Транспонування матриць\n",
    "1. Транспонуйте `result_matrix`.\n",
    "2. Зробіть транспонування вектора `vector` і виведіть форму нової структури. Чи бачите ви зміну?\n",
    "3. Використайте операцію `numpy.expand_dims` над вектором `vector` з аргументом axis=1. Запишіть отриманий результат в змінну `column_vector` і виведіть на екран. Порівняйте з `vector`.\n",
    "4. Зробіть транспонування `column_vector`, виведіть результат на екран разом з розмірностями отриманої структури.\n",
    "\n",
    "\n"
   ],
   "metadata": {
    "id": "wohp0_cxSGpl"
   }
  },
  {
   "cell_type": "code",
   "source": [
    "result_matrix_transposed = result_matrix.T\n",
    "print(\"Transposed result_matrix:\\n\", result_matrix_transposed)\n",
    "print(\"Shape:\", result_matrix_transposed.shape)"
   ],
   "metadata": {
    "id": "4hFcq1baVLii",
    "ExecuteTime": {
     "end_time": "2025-06-09T12:37:55.049888Z",
     "start_time": "2025-06-09T12:37:55.045887Z"
    }
   },
   "outputs": [
    {
     "name": "stdout",
     "output_type": "stream",
     "text": [
      "Transposed result_matrix:\n",
      " [[0.7281 0.2034]\n",
      " [0.5202 0.2846]]\n",
      "Shape: (2, 2)\n"
     ]
    }
   ],
   "execution_count": 16
  },
  {
   "metadata": {
    "ExecuteTime": {
     "end_time": "2025-06-09T12:39:14.993316Z",
     "start_time": "2025-06-09T12:39:14.989316Z"
    }
   },
   "cell_type": "code",
   "source": [
    "vector_transposed = vector_rand.T\n",
    "print(\"\\nTransposed vector:\\n\", vector_transposed)\n",
    "print(\"Shape:\", vector_transposed.shape)"
   ],
   "outputs": [
    {
     "name": "stdout",
     "output_type": "stream",
     "text": [
      "\n",
      "Transposed vector:\n",
      " [0.14780831 0.92028094 0.56074088 0.21180977 0.67840865 0.80084609\n",
      " 0.54479086 0.65665992 0.96525993 0.02667498]\n",
      "Shape: (10,)\n"
     ]
    }
   ],
   "execution_count": 18
  },
  {
   "metadata": {
    "ExecuteTime": {
     "end_time": "2025-06-09T12:41:40.686473Z",
     "start_time": "2025-06-09T12:41:40.683473Z"
    }
   },
   "cell_type": "code",
   "source": "print(\"\\nOriginal vector shape:\", vector_rand.shape)",
   "outputs": [
    {
     "name": "stdout",
     "output_type": "stream",
     "text": [
      "\n",
      "Original vector shape: (10,)\n"
     ]
    }
   ],
   "execution_count": 19
  },
  {
   "metadata": {
    "ExecuteTime": {
     "end_time": "2025-06-09T12:41:55.971275Z",
     "start_time": "2025-06-09T12:41:55.967923Z"
    }
   },
   "cell_type": "code",
   "source": [
    "column_vector = np.expand_dims(vector_rand, axis=1)\n",
    "print(\"\\nColumn vector (expand_dims):\\n\", column_vector)\n",
    "print(\"Shape:\", column_vector.shape)"
   ],
   "outputs": [
    {
     "name": "stdout",
     "output_type": "stream",
     "text": [
      "\n",
      "Column vector (expand_dims):\n",
      " [[0.14780831]\n",
      " [0.92028094]\n",
      " [0.56074088]\n",
      " [0.21180977]\n",
      " [0.67840865]\n",
      " [0.80084609]\n",
      " [0.54479086]\n",
      " [0.65665992]\n",
      " [0.96525993]\n",
      " [0.02667498]]\n",
      "Shape: (10, 1)\n"
     ]
    }
   ],
   "execution_count": 20
  },
  {
   "metadata": {
    "ExecuteTime": {
     "end_time": "2025-06-09T12:42:12.825156Z",
     "start_time": "2025-06-09T12:42:12.821156Z"
    }
   },
   "cell_type": "code",
   "source": [
    "column_vector_transposed = column_vector.T\n",
    "print(\"\\nTransposed column vector:\\n\", column_vector_transposed)\n",
    "print(\"Shape:\", column_vector_transposed.shape)"
   ],
   "outputs": [
    {
     "name": "stdout",
     "output_type": "stream",
     "text": [
      "\n",
      "Transposed column vector:\n",
      " [[0.14780831 0.92028094 0.56074088 0.21180977 0.67840865 0.80084609\n",
      "  0.54479086 0.65665992 0.96525993 0.02667498]]\n",
      "Shape: (1, 10)\n"
     ]
    }
   ],
   "execution_count": 21
  },
  {
   "metadata": {},
   "cell_type": "markdown",
   "source": [
    "### Summary\n",
    "\n",
    "Several transpose operations were performed:\n",
    "\n",
    "- `result_matrix` was successfully transposed, changing its shape from `(2x2)` to `(2x2)` (square matrix, shape remains same).\n",
    "- Transposing the 1D `vector` had no effect on its shape, which remained `(10,)`, because transposing has no effect on 1D arrays in NumPy.\n",
    "- `expand_dims(vector, axis=1)` was used to convert the 1D vector into a column vector with shape `(10, 1)`.\n",
    "- Transposing the `column_vector` resulted in a row vector with shape `(1, 10)`.\n"
   ]
  }
 ]
}
