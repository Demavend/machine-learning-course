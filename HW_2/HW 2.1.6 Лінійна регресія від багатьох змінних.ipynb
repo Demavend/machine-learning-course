{
 "nbformat": 4,
 "nbformat_minor": 0,
 "metadata": {
  "colab": {
   "provenance": [],
   "authorship_tag": "ABX9TyMZvplqsdnyItpMamwsdECS"
  },
  "kernelspec": {
   "name": "python3",
   "display_name": "Python 3"
  },
  "language_info": {
   "name": "python"
  }
 },
 "cells": [
  {
   "cell_type": "markdown",
   "source": [
    "В цьому домашньому завданні ми з вами побудуємо повноцінне ML-рішення реальної ML-задачі. Ви вже маєте всі знання, які для цього потрібні. Дотримуйтесь інструкцій, та користуйтесь матеріалами лекцій, аби виконувати завдання. Тут інструкції будуть детальні, а в подільших завданнях - будуть ставати все менш детальними, аби ви вже починали самостійно структурувати ML-проєкт і до кінця курсу для вас розвʼязати будь-яку ML–задачу було eazy-breezy.\n",
    "\n",
    "## Dataset\n",
    "\n",
    "Будемо працювати з набором даних `cars.csv`, який описує автомобілі і їх ціну у індійських рупіях :) Мета - передбачити ціну авто за його характеристиками. Опис набору даних:\n",
    "\n",
    "| Назва рядка            | Опис                                                                                                                                                 |\n",
    "|------------------------|--------------------------------------------------------------------------------------------------------------------------------------------------------|\n",
    "| Car_ID                 | Унікальний ідентифікатор для кожного оголошення про автомобіль.                                                                                         |\n",
    "| Brand                  | Бренд або виробник автомобіля (наприклад, Toyota, Honda, Ford тощо).                                                                                     |\n",
    "| Model                  | Модель автомобіля (наприклад, Camry, Civic, Mustang тощо).                                                                                               |\n",
    "| Year                   | Рік виготовлення автомобіля.                                                                                                                            |\n",
    "| Kilometers_Driven      | Загальний пробіг автомобіля у кілометрах.                                                                                                               |\n",
    "| Fuel_Type              | Тип палива, який використовує автомобіль (наприклад, бензин, дизель, електро тощо).                                                                      |\n",
    "| Transmission           | Тип трансмісії автомобіля (наприклад, механічна, автоматична).                                                                                           |\n",
    "| Owner_Type             | Кількість попередніх власників автомобіля (наприклад, перший, другий, третій).                                                                           |\n",
    "| Mileage                | Паливна ефективність автомобіля у кілометрах на літр.                                                                                                   |\n",
    "| Engine                 | Об'єм двигуна автомобіля в кубічних сантиметрах (CC).                                                                                                   |\n",
    "| Power                  | Максимальна потужність автомобіля в кінських силах (bhp).                                                                                               |\n",
    "| Seats                  | Кількість місць в автомобілі.                                                                                                                           |\n",
    "| Price                  | Вартість автомобіля в INR (індійські рупії), що є цільовою змінною для прогнозування.                                                                   |"
   ],
   "metadata": {
    "id": "87fwNK3xoy5K"
   }
  },
  {
   "cell_type": "markdown",
   "metadata": {
    "papermill": {
     "duration": 0.006069,
     "end_time": "2024-05-08T20:04:53.925383",
     "exception": false,
     "start_time": "2024-05-08T20:04:53.919314",
     "status": "completed"
    },
    "tags": [],
    "id": "52f35fee"
   },
   "source": [
    "# Імпорти\n",
    "\n",
    "Для зручності рекомендую всі імпорти розмістити тут нагорі, аби коли ви перезавантажували ноутбук, одразу можна було в один запуск клітинки імпортувати всі потрібні бібліотеки."
   ]
  },
  {
   "cell_type": "code",
   "metadata": {
    "execution": {
     "iopub.execute_input": "2024-05-08T20:04:53.940205Z",
     "iopub.status.busy": "2024-05-08T20:04:53.939265Z",
     "iopub.status.idle": "2024-05-08T20:04:56.366812Z",
     "shell.execute_reply": "2024-05-08T20:04:56.365880Z"
    },
    "papermill": {
     "duration": 2.43769,
     "end_time": "2024-05-08T20:04:56.369349",
     "exception": false,
     "start_time": "2024-05-08T20:04:53.931659",
     "status": "completed"
    },
    "tags": [],
    "id": "0a49b1bb",
    "ExecuteTime": {
     "end_time": "2025-06-15T09:47:48.766884Z",
     "start_time": "2025-06-15T09:47:48.762934Z"
    }
   },
   "source": [
    "import pandas as pd\n",
    "from sklearn.model_selection import train_test_split\n",
    "from sklearn.preprocessing import OrdinalEncoder\n",
    "from sklearn.linear_model import LinearRegression\n",
    "from sklearn.metrics import root_mean_squared_error, r2_score\n",
    "from sklearn.preprocessing import StandardScaler\n",
    "import matplotlib.pyplot as plt\n",
    "import seaborn as sns\n",
    "import numpy as np\n",
    "import statsmodels.api as sm"
   ],
   "outputs": [],
   "execution_count": 36
  },
  {
   "cell_type": "markdown",
   "source": [
    "# Знайомство з даними"
   ],
   "metadata": {
    "id": "mpKIfgg-FV98"
   }
  },
  {
   "cell_type": "markdown",
   "metadata": {
    "papermill": {
     "duration": 0.006026,
     "end_time": "2024-05-08T20:04:56.381857",
     "exception": false,
     "start_time": "2024-05-08T20:04:56.375831",
     "status": "completed"
    },
    "tags": [],
    "id": "fc07024e"
   },
   "source": [
    "**Завдання 1.** Завантажте набір даних `cars.csv` в pandas.DataFrame. Виведіть перші 5 записів."
   ]
  },
  {
   "cell_type": "code",
   "source": [
    "cars_df = pd.read_csv('../assets/hw_2_1/cars.csv')\n",
    "cars_df.head()"
   ],
   "metadata": {
    "id": "lKtSXyENfJxD",
    "ExecuteTime": {
     "end_time": "2025-06-15T09:47:48.819683Z",
     "start_time": "2025-06-15T09:47:48.810145Z"
    }
   },
   "outputs": [
    {
     "data": {
      "text/plain": [
       "   Car_ID    Brand    Model  Year  Kilometers_Driven Fuel_Type Transmission  \\\n",
       "0       1   Toyota  Corolla  2018              50000    Petrol       Manual   \n",
       "1       2    Honda    Civic  2019              40000    Petrol    Automatic   \n",
       "2       3     Ford  Mustang  2017              20000    Petrol    Automatic   \n",
       "3       4   Maruti    Swift  2020              30000    Diesel       Manual   \n",
       "4       5  Hyundai   Sonata  2016              60000    Diesel    Automatic   \n",
       "\n",
       "  Owner_Type  Mileage  Engine  Power  Seats    Price  \n",
       "0      First       15    1498    108      5   800000  \n",
       "1     Second       17    1597    140      5  1000000  \n",
       "2      First       10    4951    395      4  2500000  \n",
       "3      Third       23    1248     74      5   600000  \n",
       "4     Second       18    1999    194      5   850000  "
      ],
      "text/html": [
       "<div>\n",
       "<style scoped>\n",
       "    .dataframe tbody tr th:only-of-type {\n",
       "        vertical-align: middle;\n",
       "    }\n",
       "\n",
       "    .dataframe tbody tr th {\n",
       "        vertical-align: top;\n",
       "    }\n",
       "\n",
       "    .dataframe thead th {\n",
       "        text-align: right;\n",
       "    }\n",
       "</style>\n",
       "<table border=\"1\" class=\"dataframe\">\n",
       "  <thead>\n",
       "    <tr style=\"text-align: right;\">\n",
       "      <th></th>\n",
       "      <th>Car_ID</th>\n",
       "      <th>Brand</th>\n",
       "      <th>Model</th>\n",
       "      <th>Year</th>\n",
       "      <th>Kilometers_Driven</th>\n",
       "      <th>Fuel_Type</th>\n",
       "      <th>Transmission</th>\n",
       "      <th>Owner_Type</th>\n",
       "      <th>Mileage</th>\n",
       "      <th>Engine</th>\n",
       "      <th>Power</th>\n",
       "      <th>Seats</th>\n",
       "      <th>Price</th>\n",
       "    </tr>\n",
       "  </thead>\n",
       "  <tbody>\n",
       "    <tr>\n",
       "      <th>0</th>\n",
       "      <td>1</td>\n",
       "      <td>Toyota</td>\n",
       "      <td>Corolla</td>\n",
       "      <td>2018</td>\n",
       "      <td>50000</td>\n",
       "      <td>Petrol</td>\n",
       "      <td>Manual</td>\n",
       "      <td>First</td>\n",
       "      <td>15</td>\n",
       "      <td>1498</td>\n",
       "      <td>108</td>\n",
       "      <td>5</td>\n",
       "      <td>800000</td>\n",
       "    </tr>\n",
       "    <tr>\n",
       "      <th>1</th>\n",
       "      <td>2</td>\n",
       "      <td>Honda</td>\n",
       "      <td>Civic</td>\n",
       "      <td>2019</td>\n",
       "      <td>40000</td>\n",
       "      <td>Petrol</td>\n",
       "      <td>Automatic</td>\n",
       "      <td>Second</td>\n",
       "      <td>17</td>\n",
       "      <td>1597</td>\n",
       "      <td>140</td>\n",
       "      <td>5</td>\n",
       "      <td>1000000</td>\n",
       "    </tr>\n",
       "    <tr>\n",
       "      <th>2</th>\n",
       "      <td>3</td>\n",
       "      <td>Ford</td>\n",
       "      <td>Mustang</td>\n",
       "      <td>2017</td>\n",
       "      <td>20000</td>\n",
       "      <td>Petrol</td>\n",
       "      <td>Automatic</td>\n",
       "      <td>First</td>\n",
       "      <td>10</td>\n",
       "      <td>4951</td>\n",
       "      <td>395</td>\n",
       "      <td>4</td>\n",
       "      <td>2500000</td>\n",
       "    </tr>\n",
       "    <tr>\n",
       "      <th>3</th>\n",
       "      <td>4</td>\n",
       "      <td>Maruti</td>\n",
       "      <td>Swift</td>\n",
       "      <td>2020</td>\n",
       "      <td>30000</td>\n",
       "      <td>Diesel</td>\n",
       "      <td>Manual</td>\n",
       "      <td>Third</td>\n",
       "      <td>23</td>\n",
       "      <td>1248</td>\n",
       "      <td>74</td>\n",
       "      <td>5</td>\n",
       "      <td>600000</td>\n",
       "    </tr>\n",
       "    <tr>\n",
       "      <th>4</th>\n",
       "      <td>5</td>\n",
       "      <td>Hyundai</td>\n",
       "      <td>Sonata</td>\n",
       "      <td>2016</td>\n",
       "      <td>60000</td>\n",
       "      <td>Diesel</td>\n",
       "      <td>Automatic</td>\n",
       "      <td>Second</td>\n",
       "      <td>18</td>\n",
       "      <td>1999</td>\n",
       "      <td>194</td>\n",
       "      <td>5</td>\n",
       "      <td>850000</td>\n",
       "    </tr>\n",
       "  </tbody>\n",
       "</table>\n",
       "</div>"
      ]
     },
     "execution_count": 37,
     "metadata": {},
     "output_type": "execute_result"
    }
   ],
   "execution_count": 37
  },
  {
   "cell_type": "markdown",
   "source": [
    "**Завдання 2.** Виведіть типи даних колонок даних, а також дослідіть, які по факту типи даних мають записи в кожній колонці (тип `object` може містити різні типи даних) і скільки значень є в кожній категоріальній колонці.\n",
    "\n",
    "Напишіть висновок, скільки в наборі даних числових та категоріальних колонок кожного з трьох різних типів (бінарна, мільтикатегоріальна без порядку, мультикатегоріальна з порядком). Шаблон висновку\n",
    "\n",
    "```\n",
    "В наборі даних 10 числових і 10 категоріальних колонок з них\n",
    "- 2 бінарні (мають лише 2 значення)\n",
    "- 6 мультикатегоріальних (більше 2х значень) зі значеннями, для яких немає відношення порядку\n",
    "- 2 колонки, в яких можна встановити відношення порядку (наприклад Small<Medium<Large)\n",
    "```\n",
    "\n",
    "Якщо не знаєте, як це зробити з `pandas` - ось підказка, які методи можуть допомогти вам виконати це завдання\n",
    "\n",
    "- pandas.DataFrame.info()\n",
    "- pandas.DataFrame.dtypes\n",
    "- pandas.DataFrame.loc[...]\n",
    "- pandas.DataFrame.select_dtypes(...)\n",
    "- pandas.Series.unique()\n",
    "- pandas.Series.nunique()\n",
    "\n",
    "Детальніше ознайомитись з кожним ви можете в [документації](https://pandas.pydata.org/docs/reference/frame.html), або написати в окремій клітинці знак питання і назву методу (тільки приберіть це перед здачею, бо перегляд документації - не допомагає зрозуміти дані і хід думок, а Ваша робота - це як презентація замовнику зробленої задачі).\n"
   ],
   "metadata": {
    "id": "BlayjhivF7Ha"
   }
  },
  {
   "cell_type": "code",
   "source": "cars_df.info()",
   "metadata": {
    "id": "a9bTpxKtfL7H",
    "ExecuteTime": {
     "end_time": "2025-06-15T09:47:48.900314Z",
     "start_time": "2025-06-15T09:47:48.894751Z"
    }
   },
   "outputs": [
    {
     "name": "stdout",
     "output_type": "stream",
     "text": [
      "<class 'pandas.core.frame.DataFrame'>\n",
      "RangeIndex: 100 entries, 0 to 99\n",
      "Data columns (total 13 columns):\n",
      " #   Column             Non-Null Count  Dtype \n",
      "---  ------             --------------  ----- \n",
      " 0   Car_ID             100 non-null    int64 \n",
      " 1   Brand              100 non-null    object\n",
      " 2   Model              100 non-null    object\n",
      " 3   Year               100 non-null    int64 \n",
      " 4   Kilometers_Driven  100 non-null    int64 \n",
      " 5   Fuel_Type          100 non-null    object\n",
      " 6   Transmission       100 non-null    object\n",
      " 7   Owner_Type         100 non-null    object\n",
      " 8   Mileage            100 non-null    int64 \n",
      " 9   Engine             100 non-null    int64 \n",
      " 10  Power              100 non-null    int64 \n",
      " 11  Seats              100 non-null    int64 \n",
      " 12  Price              100 non-null    int64 \n",
      "dtypes: int64(8), object(5)\n",
      "memory usage: 10.3+ KB\n"
     ]
    }
   ],
   "execution_count": 38
  },
  {
   "metadata": {
    "ExecuteTime": {
     "end_time": "2025-06-15T09:47:49.083545Z",
     "start_time": "2025-06-15T09:47:49.078129Z"
    }
   },
   "cell_type": "code",
   "source": "cars_df.nunique()",
   "outputs": [
    {
     "data": {
      "text/plain": [
       "Car_ID               100\n",
       "Brand                 11\n",
       "Model                 58\n",
       "Year                   6\n",
       "Kilometers_Driven     18\n",
       "Fuel_Type              2\n",
       "Transmission           2\n",
       "Owner_Type             3\n",
       "Mileage               15\n",
       "Engine                36\n",
       "Power                 40\n",
       "Seats                  3\n",
       "Price                 31\n",
       "dtype: int64"
      ]
     },
     "execution_count": 39,
     "metadata": {},
     "output_type": "execute_result"
    }
   ],
   "execution_count": 39
  },
  {
   "metadata": {
    "ExecuteTime": {
     "end_time": "2025-06-15T09:47:49.207912Z",
     "start_time": "2025-06-15T09:47:49.202143Z"
    }
   },
   "cell_type": "code",
   "source": [
    "print(\"=== Value types inside object columns ===\")\n",
    "for col in cars_df.select_dtypes(include='object').columns:\n",
    "    print(f\"\\nColumn: {col}\")\n",
    "    print(cars_df[col].apply(type).value_counts())"
   ],
   "outputs": [
    {
     "name": "stdout",
     "output_type": "stream",
     "text": [
      "=== Value types inside object columns ===\n",
      "\n",
      "Column: Brand\n",
      "Brand\n",
      "<class 'str'>    100\n",
      "Name: count, dtype: int64\n",
      "\n",
      "Column: Model\n",
      "Model\n",
      "<class 'str'>    100\n",
      "Name: count, dtype: int64\n",
      "\n",
      "Column: Fuel_Type\n",
      "Fuel_Type\n",
      "<class 'str'>    100\n",
      "Name: count, dtype: int64\n",
      "\n",
      "Column: Transmission\n",
      "Transmission\n",
      "<class 'str'>    100\n",
      "Name: count, dtype: int64\n",
      "\n",
      "Column: Owner_Type\n",
      "Owner_Type\n",
      "<class 'str'>    100\n",
      "Name: count, dtype: int64\n"
     ]
    }
   ],
   "execution_count": 40
  },
  {
   "metadata": {
    "ExecuteTime": {
     "end_time": "2025-06-15T09:47:49.375277Z",
     "start_time": "2025-06-15T09:47:49.371042Z"
    }
   },
   "cell_type": "code",
   "source": [
    "print(\"\\n=== Sample unique values per object column ===\")\n",
    "for col in cars_df.select_dtypes(include='object').columns:\n",
    "    print(f\"\\nColumn: {col} ({cars_df[col].nunique()} unique values)\")\n",
    "    print(cars_df[col].unique())"
   ],
   "outputs": [
    {
     "name": "stdout",
     "output_type": "stream",
     "text": [
      "\n",
      "=== Sample unique values per object column ===\n",
      "\n",
      "Column: Brand (11 unique values)\n",
      "['Toyota' 'Honda' 'Ford' 'Maruti' 'Hyundai' 'Tata' 'Mahindra' 'Volkswagen'\n",
      " 'Audi' 'BMW' 'Mercedes']\n",
      "\n",
      "Column: Model (58 unique values)\n",
      "['Corolla' 'Civic' 'Mustang' 'Swift' 'Sonata' 'Nexon' 'Scorpio' 'Polo'\n",
      " 'A4' 'X1' 'C-Class' 'Endeavour' 'Creta' 'Harrier' 'Ertiga' 'City'\n",
      " 'Tiguan' 'Q3' '5 Series' 'GLC' 'Innova' 'Figo' 'Verna' 'Altroz' 'Thar'\n",
      " 'Passat' 'A6' 'X3' 'E-Class' 'Fortuner' 'Aspire' 'Elantra' 'Safari'\n",
      " 'Vitara' 'WR-V' 'Ameo' 'A3' '7 Series' 'GLE' 'Yaris' 'Ranger' 'Santro'\n",
      " 'Tigor' 'S-Cross' 'BR-V' 'T-Roc' 'Q7' 'X5' 'GLA' 'Camry' 'Venue' 'Tiago'\n",
      " 'XUV300' 'Vento' 'A5' '3 Series' 'Innova Crysta' 'EcoSport']\n",
      "\n",
      "Column: Fuel_Type (2 unique values)\n",
      "['Petrol' 'Diesel']\n",
      "\n",
      "Column: Transmission (2 unique values)\n",
      "['Manual' 'Automatic']\n",
      "\n",
      "Column: Owner_Type (3 unique values)\n",
      "['First' 'Second' 'Third']\n"
     ]
    }
   ],
   "execution_count": 41
  },
  {
   "metadata": {},
   "cell_type": "markdown",
   "source": [
    "### Column Type Summary\n",
    "\n",
    "There are 12 relevant features in the dataset (excluding `Car_ID` which is an identifier). Among them:\n",
    "\n",
    "- **5 categorical columns**:\n",
    "  - **2 binary**: `Fuel_Type`, `Transmission`\n",
    "  - **2 multicategorical (no inherent order)**: `Brand`, `Model`\n",
    "  - **1 multicategorical with ordinal relationship**: `Owner_Type` (e.g., First < Second < Third)\n",
    "\n",
    "- **7 numerical columns with natural ordering**:\n",
    "  - `Year`, `Kilometers_Driven`, `Mileage`, `Engine`, `Power`, `Seats`, `Price`\n",
    "\n",
    "The `Car_ID` column is a unique identifier and does not hold analytical value.\n"
   ]
  },
  {
   "cell_type": "markdown",
   "source": [
    "**Завдання 3**. Розділіть дані на тренувальні і тест. Відведіть в тест 20%, поставте `random_state=12`. Ми будемо передбачати колонку `Price` - тож, вона є цільовою змінною. В результаті у Вас має бути 4 набори даних `X_train, X_test, y_train, y_test`.\n",
    "\n",
    "Надалі ми всюди тренуємо методи для кодування, масштабування та саму модель тільки на тренувальних даних X_train (та y_train для моделі), а на тестувальних лише використовуємо вже навчені методи для кодування, масштабування і модель викликаючи в них `transform()` (для методів обробки даних) або `predict()` (для моделі).\n",
    "\n",
    "І так само треба робити завжди."
   ],
   "metadata": {
    "id": "feZvNdSXO-tn"
   }
  },
  {
   "cell_type": "code",
   "source": [
    "all_indices = cars_df.index\n",
    "target_col = 'Price'\n",
    "feature_cols = [col for col in cars_df.columns if col not in [target_col, 'Car_ID']]\n",
    "train_idx, test_idx = train_test_split(all_indices, test_size=0.2, random_state=12)"
   ],
   "metadata": {
    "id": "lkugT6mmfM2p",
    "ExecuteTime": {
     "end_time": "2025-06-15T09:47:49.431521Z",
     "start_time": "2025-06-15T09:47:49.427840Z"
    }
   },
   "outputs": [],
   "execution_count": 42
  },
  {
   "metadata": {
    "ExecuteTime": {
     "end_time": "2025-06-15T09:47:49.482558Z",
     "start_time": "2025-06-15T09:47:49.477038Z"
    }
   },
   "cell_type": "code",
   "source": [
    "print(cars_df.loc[test_idx, feature_cols].head())\n",
    "print(\"Mean price in training set:\", cars_df.loc[train_idx, target_col].mean())"
   ],
   "outputs": [
    {
     "name": "stdout",
     "output_type": "stream",
     "text": [
      "         Brand   Model  Year  Kilometers_Driven Fuel_Type Transmission  \\\n",
      "17        Audi      Q3  2016              38000    Petrol    Automatic   \n",
      "41     Hyundai  Santro  2019              26000    Petrol       Manual   \n",
      "92  Volkswagen   Vento  2017              32000    Petrol       Manual   \n",
      "14      Maruti  Ertiga  2020              18000    Petrol       Manual   \n",
      "68        Ford  Aspire  2019              26000    Petrol       Manual   \n",
      "\n",
      "   Owner_Type  Mileage  Engine  Power  Seats  \n",
      "17     Second       15    1395    148      5  \n",
      "41      Third       20    1086     68      5  \n",
      "92     Second       18    1598    103      5  \n",
      "14      First       19    1462    103      7  \n",
      "68      Third       20    1194     94      5  \n",
      "Mean price in training set: 1680000.0\n"
     ]
    }
   ],
   "execution_count": 43
  },
  {
   "cell_type": "markdown",
   "source": [
    "**Завдання 4**. Кодуємо категоріальні колонки.\n",
    "\n",
    "1. Закодуйте колонки з бінарними значеннями `Fuel_Type` і `Transmission` так, аби вони були у чисельному представленні і містили лише 0 так 1. Приклад був у лекції. Значення 1 нехай буде у категорії, яка містить більше значень в колонці.\n",
    "\n",
    "2. Закодуйте колонку `Brand` з використанням `sklearn.preprocessing.OneHotEncoder` аналогічно до того, як ми робили це в лекції. Увага! Ми робимо виклик методу `Encoder.fit()` на тренувальних даних `X_train`, а на тестувальних тільки викликаємо `Encoder.transform()`. Додайте закодовані значення в набори даних `X_train`, `X_test`.\n",
    "\n",
    "3. Колонку `Owner_Type` з використанням `sklearn.preprocessing.OrdinalEncoder` я закодую для вас. Проаналізуйте, що відбувається.\n",
    "\n",
    "Колонка `Model` містять забагато значень для кодування в тому вигляді, як вона є зараз, з огляду на невелику кількість даних. Якщо ви бачите, як можна згрупувати значення в цій колонці скоротивши кількість унікальних значень до 3-5, то можете виконати ще цю трансформацію, використати цю колонку в моделі і отримати додаткову практику і бал, якщо все буде зроблено правильно. А якщо неправильно - то фідбек на Вашу роботу :)"
   ],
   "metadata": {
    "id": "EvzXSbIxKBwR"
   }
  },
  {
   "metadata": {
    "ExecuteTime": {
     "end_time": "2025-06-15T09:47:49.554768Z",
     "start_time": "2025-06-15T09:47:49.550097Z"
    }
   },
   "cell_type": "code",
   "source": [
    "binary_cols = ['Fuel_Type', 'Transmission']\n",
    "\n",
    "for col in binary_cols:\n",
    "    most_common = cars_df[col].value_counts().idxmax()\n",
    "    bin_col_name = col + '_bin'\n",
    "    cars_df.loc[:, bin_col_name] = (cars_df[col] == most_common).astype(int)\n",
    "\n",
    "    feature_cols.remove(col)\n",
    "    feature_cols.append(bin_col_name)"
   ],
   "outputs": [],
   "execution_count": 44
  },
  {
   "metadata": {
    "ExecuteTime": {
     "end_time": "2025-06-15T09:47:49.602047Z",
     "start_time": "2025-06-15T09:47:49.597573Z"
    }
   },
   "cell_type": "code",
   "source": [
    "cars_df.loc[:, 'Brand_Model'] = cars_df['Brand'] + '_' + cars_df['Model']\n",
    "\n",
    "brand_model_freq = cars_df.loc[train_idx, 'Brand_Model'].value_counts(normalize=True)\n",
    "cars_df.loc[:, 'Brand_Model_freq'] = cars_df['Brand_Model'].map(brand_model_freq).fillna(0)\n",
    "\n",
    "feature_cols.remove('Brand')\n",
    "feature_cols.remove('Model')\n",
    "feature_cols.append('Brand_Model_freq')"
   ],
   "outputs": [],
   "execution_count": 45
  },
  {
   "cell_type": "code",
   "source": [
    "ordenc = OrdinalEncoder(categories=[['First', 'Second', 'Third']])\n",
    "ordenc.fit(cars_df.loc[train_idx, ['Owner_Type']])\n",
    "\n",
    "cars_df.loc[train_idx, 'Owner_Type_Codes'] = ordenc.transform(cars_df.loc[train_idx, ['Owner_Type']])\n",
    "cars_df.loc[test_idx, 'Owner_Type_Codes'] = ordenc.transform(cars_df.loc[test_idx, ['Owner_Type']])\n",
    "\n",
    "feature_cols.remove('Owner_Type')\n",
    "feature_cols.append('Owner_Type_Codes')"
   ],
   "metadata": {
    "id": "tU3uA6kNOkzb",
    "ExecuteTime": {
     "end_time": "2025-06-15T09:47:49.652625Z",
     "start_time": "2025-06-15T09:47:49.646360Z"
    }
   },
   "outputs": [],
   "execution_count": 46
  },
  {
   "cell_type": "markdown",
   "source": [
    "Очікуваний результат після трансформацій:"
   ],
   "metadata": {
    "id": "P-woc2oUSZu4"
   }
  },
  {
   "cell_type": "code",
   "source": [
    "pd.set_option('display.max_columns', 100)\n",
    "\n",
    "display(cars_df.loc[train_idx, feature_cols].head())\n",
    "display(cars_df.loc[test_idx, feature_cols].head())"
   ],
   "metadata": {
    "colab": {
     "base_uri": "https://localhost:8080/",
     "height": 432
    },
    "id": "brxPGShISEhz",
    "executionInfo": {
     "status": "ok",
     "timestamp": 1715861023554,
     "user_tz": -120,
     "elapsed": 423,
     "user": {
      "displayName": "Hanna Pylieva",
      "userId": "11922761571498418088"
     }
    },
    "outputId": "ae807da8-6694-4951-8c8c-69d1e96733d0",
    "ExecuteTime": {
     "end_time": "2025-06-15T09:47:49.708337Z",
     "start_time": "2025-06-15T09:47:49.695840Z"
    }
   },
   "outputs": [
    {
     "data": {
      "text/plain": [
       "    Year  Kilometers_Driven  Mileage  Engine  Power  Seats  Fuel_Type_bin  \\\n",
       "83  2019              22000       18    1498    148      5              1   \n",
       "55  2018              28000       17    1968    187      5              0   \n",
       "26  2018              28000       15    1984    241      5              1   \n",
       "54  2017              32000       18    1598    103      5              1   \n",
       "19  2017              26000       12    1991    241      5              1   \n",
       "\n",
       "    Transmission_bin  Brand_Model_freq  Owner_Type_Codes  \n",
       "83                 1            0.0250               1.0  \n",
       "55                 1            0.0250               0.0  \n",
       "26                 1            0.0250               0.0  \n",
       "54                 0            0.0125               1.0  \n",
       "19                 1            0.0125               1.0  "
      ],
      "text/html": [
       "<div>\n",
       "<style scoped>\n",
       "    .dataframe tbody tr th:only-of-type {\n",
       "        vertical-align: middle;\n",
       "    }\n",
       "\n",
       "    .dataframe tbody tr th {\n",
       "        vertical-align: top;\n",
       "    }\n",
       "\n",
       "    .dataframe thead th {\n",
       "        text-align: right;\n",
       "    }\n",
       "</style>\n",
       "<table border=\"1\" class=\"dataframe\">\n",
       "  <thead>\n",
       "    <tr style=\"text-align: right;\">\n",
       "      <th></th>\n",
       "      <th>Year</th>\n",
       "      <th>Kilometers_Driven</th>\n",
       "      <th>Mileage</th>\n",
       "      <th>Engine</th>\n",
       "      <th>Power</th>\n",
       "      <th>Seats</th>\n",
       "      <th>Fuel_Type_bin</th>\n",
       "      <th>Transmission_bin</th>\n",
       "      <th>Brand_Model_freq</th>\n",
       "      <th>Owner_Type_Codes</th>\n",
       "    </tr>\n",
       "  </thead>\n",
       "  <tbody>\n",
       "    <tr>\n",
       "      <th>83</th>\n",
       "      <td>2019</td>\n",
       "      <td>22000</td>\n",
       "      <td>18</td>\n",
       "      <td>1498</td>\n",
       "      <td>148</td>\n",
       "      <td>5</td>\n",
       "      <td>1</td>\n",
       "      <td>1</td>\n",
       "      <td>0.0250</td>\n",
       "      <td>1.0</td>\n",
       "    </tr>\n",
       "    <tr>\n",
       "      <th>55</th>\n",
       "      <td>2018</td>\n",
       "      <td>28000</td>\n",
       "      <td>17</td>\n",
       "      <td>1968</td>\n",
       "      <td>187</td>\n",
       "      <td>5</td>\n",
       "      <td>0</td>\n",
       "      <td>1</td>\n",
       "      <td>0.0250</td>\n",
       "      <td>0.0</td>\n",
       "    </tr>\n",
       "    <tr>\n",
       "      <th>26</th>\n",
       "      <td>2018</td>\n",
       "      <td>28000</td>\n",
       "      <td>15</td>\n",
       "      <td>1984</td>\n",
       "      <td>241</td>\n",
       "      <td>5</td>\n",
       "      <td>1</td>\n",
       "      <td>1</td>\n",
       "      <td>0.0250</td>\n",
       "      <td>0.0</td>\n",
       "    </tr>\n",
       "    <tr>\n",
       "      <th>54</th>\n",
       "      <td>2017</td>\n",
       "      <td>32000</td>\n",
       "      <td>18</td>\n",
       "      <td>1598</td>\n",
       "      <td>103</td>\n",
       "      <td>5</td>\n",
       "      <td>1</td>\n",
       "      <td>0</td>\n",
       "      <td>0.0125</td>\n",
       "      <td>1.0</td>\n",
       "    </tr>\n",
       "    <tr>\n",
       "      <th>19</th>\n",
       "      <td>2017</td>\n",
       "      <td>26000</td>\n",
       "      <td>12</td>\n",
       "      <td>1991</td>\n",
       "      <td>241</td>\n",
       "      <td>5</td>\n",
       "      <td>1</td>\n",
       "      <td>1</td>\n",
       "      <td>0.0125</td>\n",
       "      <td>1.0</td>\n",
       "    </tr>\n",
       "  </tbody>\n",
       "</table>\n",
       "</div>"
      ]
     },
     "metadata": {},
     "output_type": "display_data"
    },
    {
     "data": {
      "text/plain": [
       "    Year  Kilometers_Driven  Mileage  Engine  Power  Seats  Fuel_Type_bin  \\\n",
       "17  2016              38000       15    1395    148      5              1   \n",
       "41  2019              26000       20    1086     68      5              1   \n",
       "92  2017              32000       18    1598    103      5              1   \n",
       "14  2020              18000       19    1462    103      7              1   \n",
       "68  2019              26000       20    1194     94      5              1   \n",
       "\n",
       "    Transmission_bin  Brand_Model_freq  Owner_Type_Codes  \n",
       "17                 1            0.0000               1.0  \n",
       "41                 0            0.0125               2.0  \n",
       "92                 0            0.0125               1.0  \n",
       "14                 0            0.0000               0.0  \n",
       "68                 0            0.0125               2.0  "
      ],
      "text/html": [
       "<div>\n",
       "<style scoped>\n",
       "    .dataframe tbody tr th:only-of-type {\n",
       "        vertical-align: middle;\n",
       "    }\n",
       "\n",
       "    .dataframe tbody tr th {\n",
       "        vertical-align: top;\n",
       "    }\n",
       "\n",
       "    .dataframe thead th {\n",
       "        text-align: right;\n",
       "    }\n",
       "</style>\n",
       "<table border=\"1\" class=\"dataframe\">\n",
       "  <thead>\n",
       "    <tr style=\"text-align: right;\">\n",
       "      <th></th>\n",
       "      <th>Year</th>\n",
       "      <th>Kilometers_Driven</th>\n",
       "      <th>Mileage</th>\n",
       "      <th>Engine</th>\n",
       "      <th>Power</th>\n",
       "      <th>Seats</th>\n",
       "      <th>Fuel_Type_bin</th>\n",
       "      <th>Transmission_bin</th>\n",
       "      <th>Brand_Model_freq</th>\n",
       "      <th>Owner_Type_Codes</th>\n",
       "    </tr>\n",
       "  </thead>\n",
       "  <tbody>\n",
       "    <tr>\n",
       "      <th>17</th>\n",
       "      <td>2016</td>\n",
       "      <td>38000</td>\n",
       "      <td>15</td>\n",
       "      <td>1395</td>\n",
       "      <td>148</td>\n",
       "      <td>5</td>\n",
       "      <td>1</td>\n",
       "      <td>1</td>\n",
       "      <td>0.0000</td>\n",
       "      <td>1.0</td>\n",
       "    </tr>\n",
       "    <tr>\n",
       "      <th>41</th>\n",
       "      <td>2019</td>\n",
       "      <td>26000</td>\n",
       "      <td>20</td>\n",
       "      <td>1086</td>\n",
       "      <td>68</td>\n",
       "      <td>5</td>\n",
       "      <td>1</td>\n",
       "      <td>0</td>\n",
       "      <td>0.0125</td>\n",
       "      <td>2.0</td>\n",
       "    </tr>\n",
       "    <tr>\n",
       "      <th>92</th>\n",
       "      <td>2017</td>\n",
       "      <td>32000</td>\n",
       "      <td>18</td>\n",
       "      <td>1598</td>\n",
       "      <td>103</td>\n",
       "      <td>5</td>\n",
       "      <td>1</td>\n",
       "      <td>0</td>\n",
       "      <td>0.0125</td>\n",
       "      <td>1.0</td>\n",
       "    </tr>\n",
       "    <tr>\n",
       "      <th>14</th>\n",
       "      <td>2020</td>\n",
       "      <td>18000</td>\n",
       "      <td>19</td>\n",
       "      <td>1462</td>\n",
       "      <td>103</td>\n",
       "      <td>7</td>\n",
       "      <td>1</td>\n",
       "      <td>0</td>\n",
       "      <td>0.0000</td>\n",
       "      <td>0.0</td>\n",
       "    </tr>\n",
       "    <tr>\n",
       "      <th>68</th>\n",
       "      <td>2019</td>\n",
       "      <td>26000</td>\n",
       "      <td>20</td>\n",
       "      <td>1194</td>\n",
       "      <td>94</td>\n",
       "      <td>5</td>\n",
       "      <td>1</td>\n",
       "      <td>0</td>\n",
       "      <td>0.0125</td>\n",
       "      <td>2.0</td>\n",
       "    </tr>\n",
       "  </tbody>\n",
       "</table>\n",
       "</div>"
      ]
     },
     "metadata": {},
     "output_type": "display_data"
    }
   ],
   "execution_count": 47
  },
  {
   "metadata": {},
   "cell_type": "markdown",
   "source": [
    "### Description\n",
    "\n",
    "Several preprocessing steps were applied to prepare the dataset for linear regression. All transformations were based only on the **training data**, and updates were applied using `.loc` and index-based logic to maintain consistency within the original DataFrame.\n",
    "\n",
    "#### Binary Encoding\n",
    "Binary encoding was applied to the columns `Fuel_Type` and `Transmission` as instructed. Each column was converted into a numerical representation using `0` and `1`.\n",
    "\n",
    "#### Frequency Encoding for Combined Feature: `Brand + Model`\n",
    "Since the `Model` is determined by the `Brand`, a new feature `Brand_Model` was created by combining both columns. Then, frequency encoding was applied to this combined feature based on its relative frequency in the training set. This allows the model to capture the typicality of brand-model combinations without inflating dimensionality.\n",
    "\n",
    "#### Ordinal Encoding of `Owner_Type`\n",
    "The `Owner_Type` column, containing the values `First`, `Second`, and `Third`, was encoded using `OrdinalEncoder` with an explicitly defined order. This preserves the ordinal nature of the data for downstream modeling.\n",
    "\n",
    "---\n",
    "\n",
    "#### One-Hot Encoding Skipped for `Brand`\n",
    "\n",
    "One-hot encoding was intentionally skipped for the `Brand` column despite its moderate number of unique values.\n",
    "Instead, frequency encoding of the combined `Brand_Model` was used to:\n",
    "- keep the number of features smaller,\n",
    "- avoid potential issues in linear regression caused by many related dummy variables,\n",
    "- and still reflect how common each brand-model combination is in the data.\n",
    "\n",
    "---\n",
    "\n",
    "#### Final Feature Set\n",
    "\n",
    "As a result of these transformations, the updated `feature_cols` list includes:\n",
    "- Numeric features: `Year`, `Kilometers_Driven`, `Mileage`, `Engine`, `Power`, `Seats`\n",
    "- Binary encoded flags: `Fuel_Type_bin`, `Transmission_bin`\n",
    "- Frequency encoded feature: `Brand_Model_freq`\n",
    "- Ordinal encoded feature: `Owner_Type_Codes`\n"
   ]
  },
  {
   "cell_type": "markdown",
   "source": [
    "**Завдання 5.** Оберіть лише числові колонки з `X_train` (можна для цього використати `pandas.select_dtypes(...)` або видалити всі НЕчислові дані, вони нам вже не потрібні), обʼєднайте ці дані з `y_train` (зручно з `pandas.concat([df1, df2], axis=1)`), побудуйте для цих даних матрицю кореляції і проаналізуйте її. Напишіть висновок, які колонки корелюють з цільовою змінною на більш ніж 0.5 за модулем (може бути як позитивна, так і негативна кореляція)."
   ],
   "metadata": {
    "id": "wHDyZp9QSnsF"
   }
  },
  {
   "cell_type": "code",
   "source": [
    "X_train_num = cars_df.loc[train_idx, feature_cols].select_dtypes(include='number')\n",
    "\n",
    "corr_df = pd.concat([X_train_num, cars_df.loc[train_idx, 'Price']], axis=1)\n",
    "\n",
    "corr_matrix = corr_df.corr(numeric_only=True)\n",
    "mask = corr_matrix.abs() >= 0.5\n",
    "\n",
    "plt.figure(figsize=(10, 8))\n",
    "sns.heatmap(data=corr_matrix.where(mask), annot=True, fmt=\".2f\", cmap='RdYlGn', cbar = True, center=0)\n",
    "plt.title(\"Correlation matrix with target 'Price'\")\n",
    "plt.tight_layout()\n",
    "plt.show()\n",
    "\n",
    "target_corr = corr_matrix['Price'].drop('Price')\n",
    "high_corr_features = target_corr[abs(target_corr) > 0.5]\n",
    "print(\"\\nFeatures with correlation > 0.5 or < -0.5 with Price:\")\n",
    "print(high_corr_features.sort_values(ascending=False))"
   ],
   "metadata": {
    "id": "0EIv0cVVf05Z",
    "ExecuteTime": {
     "end_time": "2025-06-15T09:47:50.035506Z",
     "start_time": "2025-06-15T09:47:49.764064Z"
    }
   },
   "outputs": [
    {
     "data": {
      "text/plain": [
       "<Figure size 1000x800 with 2 Axes>"
      ],
      "image/png": "[encoded data removed]"
     },
     "metadata": {},
     "output_type": "display_data"
    },
    {
     "name": "stdout",
     "output_type": "stream",
     "text": [
      "\n",
      "Features with correlation > 0.5 or < -0.5 with Price:\n",
      "Power               0.849137\n",
      "Engine              0.710561\n",
      "Transmission_bin    0.680731\n",
      "Mileage            -0.638404\n",
      "Name: Price, dtype: float64\n"
     ]
    }
   ],
   "execution_count": 48
  },
  {
   "cell_type": "markdown",
   "source": [
    "**Завдання 6**. Тренуємо лінійну регресію.\n",
    "0. Видаліть усі НЕчислові колонки з `X_train`, `X_test`, якщо ще цього не зробили.\n",
    "1. Натренуйте лінійну регресую з `sklearn` на усіх числових даних тренувального набору `X_train`.\n",
    "2. Зробіть передбачення на  `X_train`, `X_test`. Знайдіть і виведіть root mean squared error відхилення передбачення від справжніх значень цільової змінної.\n",
    "3. Побудуйте графік розсіювання передбачень проти реальних даних цільової змінної для тренувального і тестувального наборів даних. Що можете сказати про якість моделі?"
   ],
   "metadata": {
    "id": "G7BZ3pD-USgU"
   }
  },
  {
   "cell_type": "code",
   "source": [
    "X_train = cars_df.loc[train_idx, feature_cols]\n",
    "X_test = cars_df.loc[test_idx, feature_cols]\n",
    "\n",
    "y_train = cars_df.loc[train_idx, 'Price']\n",
    "y_test = cars_df.loc[test_idx, 'Price']\n",
    "\n",
    "model = LinearRegression()\n",
    "model.fit(X_train, y_train)\n",
    "\n",
    "y_train_pred = model.predict(X_train)\n",
    "y_test_pred = model.predict(X_test)\n",
    "\n",
    "def check_model_metrix(y_tr, y_te, y_tr_pred, y_te_pred):\n",
    "    rmse_train = root_mean_squared_error(y_tr, y_tr_pred)\n",
    "    rmse_test = root_mean_squared_error(y_te, y_te_pred)\n",
    "\n",
    "    r2_train = r2_score(y_tr, y_tr_pred)\n",
    "    r2_test = r2_score(y_te, y_te_pred)\n",
    "\n",
    "    print(f\"Train RMSE: {rmse_train:.2f}\")\n",
    "    print(f\"Test RMSE:  {rmse_test:.2f}\")\n",
    "    print(f\"Train R^2:   {r2_train:.4f}\")\n",
    "    print(f\"Test R^2:   {r2_test:.4f}\")\n",
    "\n",
    "check_model_metrix(y_train, y_test, y_train_pred, y_test_pred)"
   ],
   "metadata": {
    "id": "SElx21B4f3VY",
    "ExecuteTime": {
     "end_time": "2025-06-15T09:47:50.089178Z",
     "start_time": "2025-06-15T09:47:50.078930Z"
    }
   },
   "outputs": [
    {
     "name": "stdout",
     "output_type": "stream",
     "text": [
      "Train RMSE: 421319.17\n",
      "Test RMSE:  323098.24\n",
      "Train R^2:   0.8339\n",
      "Test R^2:   0.7692\n"
     ]
    }
   ],
   "execution_count": 49
  },
  {
   "metadata": {
    "ExecuteTime": {
     "end_time": "2025-06-15T09:47:50.431976Z",
     "start_time": "2025-06-15T09:47:50.133040Z"
    }
   },
   "cell_type": "code",
   "source": [
    "def check_model_metrix(y_tr, y_te, y_tr_pred, y_te_pred):\n",
    "    rmse_train = root_mean_squared_error(y_tr, y_tr_pred)\n",
    "    rmse_test = root_mean_squared_error(y_te, y_te_pred)\n",
    "\n",
    "    r2_train = r2_score(y_tr, y_tr_pred)\n",
    "    r2_test = r2_score(y_te, y_te_pred)\n",
    "\n",
    "    print(f\"Train RMSE: {rmse_train:.2f}\")\n",
    "    print(f\"Test RMSE:  {rmse_test:.2f}\")\n",
    "    print(f\"Train R^2:   {r2_train:.4f}\")\n",
    "    print(f\"Test R^2:   {r2_test:.4f}\")\n",
    "\n",
    "check_model_metrix(y_train, y_test, y_train_pred, y_test_pred)\n",
    "\n",
    "def build_model_plot(y_tr, y_te, y_tr_pred, y_te_pred):\n",
    "    plt.figure(figsize=(14, 6))\n",
    "\n",
    "    plt.subplot(1, 2, 1)\n",
    "    plt.scatter(y_tr, y_tr_pred, alpha=0.5, label='Train')\n",
    "    plt.plot([y_tr.min(), y_tr.max()], [y_tr.min(), y_tr.max()], 'r--')\n",
    "    plt.xlabel(\"Actual Price\")\n",
    "    plt.ylabel(\"Predicted Price\")\n",
    "    plt.title(\"Train Set: Actual vs Predicted\")\n",
    "    plt.grid(True)\n",
    "\n",
    "    plt.subplot(1, 2, 2)\n",
    "    plt.scatter(y_te, y_te_pred, alpha=0.5, label='Test')\n",
    "    plt.plot([y_te.min(), y_te.max()], [y_te.min(), y_te.max()], 'r--')\n",
    "    plt.xlabel(\"Actual Price\")\n",
    "    plt.ylabel(\"Predicted Price\")\n",
    "    plt.title(\"Test Set: Actual vs Predicted\")\n",
    "    plt.grid(True)\n",
    "\n",
    "    plt.tight_layout()\n",
    "    plt.show()\n",
    "\n",
    "build_model_plot(y_train, y_test, y_train_pred, y_test_pred)"
   ],
   "outputs": [
    {
     "name": "stdout",
     "output_type": "stream",
     "text": [
      "Train RMSE: 421319.17\n",
      "Test RMSE:  323098.24\n",
      "Train R^2:   0.8339\n",
      "Test R^2:   0.7692\n"
     ]
    },
    {
     "data": {
      "text/plain": [
       "<Figure size 1400x600 with 2 Axes>"
      ],
      "image/png": "[encoded data removed]"
     },
     "metadata": {},
     "output_type": "display_data"
    }
   ],
   "execution_count": 50
  },
  {
   "cell_type": "markdown",
   "source": [
    "**Завдання 7**. Ми хочемо проаналізувати як впливає кожен чинник на цілову змінну. Для цього давайте промасштабуємо наші дані.\n",
    "1. Зробіть масштабування незалежних змінних використовуючи `StandardScaler`. Тренуємо на тренувальних даних, а на тестувальних лише викликаємо `transform`.\n",
    "\n",
    "2. Натренуйте модель на відмасштабованих даних і перегляньте коефіцієнти моделі. Які колонки є найвпливовішими на формування передбачення з точки зору коефіцієнтів? Проаналізуйте напрям дії найважливіших коефіцієнтів. Чи це логічно з точки зору значення відповідних змінних, що вони впливають на цільову змінну саме в напрямі збільшення / зменшення?"
   ],
   "metadata": {
    "id": "0LcACfQ3W3VP"
   }
  },
  {
   "cell_type": "code",
   "source": [
    "scaler = StandardScaler()\n",
    "X_train_scaled = scaler.fit_transform(X_train)\n",
    "X_test_scaled = scaler.transform(X_test)\n",
    "\n",
    "model_scaled = LinearRegression()\n",
    "model_scaled.fit(X_train_scaled, y_train)\n",
    "\n",
    "y_scaled_train_pred = model_scaled.predict(X_train_scaled)\n",
    "y_scaled_test_pred = model_scaled.predict(X_test_scaled)\n",
    "\n",
    "check_model_metrix(y_train, y_test, y_scaled_train_pred, y_scaled_test_pred)"
   ],
   "metadata": {
    "id": "HA-l3vUWf6Af",
    "ExecuteTime": {
     "end_time": "2025-06-15T09:47:50.480719Z",
     "start_time": "2025-06-15T09:47:50.472878Z"
    }
   },
   "outputs": [
    {
     "name": "stdout",
     "output_type": "stream",
     "text": [
      "Train RMSE: 421319.17\n",
      "Test RMSE:  323098.24\n",
      "Train R^2:   0.8339\n",
      "Test R^2:   0.7692\n"
     ]
    }
   ],
   "execution_count": 51
  },
  {
   "metadata": {
    "ExecuteTime": {
     "end_time": "2025-06-15T09:47:50.814467Z",
     "start_time": "2025-06-15T09:47:50.530803Z"
    }
   },
   "cell_type": "code",
   "source": "build_model_plot(y_train, y_test, y_scaled_train_pred, y_scaled_test_pred)",
   "outputs": [
    {
     "data": {
      "text/plain": [
       "<Figure size 1400x600 with 2 Axes>"
      ],
      "image/png": "[encoded data removed]"
     },
     "metadata": {},
     "output_type": "display_data"
    }
   ],
   "execution_count": 52
  },
  {
   "metadata": {
    "ExecuteTime": {
     "end_time": "2025-06-15T09:47:50.831425Z",
     "start_time": "2025-06-15T09:47:50.819472Z"
    }
   },
   "cell_type": "code",
   "source": [
    "weights_df = pd.DataFrame({\n",
    "    'feature': np.append(feature_cols, 'intercept'),\n",
    "    'original_model': np.append(model.coef_, model.intercept_),\n",
    "    'scaled_model': np.append(model_scaled.coef_, model_scaled.intercept_)\n",
    "})\n",
    "\n",
    "weights_df['abs_scaled'] = weights_df['scaled_model'].abs()\n",
    "\n",
    "weights_df_sorted = weights_df.sort_values(by='abs_scaled', ascending=False)\n",
    "\n",
    "display(weights_df_sorted.round(0))"
   ],
   "outputs": [
    {
     "data": {
      "text/plain": [
       "              feature  original_model  scaled_model  abs_scaled\n",
       "10          intercept     199068160.0     1680000.0   1680000.0\n",
       "4               Power          8324.0      677741.0    677741.0\n",
       "7    Transmission_bin        560883.0      273250.0    273250.0\n",
       "1   Kilometers_Driven           -23.0     -212511.0    212511.0\n",
       "2             Mileage        -55095.0     -187919.0    187919.0\n",
       "6       Fuel_Type_bin       -360845.0     -180366.0    180366.0\n",
       "3              Engine          -233.0     -153097.0    153097.0\n",
       "9    Owner_Type_Codes       -176380.0     -115323.0    115323.0\n",
       "0                Year        -97738.0     -109540.0    109540.0\n",
       "5               Seats        104834.0       77703.0     77703.0\n",
       "8    Brand_Model_freq      -2437541.0      -18090.0     18090.0"
      ],
      "text/html": [
       "<div>\n",
       "<style scoped>\n",
       "    .dataframe tbody tr th:only-of-type {\n",
       "        vertical-align: middle;\n",
       "    }\n",
       "\n",
       "    .dataframe tbody tr th {\n",
       "        vertical-align: top;\n",
       "    }\n",
       "\n",
       "    .dataframe thead th {\n",
       "        text-align: right;\n",
       "    }\n",
       "</style>\n",
       "<table border=\"1\" class=\"dataframe\">\n",
       "  <thead>\n",
       "    <tr style=\"text-align: right;\">\n",
       "      <th></th>\n",
       "      <th>feature</th>\n",
       "      <th>original_model</th>\n",
       "      <th>scaled_model</th>\n",
       "      <th>abs_scaled</th>\n",
       "    </tr>\n",
       "  </thead>\n",
       "  <tbody>\n",
       "    <tr>\n",
       "      <th>10</th>\n",
       "      <td>intercept</td>\n",
       "      <td>199068160.0</td>\n",
       "      <td>1680000.0</td>\n",
       "      <td>1680000.0</td>\n",
       "    </tr>\n",
       "    <tr>\n",
       "      <th>4</th>\n",
       "      <td>Power</td>\n",
       "      <td>8324.0</td>\n",
       "      <td>677741.0</td>\n",
       "      <td>677741.0</td>\n",
       "    </tr>\n",
       "    <tr>\n",
       "      <th>7</th>\n",
       "      <td>Transmission_bin</td>\n",
       "      <td>560883.0</td>\n",
       "      <td>273250.0</td>\n",
       "      <td>273250.0</td>\n",
       "    </tr>\n",
       "    <tr>\n",
       "      <th>1</th>\n",
       "      <td>Kilometers_Driven</td>\n",
       "      <td>-23.0</td>\n",
       "      <td>-212511.0</td>\n",
       "      <td>212511.0</td>\n",
       "    </tr>\n",
       "    <tr>\n",
       "      <th>2</th>\n",
       "      <td>Mileage</td>\n",
       "      <td>-55095.0</td>\n",
       "      <td>-187919.0</td>\n",
       "      <td>187919.0</td>\n",
       "    </tr>\n",
       "    <tr>\n",
       "      <th>6</th>\n",
       "      <td>Fuel_Type_bin</td>\n",
       "      <td>-360845.0</td>\n",
       "      <td>-180366.0</td>\n",
       "      <td>180366.0</td>\n",
       "    </tr>\n",
       "    <tr>\n",
       "      <th>3</th>\n",
       "      <td>Engine</td>\n",
       "      <td>-233.0</td>\n",
       "      <td>-153097.0</td>\n",
       "      <td>153097.0</td>\n",
       "    </tr>\n",
       "    <tr>\n",
       "      <th>9</th>\n",
       "      <td>Owner_Type_Codes</td>\n",
       "      <td>-176380.0</td>\n",
       "      <td>-115323.0</td>\n",
       "      <td>115323.0</td>\n",
       "    </tr>\n",
       "    <tr>\n",
       "      <th>0</th>\n",
       "      <td>Year</td>\n",
       "      <td>-97738.0</td>\n",
       "      <td>-109540.0</td>\n",
       "      <td>109540.0</td>\n",
       "    </tr>\n",
       "    <tr>\n",
       "      <th>5</th>\n",
       "      <td>Seats</td>\n",
       "      <td>104834.0</td>\n",
       "      <td>77703.0</td>\n",
       "      <td>77703.0</td>\n",
       "    </tr>\n",
       "    <tr>\n",
       "      <th>8</th>\n",
       "      <td>Brand_Model_freq</td>\n",
       "      <td>-2437541.0</td>\n",
       "      <td>-18090.0</td>\n",
       "      <td>18090.0</td>\n",
       "    </tr>\n",
       "  </tbody>\n",
       "</table>\n",
       "</div>"
      ]
     },
     "metadata": {},
     "output_type": "display_data"
    }
   ],
   "execution_count": 53
  },
  {
   "metadata": {},
   "cell_type": "markdown",
   "source": [
    "### Summary\n",
    "\n",
    "To evaluate the influence of each feature on price prediction, two linear regression models were trained:\n",
    "\n",
    "1. One on the **original (unscaled) data**.\n",
    "2. Another on **standardized data**, using `StandardScaler` to bring all features to a common scale.\n",
    "\n",
    "#### Most influential features (by absolute value of standardized coefficients):\n",
    "\n",
    "| Feature               | Direction of influence |\n",
    "|------------------------|------------------------|\n",
    "| **Power**              | Positive               |\n",
    "| **Transmission_bin**   | Positive               |\n",
    "| **Kilometers_Driven**  | Negative               |\n",
    "| **Mileage**            | Negative               |\n",
    "| **Fuel_Type_bin**      | Negative               |\n",
    "\n",
    "These features have the strongest impact on predicting car price.\n",
    "- For example, `Power` increases the predicted price as expected.\n",
    "- `Mileage` and `Kilometers_Driven` have negative coefficients, meaning that more usage reduces the value.\n"
   ]
  },
  {
   "cell_type": "markdown",
   "source": [
    "**Завдання 8.** На тих самих відмасштабованих даних натренуйте модель з `statsmodels`. Виведіть звіт і проаналізуйте p-value коефіцієнтів. Які ознаки є стат значущими на рівні значущості 0.05? Напишіть їх список."
   ],
   "metadata": {
    "id": "WNNkfnrHr7wL"
   }
  },
  {
   "cell_type": "code",
   "source": [
    "X_train_scaled_const = sm.add_constant(pd.DataFrame(X_train_scaled, columns=feature_cols, index=y_train.index))\n",
    "\n",
    "ols_model = sm.OLS(y_train, X_train_scaled_const)\n",
    "ols_results = ols_model.fit()\n",
    "\n",
    "print(ols_results.summary())"
   ],
   "metadata": {
    "id": "hcYoViyff7zE",
    "ExecuteTime": {
     "end_time": "2025-06-15T09:47:50.918711Z",
     "start_time": "2025-06-15T09:47:50.906253Z"
    }
   },
   "outputs": [
    {
     "name": "stdout",
     "output_type": "stream",
     "text": [
      "                            OLS Regression Results                            \n",
      "==============================================================================\n",
      "Dep. Variable:                  Price   R-squared:                       0.834\n",
      "Model:                            OLS   Adj. R-squared:                  0.810\n",
      "Method:                 Least Squares   F-statistic:                     34.65\n",
      "Date:                Sun, 15 Jun 2025   Prob (F-statistic):           4.85e-23\n",
      "Time:                        12:47:50   Log-Likelihood:                -1149.6\n",
      "No. Observations:                  80   AIC:                             2321.\n",
      "Df Residuals:                      69   BIC:                             2347.\n",
      "Df Model:                          10                                         \n",
      "Covariance Type:            nonrobust                                         \n",
      "=====================================================================================\n",
      "                        coef    std err          t      P>|t|      [0.025      0.975]\n",
      "-------------------------------------------------------------------------------------\n",
      "const               1.68e+06   5.07e+04     33.122      0.000    1.58e+06    1.78e+06\n",
      "Year              -1.095e+05   8.53e+04     -1.285      0.203    -2.8e+05    6.06e+04\n",
      "Kilometers_Driven -2.125e+05   8.93e+04     -2.380      0.020   -3.91e+05   -3.44e+04\n",
      "Mileage           -1.879e+05   8.38e+04     -2.242      0.028   -3.55e+05   -2.07e+04\n",
      "Engine            -1.531e+05   1.09e+05     -1.409      0.163    -3.7e+05    6.36e+04\n",
      "Power              6.777e+05   1.17e+05      5.813      0.000    4.45e+05     9.1e+05\n",
      "Seats               7.77e+04   6.55e+04      1.186      0.240    -5.3e+04    2.08e+05\n",
      "Fuel_Type_bin     -1.804e+05    6.5e+04     -2.775      0.007    -3.1e+05   -5.07e+04\n",
      "Transmission_bin   2.733e+05    6.5e+04      4.206      0.000    1.44e+05    4.03e+05\n",
      "Brand_Model_freq  -1.809e+04   6.31e+04     -0.287      0.775   -1.44e+05    1.08e+05\n",
      "Owner_Type_Codes  -1.153e+05   5.91e+04     -1.951      0.055   -2.33e+05    2587.879\n",
      "==============================================================================\n",
      "Omnibus:                        5.640   Durbin-Watson:                   2.113\n",
      "Prob(Omnibus):                  0.060   Jarque-Bera (JB):                5.259\n",
      "Skew:                          -0.626   Prob(JB):                       0.0721\n",
      "Kurtosis:                       3.112   Cond. No.                         5.22\n",
      "==============================================================================\n",
      "\n",
      "Notes:\n",
      "[1] Standard Errors assume that the covariance matrix of the errors is correctly specified.\n"
     ]
    }
   ],
   "execution_count": 54
  },
  {
   "metadata": {
    "ExecuteTime": {
     "end_time": "2025-06-15T09:47:51.027722Z",
     "start_time": "2025-06-15T09:47:51.019736Z"
    }
   },
   "cell_type": "code",
   "source": [
    "summary_df = ols_results.summary2().tables[1]\n",
    "\n",
    "significant_features = summary_df[summary_df['P>|t|'] < 0.05]\n",
    "significant_feature_names = significant_features.index.tolist()\n",
    "\n",
    "significant_feature_names = [f for f in significant_feature_names if f != 'const']\n",
    "\n",
    "print(\"Significant features at alpha = 0.05:\")\n",
    "for feature in significant_feature_names:\n",
    "    print(\"-\", feature)"
   ],
   "outputs": [
    {
     "name": "stdout",
     "output_type": "stream",
     "text": [
      "Significant features at alpha = 0.05:\n",
      "- Kilometers_Driven\n",
      "- Mileage\n",
      "- Power\n",
      "- Fuel_Type_bin\n",
      "- Transmission_bin\n"
     ]
    }
   ],
   "execution_count": 55
  },
  {
   "cell_type": "markdown",
   "source": [
    "**Завдання 9**. Натренуйте лінійну регресію з `statsmodels` тільки на ознаках, які виявлись стат. значущими в попередньому завданні. Проаналізуйте показники моделі. Чи значно змінились R2 і Adj. R-squared?"
   ],
   "metadata": {
    "id": "pvOdCEVccfcM"
   }
  },
  {
   "cell_type": "code",
   "source": [
    "X_sig = pd.DataFrame(X_train_scaled, columns=feature_cols, index=y_train.index)[significant_feature_names]\n",
    "X_sig_const = sm.add_constant(X_sig)\n",
    "\n",
    "ols_sig_model = sm.OLS(y_train, X_sig_const)\n",
    "ols_sig_results = ols_sig_model.fit()\n",
    "print(ols_sig_results.summary())\n",
    "\n",
    "print(\"Full model R²: \", round(ols_results.rsquared, 4))\n",
    "print(\"Full model Adj. R²: \", round(ols_results.rsquared_adj, 4))\n",
    "\n",
    "print(\"Reduced model R²: \", round(ols_sig_results.rsquared, 4))\n",
    "print(\"Reduced model Adj. R²: \", round(ols_sig_results.rsquared_adj, 4))"
   ],
   "metadata": {
    "id": "2uE1DqiCf85H",
    "ExecuteTime": {
     "end_time": "2025-06-15T09:47:51.095786Z",
     "start_time": "2025-06-15T09:47:51.081637Z"
    }
   },
   "outputs": [
    {
     "name": "stdout",
     "output_type": "stream",
     "text": [
      "                            OLS Regression Results                            \n",
      "==============================================================================\n",
      "Dep. Variable:                  Price   R-squared:                       0.817\n",
      "Model:                            OLS   Adj. R-squared:                  0.804\n",
      "Method:                 Least Squares   F-statistic:                     65.86\n",
      "Date:                Sun, 15 Jun 2025   Prob (F-statistic):           7.50e-26\n",
      "Time:                        12:47:51   Log-Likelihood:                -1153.6\n",
      "No. Observations:                  80   AIC:                             2319.\n",
      "Df Residuals:                      74   BIC:                             2333.\n",
      "Df Model:                           5                                         \n",
      "Covariance Type:            nonrobust                                         \n",
      "=====================================================================================\n",
      "                        coef    std err          t      P>|t|      [0.025      0.975]\n",
      "-------------------------------------------------------------------------------------\n",
      "const               1.68e+06   5.15e+04     32.633      0.000    1.58e+06    1.78e+06\n",
      "Kilometers_Driven -1.217e+05   5.66e+04     -2.151      0.035   -2.34e+05   -8989.629\n",
      "Mileage            -1.58e+05   7.31e+04     -2.162      0.034   -3.04e+05   -1.24e+04\n",
      "Power              6.223e+05   8.11e+04      7.674      0.000    4.61e+05    7.84e+05\n",
      "Fuel_Type_bin     -2.121e+05   5.52e+04     -3.842      0.000   -3.22e+05   -1.02e+05\n",
      "Transmission_bin   2.662e+05   6.38e+04      4.170      0.000    1.39e+05    3.93e+05\n",
      "==============================================================================\n",
      "Omnibus:                        8.250   Durbin-Watson:                   1.848\n",
      "Prob(Omnibus):                  0.016   Jarque-Bera (JB):                7.834\n",
      "Skew:                          -0.734   Prob(JB):                       0.0199\n",
      "Kurtosis:                       3.439   Cond. No.                         2.89\n",
      "==============================================================================\n",
      "\n",
      "Notes:\n",
      "[1] Standard Errors assume that the covariance matrix of the errors is correctly specified.\n",
      "Full model R²:  0.8339\n",
      "Full model Adj. R²:  0.8099\n",
      "Reduced model R²:  0.8165\n",
      "Reduced model Adj. R²:  0.8041\n"
     ]
    }
   ],
   "execution_count": 56
  },
  {
   "metadata": {},
   "cell_type": "markdown",
   "source": [
    "### Summary\n",
    "\n",
    "A new linear regression model was trained using only features that were statistically significant (p-value < 0.05) in the previous `statsmodels` OLS model. The following six predictors were retained:\n",
    "\n",
    "- Kilometers_Driven\n",
    "- Mileage\n",
    "- Power\n",
    "- Fuel_Type_bin\n",
    "- Transmission_bin\n",
    "\n",
    "#### Model Performance Comparison:\n",
    "\n",
    "| Metric               | Full Model | Reduced Model |\n",
    "|----------------------|------------|----------------|\n",
    "| R-squared            | 0.8339     | 0.8165         |\n",
    "| Adjusted R-squared   | 0.8099     | 0.8041         |\n",
    "\n",
    "Despite removing several predictors, the reduced model maintained a very similar level of performance, especially in adjusted R² (from 0.8099 to 0.8041).\n",
    "This indicates that the excluded features had minimal contribution and could be safely removed to simplify the model.\n",
    "\n",
    "- `Power`, `Fuel_Type_bin`, and `Transmission_bin` had **strong positive or negative impact**, with highly significant p-values (p < 0.001).\n",
    "- `Kilometers_Driven` and `Mileage` had **negative coefficients**, indicating that higher usage reduces predicted price — which aligns with domain logic.\n",
    "- The model remains interpretable, compact, and statistically sound without sacrificing explanatory power.\n"
   ]
  },
  {
   "cell_type": "markdown",
   "source": [
    "**Завдання 10**. Натренуйте лінійну регресію з `statsmodels` на усіх ознаках з масштабованого `X_train`, у яких p_value в завданні 7 менше за `0.25`. Ми таким чином помʼякшили критерій відбору ознак. Проаналізуйте показники моделі. Чи значно змінились R2 і Adj. R-squared порівняно з завданням 7? Яку модель з останніх 3х завдань ви б лишили для використання?"
   ],
   "metadata": {
    "id": "q-AJSrlxdx-p"
   }
  },
  {
   "cell_type": "code",
   "source": [
    "summary_df = ols_results.summary2().tables[1]\n",
    "expanded_features = summary_df[summary_df['P>|t|'] < 0.25].index.tolist()\n",
    "expanded_features = [f for f in expanded_features if f != 'const']\n",
    "\n",
    "X_train_expanded = pd.DataFrame(X_train_scaled, columns=feature_cols, index=y_train.index)[expanded_features]\n",
    "X_train_expanded_const = sm.add_constant(X_train_expanded)\n",
    "\n",
    "ols_expanded_model = sm.OLS(y_train, X_train_expanded_const)\n",
    "ols_expanded_results = ols_expanded_model.fit()\n",
    "\n",
    "print(ols_expanded_results.summary())\n",
    "\n",
    "print(\"\\nR² Comparison:\")\n",
    "print(\"Full model R²:         \", round(ols_results.rsquared, 4))\n",
    "print(\"Full model Adj. R²:    \", round(ols_results.rsquared_adj, 4))\n",
    "\n",
    "print(\"Strict model R²:       \", round(ols_sig_results.rsquared, 4))\n",
    "print(\"Strict model Adj. R²:  \", round(ols_sig_results.rsquared_adj, 4))\n",
    "\n",
    "print(\"Expanded model R²:     \", round(ols_expanded_results.rsquared, 4))\n",
    "print(\"Expanded model Adj. R²:\", round(ols_expanded_results.rsquared_adj, 4))"
   ],
   "metadata": {
    "id": "nBVF4b-bgAdz",
    "ExecuteTime": {
     "end_time": "2025-06-15T09:47:51.165722Z",
     "start_time": "2025-06-15T09:47:51.146667Z"
    }
   },
   "outputs": [
    {
     "name": "stdout",
     "output_type": "stream",
     "text": [
      "                            OLS Regression Results                            \n",
      "==============================================================================\n",
      "Dep. Variable:                  Price   R-squared:                       0.834\n",
      "Model:                            OLS   Adj. R-squared:                  0.812\n",
      "Method:                 Least Squares   F-statistic:                     39.00\n",
      "Date:                Sun, 15 Jun 2025   Prob (F-statistic):           7.81e-24\n",
      "Time:                        12:47:51   Log-Likelihood:                -1149.7\n",
      "No. Observations:                  80   AIC:                             2319.\n",
      "Df Residuals:                      70   BIC:                             2343.\n",
      "Df Model:                           9                                         \n",
      "Covariance Type:            nonrobust                                         \n",
      "=====================================================================================\n",
      "                        coef    std err          t      P>|t|      [0.025      0.975]\n",
      "-------------------------------------------------------------------------------------\n",
      "const               1.68e+06   5.04e+04     33.342      0.000    1.58e+06    1.78e+06\n",
      "Year              -1.047e+05   8.31e+04     -1.261      0.211    -2.7e+05    6.09e+04\n",
      "Kilometers_Driven -2.031e+05   8.24e+04     -2.463      0.016   -3.67e+05   -3.86e+04\n",
      "Mileage            -1.91e+05   8.26e+04     -2.312      0.024   -3.56e+05   -2.63e+04\n",
      "Engine            -1.518e+05   1.08e+05     -1.408      0.164   -3.67e+05    6.32e+04\n",
      "Power              6.727e+05   1.14e+05      5.875      0.000    4.44e+05    9.01e+05\n",
      "Seats              7.782e+04   6.51e+04      1.195      0.236    -5.2e+04    2.08e+05\n",
      "Fuel_Type_bin     -1.825e+05   6.42e+04     -2.844      0.006    -3.1e+05   -5.45e+04\n",
      "Transmission_bin   2.726e+05   6.45e+04      4.226      0.000    1.44e+05    4.01e+05\n",
      "Owner_Type_Codes  -1.106e+05   5.63e+04     -1.962      0.054   -2.23e+05    1817.866\n",
      "==============================================================================\n",
      "Omnibus:                        5.928   Durbin-Watson:                   2.126\n",
      "Prob(Omnibus):                  0.052   Jarque-Bera (JB):                5.464\n",
      "Skew:                          -0.633   Prob(JB):                       0.0651\n",
      "Kurtosis:                       3.188   Cond. No.                         5.15\n",
      "==============================================================================\n",
      "\n",
      "Notes:\n",
      "[1] Standard Errors assume that the covariance matrix of the errors is correctly specified.\n",
      "\n",
      "R² Comparison:\n",
      "Full model R²:          0.8339\n",
      "Full model Adj. R²:     0.8099\n",
      "Strict model R²:        0.8165\n",
      "Strict model Adj. R²:   0.8041\n",
      "Expanded model R²:      0.8337\n",
      "Expanded model Adj. R²: 0.8124\n"
     ]
    }
   ],
   "execution_count": 57
  },
  {
   "metadata": {},
   "cell_type": "markdown",
   "source": [
    "### Summary\n",
    "\n",
    "A new linear regression model was trained using all features from the full model (Task 7) whose p-values were less than 0.25. This **expanded model** includes moderately significant predictors that may not pass strict thresholds but can still contribute to overall model quality.\n",
    "\n",
    "#### Model performance comparison:\n",
    "\n",
    "| Metric               | Full Model (Task 7) | Strict Model (p < 0.05, Task 9) | Expanded Model (p < 0.25, Task 10) |\n",
    "|----------------------|---------------------|----------------------------------|------------------------------------|\n",
    "| R-squared            | 0.8339              | 0.8165                           | 0.8337                             |\n",
    "| Adjusted R-squared   | 0.8099              | 0.8041                           | 0.8124                             |\n",
    "\n",
    "- The **strict model** provides the highest interpretability, using only statistically strong predictors, but with slightly lower performance.\n",
    "- The **expanded model** nearly matches the full model in both R² and adjusted R², while using fewer variables and excluding statistically weak ones.\n",
    "- The **full model** has the highest raw R², but includes features that are not statistically meaningful and might not generalize well.\n",
    "\n",
    "#### Conclusion:\n",
    "\n",
    "Among the three options:\n",
    "- Use the **strict model** when interpretability and feature clarity are essential.\n",
    "- Use the **full model** only if you require maximal explanatory power and can justify inclusion of all predictors.\n",
    "- Prefer the **expanded model** for practical use, as it maintains high performance (Adj. R² = 0.8124) while being more parsimonious and statistically justified.\n",
    "\n",
    "👉 **Recommended model:** **Expanded model (p < 0.25)**\n"
   ]
  }
 ]
}
