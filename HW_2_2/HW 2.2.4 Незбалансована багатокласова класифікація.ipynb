{
 "nbformat": 4,
 "nbformat_minor": 0,
 "metadata": {
  "colab": {
   "provenance": []
  },
  "kernelspec": {
   "name": "python3",
   "display_name": "Python 3"
  },
  "language_info": {
   "name": "python"
  }
 },
 "cells": [
  {
   "metadata": {
    "ExecuteTime": {
     "end_time": "2025-06-29T13:05:36.049712Z",
     "start_time": "2025-06-29T13:05:36.045713Z"
    }
   },
   "cell_type": "code",
   "source": [
    "import pandas as pd\n",
    "import numpy as np\n",
    "import matplotlib.pyplot as plt\n",
    "\n",
    "from sklearn.model_selection import train_test_split\n",
    "from sklearn.preprocessing import StandardScaler, OneHotEncoder, LabelEncoder\n",
    "from sklearn.impute import SimpleImputer\n",
    "from sklearn.compose import ColumnTransformer\n",
    "from sklearn.pipeline import Pipeline\n",
    "from sklearn.linear_model import LogisticRegression\n",
    "from sklearn.multiclass import OneVsRestClassifier\n",
    "from sklearn.metrics import classification_report\n",
    "\n",
    "from imblearn.over_sampling import SMOTE\n",
    "from imblearn.combine import SMOTETomek\n",
    "from imblearn.pipeline import Pipeline as ImbPipeline"
   ],
   "outputs": [],
   "execution_count": 5
  },
  {
   "cell_type": "markdown",
   "source": [
    "У цьому ДЗ ми потренуємось розв'язувати задачу багатокласової класифікації за допомогою логістичної регресії з використанням стратегій One-vs-Rest та One-vs-One, оцінити якість моделей та порівняти стратегії."
   ],
   "metadata": {
    "id": "VUPArbcFJKzJ"
   }
  },
  {
   "cell_type": "markdown",
   "source": [
    "### Опис задачі і даних\n",
    "\n",
    "**Контекст**\n",
    "\n",
    "В цьому ДЗ ми працюємо з даними про сегментацію клієнтів.\n",
    "\n",
    "Сегментація клієнтів – це практика поділу бази клієнтів на групи індивідів, які схожі між собою за певними критеріями, що мають значення для маркетингу, такими як вік, стать, інтереси та звички у витратах.\n",
    "\n",
    "Компанії, які використовують сегментацію клієнтів, виходять з того, що кожен клієнт є унікальним і що їхні маркетингові зусилля будуть більш ефективними, якщо вони орієнтуватимуться на конкретні, менші групи зі зверненнями, які ці споживачі вважатимуть доречними та які спонукатимуть їх до купівлі. Компанії також сподіваються отримати глибше розуміння уподобань та потреб своїх клієнтів з метою виявлення того, що кожен сегмент цінує найбільше, щоб точніше адаптувати маркетингові матеріали до цього сегменту.\n",
    "\n",
    "**Зміст**.\n",
    "\n",
    "Автомобільна компанія планує вийти на нові ринки зі своїми існуючими продуктами (P1, P2, P3, P4 і P5). Після інтенсивного маркетингового дослідження вони дійшли висновку, що поведінка нового ринку схожа на їхній існуючий ринок.\n",
    "\n",
    "На своєму існуючому ринку команда з продажу класифікувала всіх клієнтів на 4 сегменти (A, B, C, D). Потім вони здійснювали сегментовані звернення та комунікацію з різними сегментами клієнтів. Ця стратегія працювала для них надзвичайно добре. Вони планують використати ту саму стратегію на нових ринках і визначили 2627 нових потенційних клієнтів.\n",
    "\n",
    "Ви маєте допомогти менеджеру передбачити правильну групу для нових клієнтів.\n",
    "\n",
    "В цьому ДЗ використовуємо дані `customer_segmentation_train.csv`[скачати дані](https://drive.google.com/file/d/1VU1y2EwaHkVfr5RZ1U4MPWjeflAusK3w/view?usp=sharing). Це `train.csv`з цього [змагання](https://www.kaggle.com/datasets/abisheksudarshan/customer-segmentation/data?select=train.csv)"
   ],
   "metadata": {
    "id": "7f4tzX6YomVv"
   }
  },
  {
   "cell_type": "markdown",
   "source": [
    "**Завдання 1.** Завантажте та підготуйте датасет до аналізу. Виконайте обробку пропущених значень та необхідне кодування категоріальних ознак. Розбийте на тренувальну і тестувальну вибірку, де в тесті 20%. Памʼятаємо, що весь препроцесинг ліпше все ж тренувати на тренувальній вибірці і на тестувальній лише використовувати вже натреновані трансформери.\n",
    "Але в даному випадку оскільки значень в категоріях небагато, можна зробити обробку і на оригінальних даних, а потім розбити - це простіше. Можна також реалізувати процесинг і тренування моделі з пайплайнами. Обирайте як вам зручніше."
   ],
   "metadata": {
    "id": "NZFXPKx1JX-3"
   }
  },
  {
   "cell_type": "code",
   "source": [
    "raw_df = pd.read_csv('../assets/hw_2_2/customer_segmentation_train.csv', index_col=0)\n",
    "\n",
    "display(raw_df.head())\n",
    "\n",
    "print(raw_df.info())\n",
    "print(raw_df.isnull().sum())"
   ],
   "metadata": {
    "id": "I-mwGqPS5GAT",
    "ExecuteTime": {
     "end_time": "2025-06-29T13:05:36.094865Z",
     "start_time": "2025-06-29T13:05:36.073290Z"
    }
   },
   "outputs": [
    {
     "data": {
      "text/plain": [
       "        Gender Ever_Married  Age Graduated     Profession  Work_Experience  \\\n",
       "ID                                                                           \n",
       "462809    Male           No   22        No     Healthcare              1.0   \n",
       "462643  Female          Yes   38       Yes       Engineer              NaN   \n",
       "466315  Female          Yes   67       Yes       Engineer              1.0   \n",
       "461735    Male          Yes   67       Yes         Lawyer              0.0   \n",
       "462669  Female          Yes   40       Yes  Entertainment              NaN   \n",
       "\n",
       "       Spending_Score  Family_Size  Var_1 Segmentation  \n",
       "ID                                                      \n",
       "462809            Low          4.0  Cat_4            D  \n",
       "462643        Average          3.0  Cat_4            A  \n",
       "466315            Low          1.0  Cat_6            B  \n",
       "461735           High          2.0  Cat_6            B  \n",
       "462669           High          6.0  Cat_6            A  "
      ],
      "text/html": [
       "<div>\n",
       "<style scoped>\n",
       "    .dataframe tbody tr th:only-of-type {\n",
       "        vertical-align: middle;\n",
       "    }\n",
       "\n",
       "    .dataframe tbody tr th {\n",
       "        vertical-align: top;\n",
       "    }\n",
       "\n",
       "    .dataframe thead th {\n",
       "        text-align: right;\n",
       "    }\n",
       "</style>\n",
       "<table border=\"1\" class=\"dataframe\">\n",
       "  <thead>\n",
       "    <tr style=\"text-align: right;\">\n",
       "      <th></th>\n",
       "      <th>Gender</th>\n",
       "      <th>Ever_Married</th>\n",
       "      <th>Age</th>\n",
       "      <th>Graduated</th>\n",
       "      <th>Profession</th>\n",
       "      <th>Work_Experience</th>\n",
       "      <th>Spending_Score</th>\n",
       "      <th>Family_Size</th>\n",
       "      <th>Var_1</th>\n",
       "      <th>Segmentation</th>\n",
       "    </tr>\n",
       "    <tr>\n",
       "      <th>ID</th>\n",
       "      <th></th>\n",
       "      <th></th>\n",
       "      <th></th>\n",
       "      <th></th>\n",
       "      <th></th>\n",
       "      <th></th>\n",
       "      <th></th>\n",
       "      <th></th>\n",
       "      <th></th>\n",
       "      <th></th>\n",
       "    </tr>\n",
       "  </thead>\n",
       "  <tbody>\n",
       "    <tr>\n",
       "      <th>462809</th>\n",
       "      <td>Male</td>\n",
       "      <td>No</td>\n",
       "      <td>22</td>\n",
       "      <td>No</td>\n",
       "      <td>Healthcare</td>\n",
       "      <td>1.0</td>\n",
       "      <td>Low</td>\n",
       "      <td>4.0</td>\n",
       "      <td>Cat_4</td>\n",
       "      <td>D</td>\n",
       "    </tr>\n",
       "    <tr>\n",
       "      <th>462643</th>\n",
       "      <td>Female</td>\n",
       "      <td>Yes</td>\n",
       "      <td>38</td>\n",
       "      <td>Yes</td>\n",
       "      <td>Engineer</td>\n",
       "      <td>NaN</td>\n",
       "      <td>Average</td>\n",
       "      <td>3.0</td>\n",
       "      <td>Cat_4</td>\n",
       "      <td>A</td>\n",
       "    </tr>\n",
       "    <tr>\n",
       "      <th>466315</th>\n",
       "      <td>Female</td>\n",
       "      <td>Yes</td>\n",
       "      <td>67</td>\n",
       "      <td>Yes</td>\n",
       "      <td>Engineer</td>\n",
       "      <td>1.0</td>\n",
       "      <td>Low</td>\n",
       "      <td>1.0</td>\n",
       "      <td>Cat_6</td>\n",
       "      <td>B</td>\n",
       "    </tr>\n",
       "    <tr>\n",
       "      <th>461735</th>\n",
       "      <td>Male</td>\n",
       "      <td>Yes</td>\n",
       "      <td>67</td>\n",
       "      <td>Yes</td>\n",
       "      <td>Lawyer</td>\n",
       "      <td>0.0</td>\n",
       "      <td>High</td>\n",
       "      <td>2.0</td>\n",
       "      <td>Cat_6</td>\n",
       "      <td>B</td>\n",
       "    </tr>\n",
       "    <tr>\n",
       "      <th>462669</th>\n",
       "      <td>Female</td>\n",
       "      <td>Yes</td>\n",
       "      <td>40</td>\n",
       "      <td>Yes</td>\n",
       "      <td>Entertainment</td>\n",
       "      <td>NaN</td>\n",
       "      <td>High</td>\n",
       "      <td>6.0</td>\n",
       "      <td>Cat_6</td>\n",
       "      <td>A</td>\n",
       "    </tr>\n",
       "  </tbody>\n",
       "</table>\n",
       "</div>"
      ]
     },
     "metadata": {},
     "output_type": "display_data"
    },
    {
     "name": "stdout",
     "output_type": "stream",
     "text": [
      "<class 'pandas.core.frame.DataFrame'>\n",
      "Index: 8068 entries, 462809 to 461879\n",
      "Data columns (total 10 columns):\n",
      " #   Column           Non-Null Count  Dtype  \n",
      "---  ------           --------------  -----  \n",
      " 0   Gender           8068 non-null   object \n",
      " 1   Ever_Married     7928 non-null   object \n",
      " 2   Age              8068 non-null   int64  \n",
      " 3   Graduated        7990 non-null   object \n",
      " 4   Profession       7944 non-null   object \n",
      " 5   Work_Experience  7239 non-null   float64\n",
      " 6   Spending_Score   8068 non-null   object \n",
      " 7   Family_Size      7733 non-null   float64\n",
      " 8   Var_1            7992 non-null   object \n",
      " 9   Segmentation     8068 non-null   object \n",
      "dtypes: float64(2), int64(1), object(7)\n",
      "memory usage: 693.3+ KB\n",
      "None\n",
      "Gender               0\n",
      "Ever_Married       140\n",
      "Age                  0\n",
      "Graduated           78\n",
      "Profession         124\n",
      "Work_Experience    829\n",
      "Spending_Score       0\n",
      "Family_Size        335\n",
      "Var_1               76\n",
      "Segmentation         0\n",
      "dtype: int64\n"
     ]
    }
   ],
   "execution_count": 6
  },
  {
   "metadata": {
    "ExecuteTime": {
     "end_time": "2025-06-29T13:05:36.259516Z",
     "start_time": "2025-06-29T13:05:36.146079Z"
    }
   },
   "cell_type": "code",
   "source": [
    "X = raw_df.drop(columns=['ID', 'Segmentation'], errors='ignore')\n",
    "y = raw_df['Segmentation']\n",
    "\n",
    "X_train, X_test, y_train, y_test = train_test_split(X, y, test_size=0.2, random_state=42, stratify=y)\n",
    "\n",
    "categorical_cols = X_train.select_dtypes(include=['object']).columns.tolist()\n",
    "numeric_cols = X_train.select_dtypes(include=[np.number]).columns.tolist()\n",
    "\n",
    "num_pipeline = Pipeline([\n",
    "    ('imputer', SimpleImputer(strategy='median')),\n",
    "    ('scaler', StandardScaler())\n",
    "])\n",
    "\n",
    "cat_pipeline = Pipeline([\n",
    "    ('imputer', SimpleImputer(strategy='most_frequent')),\n",
    "    ('encoder', OneHotEncoder(handle_unknown='ignore', sparse_output=False))\n",
    "])\n",
    "\n",
    "preprocessor = ColumnTransformer([\n",
    "    ('num', num_pipeline, numeric_cols),\n",
    "    ('cat', cat_pipeline, categorical_cols)\n",
    "])\n",
    "\n",
    "class_counts = pd.Series(y_train).value_counts().sort_index()\n",
    "\n",
    "print(class_counts)\n",
    "\n",
    "class_counts.plot(kind='bar', title='Class Distribution in Train Set')\n",
    "plt.xlabel('Class')\n",
    "plt.ylabel('Number of samples')\n",
    "plt.show()"
   ],
   "outputs": [
    {
     "name": "stdout",
     "output_type": "stream",
     "text": [
      "Segmentation\n",
      "A    1578\n",
      "B    1486\n",
      "C    1576\n",
      "D    1814\n",
      "Name: count, dtype: int64\n"
     ]
    },
    {
     "data": {
      "text/plain": [
       "<Figure size 640x480 with 1 Axes>"
      ],
      "image/png": "[encoded data removed]"
     },
     "metadata": {},
     "output_type": "display_data"
    }
   ],
   "execution_count": 7
  },
  {
   "metadata": {
    "ExecuteTime": {
     "end_time": "2025-06-29T13:05:36.318706Z",
     "start_time": "2025-06-29T13:05:36.292284Z"
    }
   },
   "cell_type": "code",
   "source": [
    "target_le = LabelEncoder()\n",
    "y_train_enc = target_le.fit_transform(y_train)\n",
    "y_test_enc = target_le.transform(y_test)\n",
    "\n",
    "X_train_processed = preprocessor.fit_transform(X_train)\n",
    "X_test_processed = preprocessor.transform(X_test)\n",
    "\n",
    "print(\"Any NaNs in train:\", np.isnan(X_train_processed).any())\n",
    "print(\"Any NaNs in test:\", np.isnan(X_test_processed).any())"
   ],
   "outputs": [
    {
     "name": "stdout",
     "output_type": "stream",
     "text": [
      "Any NaNs in train: False\n",
      "Any NaNs in test: False\n"
     ]
    }
   ],
   "execution_count": 8
  },
  {
   "cell_type": "markdown",
   "source": [
    "**Завдання 2. Важливо уважно прочитати все формулювання цього завдання до кінця!**\n",
    "\n",
    "Застосуйте методи ресемплингу даних SMOTE та SMOTE-Tomek з бібліотеки imbalanced-learn до тренувальної вибірки. В результаті у Вас має вийти 2 тренувальних набори: з апсемплингом зі SMOTE, та з ресамплингом з SMOTE-Tomek.\n",
    "\n",
    "Увага! В нашому наборі даних є як категоріальні дані, так і звичайні числові. Базовий SMOTE не буде правильно працювати з категоріальними даними, але є його модифікація, яка буде. Тому в цього завдання є 2 виконання\n",
    "\n",
    "  1. Застосувати SMOTE базовий лише на НЕкатегоріальних ознаках.\n",
    "\n",
    "  2. Переглянути інформацію про метод [SMOTENC](https://imbalanced-learn.org/dev/references/generated/imblearn.over_sampling.SMOTENC.html#imblearn.over_sampling.SMOTENC) і використати цей метод в цій задачі. За цей спосіб буде +3 бали за це завдання і він рекомендований для виконання.\n",
    "\n",
    "  **Підказка**: аби скористатись SMOTENC треба створити змінну, яка містить індекси ознак, які є категоріальними (їх номер серед колонок) і передати при ініціації екземпляра класу `SMOTENC(..., categorical_features=cat_feature_indeces)`.\n",
    "  \n",
    "  Ви також можете розглянути варіант використання варіації SMOTE, який працює ЛИШЕ з категоріальними ознаками [SMOTEN](https://imbalanced-learn.org/dev/references/generated/imblearn.over_sampling.SMOTEN.html)"
   ],
   "metadata": {
    "id": "fhJzCBA7P0f8"
   }
  },
  {
   "metadata": {
    "ExecuteTime": {
     "end_time": "2025-06-29T13:05:36.357686Z",
     "start_time": "2025-06-29T13:05:36.353367Z"
    }
   },
   "cell_type": "code",
   "source": [
    "pipeline_orig = ImbPipeline([\n",
    "    ('preprocessor', preprocessor),\n",
    "    ('classifier', OneVsRestClassifier(LogisticRegression(solver='liblinear', random_state=42)))\n",
    "])\n",
    "\n",
    "pipeline_smote = ImbPipeline([\n",
    "    ('preprocessor', preprocessor),\n",
    "    ('smote', SMOTE(random_state=42)),\n",
    "    ('classifier', OneVsRestClassifier(LogisticRegression(solver='liblinear', random_state=42)))\n",
    "])\n",
    "\n",
    "pipeline_smote_tomek = ImbPipeline([\n",
    "    ('preprocessor', preprocessor),\n",
    "    ('smote_tomek', SMOTETomek(smote=SMOTE(random_state=42), random_state=42)),\n",
    "    ('classifier', OneVsRestClassifier(LogisticRegression(solver='liblinear', random_state=42)))\n",
    "])"
   ],
   "outputs": [],
   "execution_count": 9
  },
  {
   "cell_type": "markdown",
   "source": [
    "**Завдання 3**.\n",
    "  1. Навчіть модель логістичної регресії з використанням стратегії One-vs-Rest з логістичною регресією на оригінальних даних, збалансованих з SMOTE, збалансованих з Smote-Tomek.  \n",
    "  2. Виміряйте якість кожної з натренованих моделей використовуючи `sklearn.metrics.classification_report`.\n",
    "  3. Напишіть, яку метрику ви обрали для порівняння моделей.\n",
    "  4. Яка модель найкраща?\n",
    "  5. Якщо немає суттєвої різниці між моделями - напишіть свою гіпотезу, чому?"
   ],
   "metadata": {
    "id": "ja4w_GgmT4D0"
   }
  },
  {
   "cell_type": "code",
   "source": [
    "pipeline_orig.fit(X_train, y_train_enc)\n",
    "y_pred_orig = pipeline_orig.predict(X_test)\n",
    "\n",
    "print(\"Classification report on original data:\\n\")\n",
    "print(classification_report(y_test_enc, y_pred_orig, target_names=target_le.classes_))\n",
    "\n",
    "pipeline_smote.fit(X_train, y_train_enc)\n",
    "y_pred_smote = pipeline_smote.predict(X_test)\n",
    "\n",
    "print(\"Classification report on SMOTE data:\\n\")\n",
    "print(classification_report(y_test_enc, y_pred_smote, target_names=target_le.classes_))\n",
    "\n",
    "pipeline_smote_tomek.fit(X_train, y_train_enc)\n",
    "y_pred_smote_tomek = pipeline_smote_tomek.predict(X_test)\n",
    "\n",
    "print(\"Classification report on SMOTE-Tomek data:\\n\")\n",
    "print(classification_report(y_test_enc, y_pred_smote_tomek, target_names=target_le.classes_))"
   ],
   "metadata": {
    "id": "nxWVeRan5JBh",
    "ExecuteTime": {
     "end_time": "2025-06-29T13:05:36.823721Z",
     "start_time": "2025-06-29T13:05:36.454637Z"
    }
   },
   "outputs": [
    {
     "name": "stdout",
     "output_type": "stream",
     "text": [
      "Classification report on original data:\n",
      "\n",
      "              precision    recall  f1-score   support\n",
      "\n",
      "           A       0.42      0.45      0.43       394\n",
      "           B       0.41      0.18      0.25       372\n",
      "           C       0.49      0.61      0.54       394\n",
      "           D       0.65      0.76      0.70       454\n",
      "\n",
      "    accuracy                           0.51      1614\n",
      "   macro avg       0.49      0.50      0.48      1614\n",
      "weighted avg       0.50      0.51      0.49      1614\n",
      "\n",
      "Classification report on SMOTE data:\n",
      "\n",
      "              precision    recall  f1-score   support\n",
      "\n",
      "           A       0.42      0.48      0.45       394\n",
      "           B       0.41      0.25      0.31       372\n",
      "           C       0.51      0.59      0.55       394\n",
      "           D       0.68      0.71      0.70       454\n",
      "\n",
      "    accuracy                           0.52      1614\n",
      "   macro avg       0.51      0.51      0.50      1614\n",
      "weighted avg       0.51      0.52      0.51      1614\n",
      "\n",
      "Classification report on SMOTE-Tomek data:\n",
      "\n",
      "              precision    recall  f1-score   support\n",
      "\n",
      "           A       0.41      0.47      0.44       394\n",
      "           B       0.40      0.24      0.30       372\n",
      "           C       0.50      0.60      0.55       394\n",
      "           D       0.67      0.70      0.69       454\n",
      "\n",
      "    accuracy                           0.51      1614\n",
      "   macro avg       0.50      0.50      0.49      1614\n",
      "weighted avg       0.50      0.51      0.50      1614\n",
      "\n"
     ]
    }
   ],
   "execution_count": 10
  },
  {
   "metadata": {},
   "cell_type": "markdown",
   "source": [
    "### Summary\n",
    "\n",
    "Three logistic regression models were evaluated: one trained on the original data, one on SMOTE-balanced data, and one on SMOTE-Tomek resampled data. All models were evaluated using a one-vs-rest strategy and compared on the same test set.\n",
    "\n",
    "**Main metric chosen:** Macro F1-score, as it balances precision and recall across all classes equally, making it suitable for multiclass evaluation.\n",
    "\n",
    "**Results overview:**\n",
    "- **Original data:** Macro F1 ≈ 0.48\n",
    "- **SMOTE:** Macro F1 ≈ 0.50\n",
    "- **SMOTE-Tomek:** Macro F1 ≈ 0.49\n",
    "\n",
    "The SMOTE-balanced model showed slightly higher macro F1-score and better recall in some minority classes, but overall differences between models were small.\n",
    "\n",
    "The relatively balanced distribution of classes (as seen in the train set distribution) explains why SMOTE and SMOTE-Tomek did not drastically improve performance: the dataset does not have a strong class imbalance, so oversampling had a limited impact.\n",
    "\n",
    "**Conclusion:**\n",
    "All models show comparable performance, with the SMOTE model being slightly better by macro F1. However, the original data already provides reasonable balance, so additional resampling does not significantly change results.\n",
    "\n"
   ]
  }
 ]
}
