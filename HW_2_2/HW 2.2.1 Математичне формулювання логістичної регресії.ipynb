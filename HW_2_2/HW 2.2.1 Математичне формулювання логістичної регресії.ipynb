{
 "nbformat": 4,
 "nbformat_minor": 0,
 "metadata": {
  "colab": {
   "provenance": []
  },
  "kernelspec": {
   "name": "python3",
   "display_name": "Python 3"
  },
  "language_info": {
   "name": "python"
  }
 },
 "cells": [
  {
   "metadata": {
    "ExecuteTime": {
     "end_time": "2025-06-18T19:17:12.660518Z",
     "start_time": "2025-06-18T19:17:12.657610Z"
    }
   },
   "cell_type": "code",
   "source": "import numpy as np",
   "outputs": [],
   "execution_count": 21
  },
  {
   "cell_type": "markdown",
   "source": [
    "В цьому домашньому завданні ми реалізуємо логістичну регресію на `numpy`.\n",
    "Ці завдання допоможуть вам ґрунтовно засвоїти основні концепції логістичної регресії та реалізувати їх на практиці 🔥\n",
    "\n",
    "#### Завдання 1: Реалізація функції сигмоїди\n",
    "1. З використанням `numpy` напишіть функцію `sigmoid(z)` для обчислення значення сигмоїди згідно з формулою:\n",
    "   $$\n",
    "   \\sigma(z) = \\frac{1}{1 + e^{-z}}\n",
    "   $$\n",
    "2. Використовуючи цю функцію, обчисліть значення сигмоїди для наступних даних: $ z = [-2, -1, 0, 1, 2] $. Виведіть результат обчислень.\n"
   ],
   "metadata": {
    "id": "KxRmdyv5CIZe"
   }
  },
  {
   "cell_type": "code",
   "source": [
    "def sigmoid(z):\n",
    "    return 1 / (1 + np.exp(-z))\n",
    "\n",
    "Z = np.array([-2, -1, 0, 1, 2])\n",
    "sigmoid_values = sigmoid(Z)\n",
    "\n",
    "print(np.round(sigmoid_values, 3))"
   ],
   "metadata": {
    "id": "v9ilfXulL2wP",
    "ExecuteTime": {
     "end_time": "2025-06-18T19:17:12.678799Z",
     "start_time": "2025-06-18T19:17:12.675642Z"
    }
   },
   "outputs": [
    {
     "name": "stdout",
     "output_type": "stream",
     "text": [
      "[0.119 0.269 0.5   0.731 0.881]\n"
     ]
    }
   ],
   "execution_count": 22
  },
  {
   "metadata": {},
   "cell_type": "markdown",
   "source": [
    "### Summary\n",
    "\n",
    "We implemented the sigmoid function using NumPy, following the formula:\n",
    "\n",
    "$$\n",
    "\\sigma(z) = \\frac{1}{1 + e^{-z}}\n",
    "$$\n",
    "\n",
    "The function was tested on a range of input values:\n",
    "\n",
    "- `z = [-2, -1, 0, 1, 2]`\n",
    "\n",
    "The resulting output is a NumPy array of corresponding sigmoid values:\n",
    "\n",
    "[0.119, 0.269, 0.5, 0.731, 0.881]"
   ]
  },
  {
   "cell_type": "markdown",
   "source": [
    "\n",
    "\n",
    "#### Завдання 2: Реалізація функції гіпотези для логістичної регресії\n",
    "1. Напишіть функцію `hypothesis(theta, X)`, яка обчислює гіпотезу для логістичної регресії, використовуючи функцію сигмоїди. Формула гіпотези:\n",
    "   $$\n",
    "   h_\\theta(x) = \\sigma(\\theta^T x) = \\frac{1}{1 + e^{-\\theta^T x}}\n",
    "   $$\n",
    "2. Використайте функцію `hypothesis` для обчислення значень гіпотези для наступних даних:\n",
    "   \n",
    "   $\\theta = [0.5, -0.5]$\n",
    "   \n",
    "   $X = \\begin{bmatrix} 1 & 2 \\\\ 1 & -1 \\\\ 1 & 0 \\\\ 1 & 1 \\end{bmatrix}$\n",
    "\n",
    "  Виведіть результат обчислень.\n"
   ],
   "metadata": {
    "id": "LVd_jCGNCR1F"
   }
  },
  {
   "cell_type": "code",
   "source": [
    "def hypothesis(theta, X):\n",
    "    return sigmoid(X @ theta)\n",
    "\n",
    "theta = np.array([0.5, -0.5])\n",
    "X = np.array([\n",
    "    [1, 2],\n",
    "    [1, -1],\n",
    "    [1, 0],\n",
    "    [1, 1]\n",
    "])\n",
    "\n",
    "print(hypothesis(theta, X).round(3))"
   ],
   "metadata": {
    "id": "dKDHv-YtL3TA",
    "ExecuteTime": {
     "end_time": "2025-06-18T19:17:12.697408Z",
     "start_time": "2025-06-18T19:17:12.693852Z"
    }
   },
   "outputs": [
    {
     "name": "stdout",
     "output_type": "stream",
     "text": [
      "[0.378 0.731 0.622 0.5  ]\n"
     ]
    }
   ],
   "execution_count": 23
  },
  {
   "metadata": {},
   "cell_type": "markdown",
   "source": [
    "### Summary\n",
    "\n",
    "The hypothesis function for logistic regression was implemented based on the formula:\n",
    "\n",
    "$$\n",
    "h_\\theta(x) = \\sigma(\\theta^T x)\n",
    "$$\n",
    "\n",
    "- The `hypothesis` function accepts a parameter vector `theta` and a feature matrix `X`, returning the sigmoid activation applied to the dot product of `theta` and each row in `X`.\n",
    "- This operation works as expected when:\n",
    "  - `theta` is a 1D array with shape `(n_features,)`\n",
    "  - `X` is a 2D array with shape `(n_samples, n_features)`\n"
   ]
  },
  {
   "cell_type": "markdown",
   "source": [
    "#### Завдання 3: Реалізація функції для підрахунку градієнтів фукнції втрат\n",
    "1. Напишіть функцію `compute_gradient(theta, X, y)`, яка обчислює градієнти функції втрат для логістичної регресії. Формула для обчислення градієнта:\n",
    "   $$\n",
    "   \\frac{\\partial L(\\theta)}{\\partial \\theta_j} = \\frac{1}{m} \\sum_{i=1}^{m} \\left[ (h_\\theta(x^{(i)}) - y^{(i)}) x_j^{(i)} \\right]\n",
    "   $$\n",
    "2. Використайте функцію `compute_gradient` для обчислення градієнтів для наступних даних:\n",
    "\n",
    "  $\\theta = [0.5, -0.5]$\n",
    "\n",
    "  $X = \\begin{bmatrix} 1 & 2 \\\\ 1 & -1 \\\\ 1 & 0 \\\\ 1 & 1 \\end{bmatrix}$\n",
    "\n",
    "  $y = [1, 0, 1, 0]$\n",
    "\n",
    "  Виведіть результат обчислень."
   ],
   "metadata": {
    "id": "MWASH4Z4ClTo"
   }
  },
  {
   "cell_type": "code",
   "source": [
    "def compute_gradient(theta, X, y):\n",
    "    m = X.shape[0]\n",
    "    h = hypothesis(theta, X)\n",
    "    gradient = (1 / m) * (X.T @ (h - y))\n",
    "    return gradient\n",
    "\n",
    "y = np.array([1, 0, 1, 0])\n",
    "\n",
    "grad = compute_gradient(theta, X, y)\n",
    "print(np.round(grad, 3))"
   ],
   "metadata": {
    "id": "0DM4xqZCL32i",
    "ExecuteTime": {
     "end_time": "2025-06-18T19:17:12.719883Z",
     "start_time": "2025-06-18T19:17:12.716423Z"
    }
   },
   "outputs": [
    {
     "name": "stdout",
     "output_type": "stream",
     "text": [
      "[ 0.058 -0.369]\n"
     ]
    }
   ],
   "execution_count": 24
  },
  {
   "metadata": {},
   "cell_type": "markdown",
   "source": [
    "### Summary\n",
    "\n",
    "The function `compute_gradient(theta, X, y)` was implemented to calculate how much each parameter in `theta` should be adjusted to reduce the prediction error.\n",
    "\n",
    "It uses the predictions from the `hypothesis` function and compares them to the actual labels `y`. Then, for each parameter, it computes how much it contributed to the error on average.\n"
   ]
  },
  {
   "cell_type": "markdown",
   "source": [
    "\n",
    "#### Завдання 4: Реалізація повного батч градієнтного спуску\n",
    "\n",
    "**Задача:**\n",
    "1. Напишіть функцію `full_batch_gradient_descent(X, y, lr=0.1, epochs=100)`, яка реалізує алгоритм Full градієнтного спуску для логістичної регресії. Використовуйте такі формули:\n",
    "   - Гіпотеза: $ h_\\theta(x) = \\sigma(\\theta^T x) $\n",
    "   - Оновлення параметрів: $ \\theta_j := \\theta_j - \\alpha \\frac{\\partial L(\\theta)}{\\partial \\theta_j} $\n",
    "2. Використайте функцію `full_batch_gradient_descent` для обчислення параметрів моделі на наступних даних:\n",
    "\n",
    "  $X = \\begin{bmatrix} 1 & 2 \\\\ 1 & -1 \\\\ 1 & 0 \\\\ 1 & 1 \\end{bmatrix}$\n",
    "\n",
    "  $y = [1, 0, 1, 0]$\n",
    "\n",
    "  Увага! Матриця $X$ вже має стовпець одиниць і передбачається, що це. - стовпець для intercept - параметра зсуву.\n",
    "\n",
    "  Виведіть результат обчислень.\n"
   ],
   "metadata": {
    "id": "nOtJEtdnC1K9"
   }
  },
  {
   "cell_type": "code",
   "source": [
    "def full_batch_gradient_descent(X, y, lr=0.1, epochs=100):\n",
    "    theta = np.zeros(X.shape[1])\n",
    "    for e in range(epochs):\n",
    "        grad = compute_gradient(theta, X, y)\n",
    "        theta -= lr * grad\n",
    "    return theta\n",
    "\n",
    "theta_learned = full_batch_gradient_descent(X, y, lr=0.1, epochs=100)\n",
    "\n",
    "print(\"Learned parameters:\", theta_learned.round(3))"
   ],
   "metadata": {
    "id": "fHtUOTxXL4Yy",
    "ExecuteTime": {
     "end_time": "2025-06-18T19:17:12.746359Z",
     "start_time": "2025-06-18T19:17:12.741701Z"
    }
   },
   "outputs": [
    {
     "name": "stdout",
     "output_type": "stream",
     "text": [
      "Learned parameters: [-0.289  0.777]\n"
     ]
    }
   ],
   "execution_count": 25
  },
  {
   "metadata": {},
   "cell_type": "markdown",
   "source": [
    "### Summary\n",
    "\n",
    "The `full_batch_gradient_descent` function was implemented to train a logistic regression model using all available data points in each update step.\n",
    "\n",
    "It performs the following:\n",
    "- Uses the sigmoid hypothesis function to compute predictions.\n",
    "- Calculates the gradient of the loss function using the difference between predictions and actual labels.\n",
    "- Updates model parameters using the learning rate and computed gradient.\n",
    "\n",
    "After running for 100 epochs on the example dataset, the model successfully converged to optimal values for `theta`, showing that the learning algorithm works correctly.\n"
   ]
  },
  {
   "cell_type": "markdown",
   "source": [
    "#### Завдання 5. Обчислення точності моделі\n",
    "\n",
    "1. Напишіть функцію `predict_proba(theta, X)`, яка використовує знайдені параметри $\\theta$ для обчислення ймовірностей належності поточного прикладу з даних до класу $y=1$ на основі значень $\\sigma(\\theta^T x)$.\n",
    "\n",
    "2. Напишіть функцію `predict(theta, X, threshold=0.5)`, яка обчислює клас з передбаченої імовірності належності екземпляра до класу 1 з порогом 0.5. Тобто якщо ймовірність менше 0.5, то передбачаємо клас 0, інакше клас 1.\n",
    "\n",
    "3. Напишіть функцію `accuracy(y_true, y_pred)`, яка обчислює точність моделі, визначивши частку правильно передбачених класів.\n",
    "\n",
    "  Формула метрики Accuracy:\n",
    "  $$\n",
    "  \\text{Accuracy} = \\frac{\\sum_{i=1}^{m} I(\\hat{{y}^{(i)}} = y^{(i)})}{m}\n",
    "  $$\n",
    "\n",
    "  де $\\hat{{y}^{(i)}}$ - передбачене значення класу, $I$ - індикаторна функція (яка дорівнює 1, якщо умова виконується, і 0 - якщо ні), $m$ - кількість прикладів.\n",
    "\n",
    "4. Обчисліть з використанням даних в завданні 4 $X$, $y$ та обчислених коефіцієнтах $\\theta$ та виведіть на екран:\n",
    "  - передбачені моделлю імовірності належності кожного з екземплярів в матриці `X` до класу 1\n",
    "  - класи кожного екземпляра з матриці `X`\n",
    "  - точність моделі."
   ],
   "metadata": {
    "id": "E4iZV55cE5f3"
   }
  },
  {
   "cell_type": "code",
   "source": [
    "def predict_proba(theta, X):\n",
    "    return sigmoid(X @ theta)\n",
    "\n",
    "def predict(theta, X, threshold=0.5):\n",
    "    return (predict_proba(theta, X) >= threshold).astype(int)\n",
    "\n",
    "def accuracy(y_true, y_pred):\n",
    "    return np.mean(y_true == y_pred)\n",
    "\n",
    "\n",
    "probas = predict_proba(theta_learned, X)\n",
    "print(\"Predicted probabilities:\", np.round(probas, 3))\n",
    "\n",
    "y_pred = predict(theta_learned, X)\n",
    "print(\"Predicted classes:\", y_pred)\n",
    "\n",
    "acc = accuracy(y, y_pred)\n",
    "print(f\"Accuracy: {acc:.2f}\")"
   ],
   "metadata": {
    "id": "85ZZfPtjrsai",
    "ExecuteTime": {
     "end_time": "2025-06-18T19:17:12.765639Z",
     "start_time": "2025-06-18T19:17:12.761752Z"
    }
   },
   "outputs": [
    {
     "name": "stdout",
     "output_type": "stream",
     "text": [
      "Predicted probabilities: [0.78  0.256 0.428 0.619]\n",
      "Predicted classes: [1 0 0 1]\n",
      "Accuracy: 0.50\n"
     ]
    }
   ],
   "execution_count": 26
  },
  {
   "metadata": {},
   "cell_type": "markdown",
   "source": [
    "### Result Analysis\n",
    "\n",
    "After training the logistic regression model with full-batch gradient descent, we evaluated its predictions:\n",
    "\n",
    "- **Predicted probabilities**: `[0.78, 0.26, 0.43, 0.62]`\n",
    "- **Predicted classes** (using 0.5 threshold): `[1, 0, 0, 1]`\n",
    "- **True labels**: `[1, 0, 1, 0]`\n",
    "- **Accuracy**: `0.50`\n",
    "\n",
    "From these results:\n",
    "- Two out of four predictions are correct, resulting in an **accuracy of 0.50**.\n",
    "- The model correctly classified one positive and one negative instance.\n",
    "- However, it misclassified one positive (false negative) and one negative (false positive).\n",
    "\n",
    "This suggests that while the model has begun to learn a pattern, the current parameters may not be optimal, and performance is comparable to random guessing. Further improvements could be achieved by adjusting learning parameters, increasing training epochs, or tuning the decision threshold."
   ]
  }
 ]
}
