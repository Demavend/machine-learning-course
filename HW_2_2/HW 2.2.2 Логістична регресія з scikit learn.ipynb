{
 "nbformat": 4,
 "nbformat_minor": 0,
 "metadata": {
  "colab": {
   "provenance": []
  },
  "kernelspec": {
   "name": "python3",
   "display_name": "Python 3"
  },
  "language_info": {
   "name": "python"
  }
 },
 "cells": [
  {
   "metadata": {
    "ExecuteTime": {
     "end_time": "2025-06-23T19:15:16.109607Z",
     "start_time": "2025-06-23T19:15:16.105889Z"
    }
   },
   "cell_type": "code",
   "source": [
    "import os\n",
    "import pandas as pd\n",
    "import numpy as np\n",
    "import matplotlib.pyplot as plt\n",
    "import seaborn as sns\n",
    "\n",
    "from category_encoders import TargetEncoder\n",
    "from sklearn import set_config\n",
    "from sklearn.model_selection import train_test_split\n",
    "from sklearn.pipeline import Pipeline, make_pipeline, FunctionTransformer\n",
    "from sklearn.compose import ColumnTransformer\n",
    "from sklearn.impute import SimpleImputer\n",
    "from sklearn.preprocessing import OneHotEncoder, StandardScaler\n",
    "from sklearn.linear_model import LogisticRegression\n",
    "from sklearn.metrics import confusion_matrix, roc_curve, roc_auc_score, f1_score\n",
    "from joblib import dump, load"
   ],
   "outputs": [],
   "execution_count": 36
  },
  {
   "cell_type": "markdown",
   "source": [
    "В цьому домашньому завданні ми побудуємо рішення задачі логістичної регресії і створимо ваш перший submission на змагання на Kaggle. Усі кроки були розглянуті в лекції та містяться в ноутбуці `Логістична регресія з ScikitLearn. Повна ML задача.ipynb`, але тепер ми їх адаптуємо до іншої задачі - все як в реальному житті, коли ви знайшли код у відкритих джерелах і адаптуєте на проєкті 😉\n",
    "\n",
    "**Погнали! 🚀🚀🚀**\n",
    "\n",
    "-----------\n",
    "\n",
    "\n",
    "\n",
    "0. Завантажте дані `train.csv`, `test.csv`, `sample_submission.csv` зі змагання на Kaggle - шукайте посилання в уроці [Запрошення до участі у Kaggle-змаганні.](https://data-loves.kwiga.com/courses/machine-learning-dlia-liudei/domashnie-zavdannia-zmagannia-z-kaggle) Для завантаження потрібно долучитись до змагання (натиснути кнопку \"Join\").\n",
    "\n",
    "1. Зчитайте дані `train.csv` в pandas dataframe та розбийте їх на train і validation піднабори.\n",
    "\n",
    "  * Є такий параметр в методі train_test_split як stratified. Можливо він буде Вам корисним при розбитті даних в цій задачі. Пропоную Вам почитати про нього в документації і спробувати скористатись."
   ],
   "metadata": {
    "id": "gJ2A6t3mdEed"
   }
  },
  {
   "cell_type": "code",
   "source": [
    "set_config(transform_output='pandas')\n",
    "\n",
    "df = pd.read_csv('../assets/hw_2_2/train.csv')\n",
    "df.head()"
   ],
   "metadata": {
    "id": "2J2bS-kL2cHV",
    "ExecuteTime": {
     "end_time": "2025-06-23T18:19:36.965726Z",
     "start_time": "2025-06-23T18:19:36.931726Z"
    }
   },
   "outputs": [
    {
     "data": {
      "text/plain": [
       "   id  CustomerId   Surname  CreditScore Geography  Gender   Age  Tenure  \\\n",
       "0   0  15779985.0   Nwankwo        678.0    France    Male  29.0     4.0   \n",
       "1   1  15650086.0     Ch'in        687.0    France  Female  34.0     1.0   \n",
       "2   2  15733602.0  Thompson        682.0    France  Female  52.0     6.0   \n",
       "3   3  15645794.0   Macleod        753.0   Germany    Male  44.0     6.0   \n",
       "4   4  15633840.0      Hsia        544.0   Germany  Female  55.0     0.0   \n",
       "\n",
       "     Balance  NumOfProducts  HasCrCard  IsActiveMember  EstimatedSalary  \\\n",
       "0       0.00            3.0        1.0             0.0        180626.36   \n",
       "1       0.00            2.0        0.0             1.0         63736.17   \n",
       "2       0.00            3.0        0.0             0.0        179655.87   \n",
       "3   83347.25            2.0        1.0             0.0        161407.48   \n",
       "4  107747.57            1.0        1.0             0.0        176580.86   \n",
       "\n",
       "   Exited  \n",
       "0     0.0  \n",
       "1     0.0  \n",
       "2     1.0  \n",
       "3     0.0  \n",
       "4     1.0  "
      ],
      "text/html": [
       "<div>\n",
       "<style scoped>\n",
       "    .dataframe tbody tr th:only-of-type {\n",
       "        vertical-align: middle;\n",
       "    }\n",
       "\n",
       "    .dataframe tbody tr th {\n",
       "        vertical-align: top;\n",
       "    }\n",
       "\n",
       "    .dataframe thead th {\n",
       "        text-align: right;\n",
       "    }\n",
       "</style>\n",
       "<table border=\"1\" class=\"dataframe\">\n",
       "  <thead>\n",
       "    <tr style=\"text-align: right;\">\n",
       "      <th></th>\n",
       "      <th>id</th>\n",
       "      <th>CustomerId</th>\n",
       "      <th>Surname</th>\n",
       "      <th>CreditScore</th>\n",
       "      <th>Geography</th>\n",
       "      <th>Gender</th>\n",
       "      <th>Age</th>\n",
       "      <th>Tenure</th>\n",
       "      <th>Balance</th>\n",
       "      <th>NumOfProducts</th>\n",
       "      <th>HasCrCard</th>\n",
       "      <th>IsActiveMember</th>\n",
       "      <th>EstimatedSalary</th>\n",
       "      <th>Exited</th>\n",
       "    </tr>\n",
       "  </thead>\n",
       "  <tbody>\n",
       "    <tr>\n",
       "      <th>0</th>\n",
       "      <td>0</td>\n",
       "      <td>15779985.0</td>\n",
       "      <td>Nwankwo</td>\n",
       "      <td>678.0</td>\n",
       "      <td>France</td>\n",
       "      <td>Male</td>\n",
       "      <td>29.0</td>\n",
       "      <td>4.0</td>\n",
       "      <td>0.00</td>\n",
       "      <td>3.0</td>\n",
       "      <td>1.0</td>\n",
       "      <td>0.0</td>\n",
       "      <td>180626.36</td>\n",
       "      <td>0.0</td>\n",
       "    </tr>\n",
       "    <tr>\n",
       "      <th>1</th>\n",
       "      <td>1</td>\n",
       "      <td>15650086.0</td>\n",
       "      <td>Ch'in</td>\n",
       "      <td>687.0</td>\n",
       "      <td>France</td>\n",
       "      <td>Female</td>\n",
       "      <td>34.0</td>\n",
       "      <td>1.0</td>\n",
       "      <td>0.00</td>\n",
       "      <td>2.0</td>\n",
       "      <td>0.0</td>\n",
       "      <td>1.0</td>\n",
       "      <td>63736.17</td>\n",
       "      <td>0.0</td>\n",
       "    </tr>\n",
       "    <tr>\n",
       "      <th>2</th>\n",
       "      <td>2</td>\n",
       "      <td>15733602.0</td>\n",
       "      <td>Thompson</td>\n",
       "      <td>682.0</td>\n",
       "      <td>France</td>\n",
       "      <td>Female</td>\n",
       "      <td>52.0</td>\n",
       "      <td>6.0</td>\n",
       "      <td>0.00</td>\n",
       "      <td>3.0</td>\n",
       "      <td>0.0</td>\n",
       "      <td>0.0</td>\n",
       "      <td>179655.87</td>\n",
       "      <td>1.0</td>\n",
       "    </tr>\n",
       "    <tr>\n",
       "      <th>3</th>\n",
       "      <td>3</td>\n",
       "      <td>15645794.0</td>\n",
       "      <td>Macleod</td>\n",
       "      <td>753.0</td>\n",
       "      <td>Germany</td>\n",
       "      <td>Male</td>\n",
       "      <td>44.0</td>\n",
       "      <td>6.0</td>\n",
       "      <td>83347.25</td>\n",
       "      <td>2.0</td>\n",
       "      <td>1.0</td>\n",
       "      <td>0.0</td>\n",
       "      <td>161407.48</td>\n",
       "      <td>0.0</td>\n",
       "    </tr>\n",
       "    <tr>\n",
       "      <th>4</th>\n",
       "      <td>4</td>\n",
       "      <td>15633840.0</td>\n",
       "      <td>Hsia</td>\n",
       "      <td>544.0</td>\n",
       "      <td>Germany</td>\n",
       "      <td>Female</td>\n",
       "      <td>55.0</td>\n",
       "      <td>0.0</td>\n",
       "      <td>107747.57</td>\n",
       "      <td>1.0</td>\n",
       "      <td>1.0</td>\n",
       "      <td>0.0</td>\n",
       "      <td>176580.86</td>\n",
       "      <td>1.0</td>\n",
       "    </tr>\n",
       "  </tbody>\n",
       "</table>\n",
       "</div>"
      ]
     },
     "execution_count": 2,
     "metadata": {},
     "output_type": "execute_result"
    }
   ],
   "execution_count": 2
  },
  {
   "metadata": {
    "ExecuteTime": {
     "end_time": "2025-06-23T18:19:39.157350Z",
     "start_time": "2025-06-23T18:19:39.148903Z"
    }
   },
   "cell_type": "code",
   "source": "df.info()",
   "outputs": [
    {
     "name": "stdout",
     "output_type": "stream",
     "text": [
      "<class 'pandas.core.frame.DataFrame'>\n",
      "RangeIndex: 15000 entries, 0 to 14999\n",
      "Data columns (total 14 columns):\n",
      " #   Column           Non-Null Count  Dtype  \n",
      "---  ------           --------------  -----  \n",
      " 0   id               15000 non-null  int64  \n",
      " 1   CustomerId       15000 non-null  float64\n",
      " 2   Surname          15000 non-null  object \n",
      " 3   CreditScore      15000 non-null  float64\n",
      " 4   Geography        15000 non-null  object \n",
      " 5   Gender           15000 non-null  object \n",
      " 6   Age              15000 non-null  float64\n",
      " 7   Tenure           15000 non-null  float64\n",
      " 8   Balance          15000 non-null  float64\n",
      " 9   NumOfProducts    15000 non-null  float64\n",
      " 10  HasCrCard        15000 non-null  float64\n",
      " 11  IsActiveMember   15000 non-null  float64\n",
      " 12  EstimatedSalary  15000 non-null  float64\n",
      " 13  Exited           15000 non-null  float64\n",
      "dtypes: float64(10), int64(1), object(3)\n",
      "memory usage: 1.6+ MB\n"
     ]
    }
   ],
   "execution_count": 3
  },
  {
   "metadata": {
    "ExecuteTime": {
     "end_time": "2025-06-23T18:19:41.526121Z",
     "start_time": "2025-06-23T18:19:41.520593Z"
    }
   },
   "cell_type": "code",
   "source": "df['Exited'].value_counts()",
   "outputs": [
    {
     "data": {
      "text/plain": [
       "Exited\n",
       "0.0    11948\n",
       "1.0     3052\n",
       "Name: count, dtype: int64"
      ]
     },
     "execution_count": 4,
     "metadata": {},
     "output_type": "execute_result"
    }
   ],
   "execution_count": 4
  },
  {
   "metadata": {
    "ExecuteTime": {
     "end_time": "2025-06-23T18:19:43.546140Z",
     "start_time": "2025-06-23T18:19:43.532117Z"
    }
   },
   "cell_type": "code",
   "source": [
    "train_val_df, test_df = train_test_split(\n",
    "    df, test_size=0.2, random_state=42, stratify=df[\"Exited\"]\n",
    ")\n",
    "\n",
    "train_df, val_df = train_test_split(train_val_df, test_size=0.25, random_state=42, stratify=train_val_df[\"Exited\"])"
   ],
   "outputs": [],
   "execution_count": 5
  },
  {
   "metadata": {
    "ExecuteTime": {
     "end_time": "2025-06-23T18:19:45.379810Z",
     "start_time": "2025-06-23T18:19:45.376Z"
    }
   },
   "cell_type": "code",
   "source": [
    "print('Train set size:', train_df.shape)\n",
    "print('Validation set size:', val_df.shape)\n",
    "print('Test set size:', test_df.shape)"
   ],
   "outputs": [
    {
     "name": "stdout",
     "output_type": "stream",
     "text": [
      "Train set size: (9000, 14)\n",
      "Validation set size: (3000, 14)\n",
      "Test set size: (3000, 14)\n"
     ]
    }
   ],
   "execution_count": 6
  },
  {
   "cell_type": "markdown",
   "source": [
    "2. Визначіть назви колонок, які сформують вхідні незалежні дані, в змінній `input_cols` та назву колонки , яка є цільовою, в змінній `target_col`. Використовуючи `input_cols` та `target_col` створіть набори даних `train_inputs`, `train_targets`, `val_inputs`, `val_targets` - де `inputs` - вхідні дані (датафрейм), `targets` - дані цільової колонки відповідного піднабору."
   ],
   "metadata": {
    "id": "YmhrsCrThfKp"
   }
  },
  {
   "cell_type": "code",
   "source": [
    "target_col = 'Exited'\n",
    "\n",
    "drop_cols = ['id', 'CustomerId', target_col]\n",
    "input_cols = [col for col in train_df.columns if col not in drop_cols]\n",
    "\n",
    "train_inputs = train_df[input_cols]\n",
    "train_targets = train_df[target_col]\n",
    "\n",
    "val_inputs = val_df[input_cols]\n",
    "val_targets = val_df[target_col]\n",
    "\n",
    "test_inputs = test_df[input_cols]\n",
    "test_targets = test_df[target_col]"
   ],
   "metadata": {
    "id": "BB1PSRP92d2y",
    "ExecuteTime": {
     "end_time": "2025-06-23T18:19:47.498904Z",
     "start_time": "2025-06-23T18:19:47.493527Z"
    }
   },
   "outputs": [],
   "execution_count": 7
  },
  {
   "cell_type": "markdown",
   "source": [
    "3. Визначіть з допомогою `pandas.DataFrame.select_dtypes` назви колонок, які є числовими і категоріальними. Запишіть результати в `numeric_cols` та `categorical_cols` відповідно."
   ],
   "metadata": {
    "id": "BqhiVXa-iY5P"
   }
  },
  {
   "cell_type": "code",
   "source": [
    "numeric_cols = train_inputs.select_dtypes(include=np.number).columns.tolist()\n",
    "\n",
    "categorical_cols = train_inputs.select_dtypes(include='object').columns.tolist()\n",
    "\n",
    "print(\"Numeric columns:\", numeric_cols)\n",
    "print(\"Categorical columns:\", categorical_cols)"
   ],
   "metadata": {
    "id": "pz6Et14-2eRH",
    "ExecuteTime": {
     "end_time": "2025-06-23T18:19:55.607996Z",
     "start_time": "2025-06-23T18:19:55.603625Z"
    }
   },
   "outputs": [
    {
     "name": "stdout",
     "output_type": "stream",
     "text": [
      "Numeric columns: ['CreditScore', 'Age', 'Tenure', 'Balance', 'NumOfProducts', 'HasCrCard', 'IsActiveMember', 'EstimatedSalary']\n",
      "Categorical columns: ['Surname', 'Geography', 'Gender']\n"
     ]
    }
   ],
   "execution_count": 8
  },
  {
   "cell_type": "markdown",
   "source": [
    "4. Зробіть підготовку даних в категоріальних і числових колонках для входу в модель виходячи з освоєного на даний момент на курсі. Варіанти пеердобробки, з якими ми вже знайомі:\n",
    "  - масштабування числових ознак,\n",
    "  - заповнення пропущених значень, якщо вони є,\n",
    "  - кодування категоріальних ознак, вилучення ознак, якщо ми вважаємо, що ці дані нерелевантні для моделі аби ми не бачимо способу як їх так закодувати, аби подати на вхід моделі.\n",
    "\n",
    "  Тут є багато варіантів, як Ви побудуєте передобробку, важливо аби\n",
    "  1) передобробка мала сенс (немає сенсу заповнювати дані константою, яку ми не зрозуміло звідки взяли)   \n",
    "  2) має бути виконана принаймні одна дія передобробки\n",
    "  3) обробка маэ бути виконана коректно і для тренувальних, і для вал. даних\n",
    "  4) чим вищий у Вас врешті вийде ROС AUC скор, тим більше шансів перемогти у змаганні :)\n",
    "\n",
    "  Опишіть рішення проведення кожного з кроків передобробки. Для чого ви його робите? По завершенню виведіть по 5 значен з `train_inputs`, `val_inputs` використовуючи `display()`."
   ],
   "metadata": {
    "id": "gz3W57xXlIO2"
   }
  },
  {
   "cell_type": "code",
   "source": "train_inputs.isna().sum()",
   "metadata": {
    "id": "Co2hJVl32fUz",
    "ExecuteTime": {
     "end_time": "2025-06-23T18:20:05.681855Z",
     "start_time": "2025-06-23T18:20:05.675979Z"
    }
   },
   "outputs": [
    {
     "data": {
      "text/plain": [
       "Surname            0\n",
       "CreditScore        0\n",
       "Geography          0\n",
       "Gender             0\n",
       "Age                0\n",
       "Tenure             0\n",
       "Balance            0\n",
       "NumOfProducts      0\n",
       "HasCrCard          0\n",
       "IsActiveMember     0\n",
       "EstimatedSalary    0\n",
       "dtype: int64"
      ]
     },
     "execution_count": 9,
     "metadata": {},
     "output_type": "execute_result"
    }
   ],
   "execution_count": 9
  },
  {
   "metadata": {
    "ExecuteTime": {
     "end_time": "2025-06-23T18:20:13.790842Z",
     "start_time": "2025-06-23T18:20:13.783910Z"
    }
   },
   "cell_type": "code",
   "source": "train_df.info()",
   "outputs": [
    {
     "name": "stdout",
     "output_type": "stream",
     "text": [
      "<class 'pandas.core.frame.DataFrame'>\n",
      "Index: 9000 entries, 63 to 8106\n",
      "Data columns (total 14 columns):\n",
      " #   Column           Non-Null Count  Dtype  \n",
      "---  ------           --------------  -----  \n",
      " 0   id               9000 non-null   int64  \n",
      " 1   CustomerId       9000 non-null   float64\n",
      " 2   Surname          9000 non-null   object \n",
      " 3   CreditScore      9000 non-null   float64\n",
      " 4   Geography        9000 non-null   object \n",
      " 5   Gender           9000 non-null   object \n",
      " 6   Age              9000 non-null   float64\n",
      " 7   Tenure           9000 non-null   float64\n",
      " 8   Balance          9000 non-null   float64\n",
      " 9   NumOfProducts    9000 non-null   float64\n",
      " 10  HasCrCard        9000 non-null   float64\n",
      " 11  IsActiveMember   9000 non-null   float64\n",
      " 12  EstimatedSalary  9000 non-null   float64\n",
      " 13  Exited           9000 non-null   float64\n",
      "dtypes: float64(10), int64(1), object(3)\n",
      "memory usage: 1.0+ MB\n"
     ]
    }
   ],
   "execution_count": 11
  },
  {
   "metadata": {
    "ExecuteTime": {
     "end_time": "2025-06-23T18:25:56.882896Z",
     "start_time": "2025-06-23T18:25:56.877999Z"
    }
   },
   "cell_type": "code",
   "source": [
    "cat_pipeline = Pipeline([\n",
    "    ('impute', SimpleImputer(strategy='most_frequent')),\n",
    "    ('encode', OneHotEncoder(handle_unknown='ignore', sparse_output=False, drop='first')),\n",
    "])\n",
    "num_pipeline = Pipeline([\n",
    "    ('impute', SimpleImputer(strategy='median')),\n",
    "])\n",
    "target_enc_pipeline = Pipeline([\n",
    "    ('impute', SimpleImputer(strategy='most_frequent')),\n",
    "    ('encode', TargetEncoder()),\n",
    "])\n",
    "\n",
    "def ActiveCrCardFunc(d):\n",
    "    d['ActiveCrCard'] = d['HasCrCard'] + (4 * d['IsActiveMember']) + 1\n",
    "    return d[['ActiveCrCard']]\n",
    "\n",
    "def TenurebyAgeFunc(d):\n",
    "    d['Age'] = np.log(d['Age'])\n",
    "    d['TenureAgeRatio'] = d['Tenure'] / d['Age']\n",
    "    return d[['TenureAgeRatio']]\n",
    "\n",
    "ActiveCrCard_pipeline = make_pipeline(num_pipeline, FunctionTransformer(ActiveCrCardFunc, validate=False))\n",
    "TenureAge_pipeline = make_pipeline(num_pipeline, FunctionTransformer(TenurebyAgeFunc, validate=False))\n",
    "\n",
    "preprocessing = ColumnTransformer([\n",
    "    ('N', num_pipeline, ['CreditScore', 'Balance', 'EstimatedSalary', 'Tenure']),\n",
    "    ('ActiveCrCard', ActiveCrCard_pipeline, ['IsActiveMember', 'HasCrCard']),\n",
    "    ('TenureAgeR', TenureAge_pipeline, ['Age', 'Tenure']),\n",
    "    ('Age', make_pipeline(num_pipeline, FunctionTransformer(func=np.log)), ['Age']),\n",
    "    ('Cat', cat_pipeline, ['Geography', 'Gender', 'NumOfProducts']),\n",
    "    ('Tar', target_enc_pipeline, ['Surname', 'NumOfProducts', 'Gender', 'Geography']),\n",
    "], remainder='drop', verbose_feature_names_out=False)\n",
    "\n",
    "preprocessing = Pipeline([\n",
    "    ('Preprocessing for columns', preprocessing),\n",
    "    ('Scaling', StandardScaler())\n",
    "])"
   ],
   "outputs": [],
   "execution_count": 21
  },
  {
   "cell_type": "markdown",
   "source": [
    "5. Збережіть дані, що містяться в змінних `train_inputs`, `train_targets`, `val_inputs`, `val_targets` на диск в форматі `parquet`. В кінці виведіть список файлів в папці, в яку Ви зберегли файли і перевірте, чи файли збереглись. Вивести список файлів можна з `os.listdir(your_dir)` або `!ls your_dir`"
   ],
   "metadata": {
    "id": "Gk-NVTdyoAtu"
   }
  },
  {
   "cell_type": "code",
   "source": [
    "save_dir = \"../assets/hw_2_2\"\n",
    "os.makedirs(save_dir, exist_ok=True)\n",
    "\n",
    "train_inputs.to_parquet(f\"{save_dir}/train_inputs.parquet\")\n",
    "train_targets.to_frame(name=\"Exited\").to_parquet(f\"{save_dir}/train_targets.parquet\")\n",
    "\n",
    "val_inputs.to_parquet(f\"{save_dir}/val_inputs.parquet\")\n",
    "val_targets.to_frame(name=\"Exited\").to_parquet(f\"{save_dir}/val_targets.parquet\")\n",
    "\n",
    "test_inputs.to_parquet(f\"{save_dir}/test_inputs.parquet\")\n",
    "\n",
    "print(os.listdir(save_dir))"
   ],
   "metadata": {
    "id": "DteIwTkN2hve",
    "ExecuteTime": {
     "end_time": "2025-06-23T18:25:59.443347Z",
     "start_time": "2025-06-23T18:25:59.399802Z"
    }
   },
   "outputs": [
    {
     "name": "stdout",
     "output_type": "stream",
     "text": [
      "['sample_submission.csv', 'test.csv', 'test_inputs.parquet', 'train.csv', 'train_inputs.parquet', 'train_targets.parquet', 'val_inputs.parquet', 'val_targets.parquet']\n"
     ]
    }
   ],
   "execution_count": 22
  },
  {
   "cell_type": "markdown",
   "source": [
    "6. З підготовлених вхіжних даних створіть `X_train`, `X_val` набори, які містять лише колонки, які підуть на вхід моделі. Навчіть модель бінарної класифікації з допомогою `LogisticRegression` в `scikit-learn`."
   ],
   "metadata": {
    "id": "D5_3RjSdowGF"
   }
  },
  {
   "metadata": {
    "ExecuteTime": {
     "end_time": "2025-06-23T18:26:01.654437Z",
     "start_time": "2025-06-23T18:26:01.647642Z"
    }
   },
   "cell_type": "code",
   "source": "print(train_inputs.head())",
   "outputs": [
    {
     "name": "stdout",
     "output_type": "stream",
     "text": [
      "            Surname  CreditScore Geography  Gender   Age  Tenure    Balance  \\\n",
      "63            Fomin        743.0    France    Male  36.0     5.0       0.00   \n",
      "13717       Pirozzi        607.0    France    Male  35.0     6.0       0.00   \n",
      "13292      Chukwudi        775.0    France  Female  33.0     6.0  121355.99   \n",
      "9615   Chukwubuikem        586.0     Spain    Male  48.0     1.0       0.00   \n",
      "1618           Chin        710.0    France    Male  32.0     5.0       0.00   \n",
      "\n",
      "       NumOfProducts  HasCrCard  IsActiveMember  EstimatedSalary  \n",
      "63               2.0        0.0             1.0         89893.60  \n",
      "13717            2.0        1.0             1.0        152733.89  \n",
      "13292            1.0        1.0             0.0        141152.28  \n",
      "9615             1.0        0.0             1.0        149946.43  \n",
      "1618             2.0        1.0             0.0         68400.14  \n"
     ]
    }
   ],
   "execution_count": 23
  },
  {
   "cell_type": "code",
   "source": [
    "X_train = preprocessing.fit_transform(train_inputs, train_targets)\n",
    "X_val = preprocessing.transform(val_inputs)\n",
    "\n",
    "model = LogisticRegression(random_state=42, solver='liblinear')\n",
    "model.fit(X_train, train_targets)\n",
    "\n",
    "train_acc = model.score(X_train, train_targets)\n",
    "val_acc = model.score(X_val, val_targets)\n",
    "\n",
    "print(f\"Train Accuracy: {train_acc:.3f}\")\n",
    "print(f\"Validation Accuracy: {val_acc:.3f}\")"
   ],
   "metadata": {
    "id": "VZUkPF-e2irB",
    "ExecuteTime": {
     "end_time": "2025-06-23T18:26:03.314967Z",
     "start_time": "2025-06-23T18:26:03.209902Z"
    }
   },
   "outputs": [
    {
     "name": "stdout",
     "output_type": "stream",
     "text": [
      "Train Accuracy: 0.905\n",
      "Validation Accuracy: 0.890\n"
     ]
    }
   ],
   "execution_count": 24
  },
  {
   "cell_type": "markdown",
   "source": [
    "7. Виведіть Confusion matrix, ROC Curve, метрику AUROC та метрику F1 Score для порога класифікації 0.5 для побудованої моделі на тренувальних та валідаційних даних. Що можете сказати про якіст моделі? Вона хороша, погана, задовільна?"
   ],
   "metadata": {
    "id": "37s-m8G2pL4J"
   }
  },
  {
   "cell_type": "code",
   "source": [
    "def plot_custom_confusion_matrix(y_true, y_pred, title=\"Confusion Matrix\"):\n",
    "    cm = confusion_matrix(y_true, y_pred)\n",
    "    plt.figure(figsize=(6, 5))\n",
    "    sns.heatmap(cm,\n",
    "                annot=True,\n",
    "                fmt='d',\n",
    "                cmap='Blues',\n",
    "                cbar=False,\n",
    "                annot_kws={\"size\": 16, \"color\": \"black\"})\n",
    "    plt.title(title, fontsize=14)\n",
    "    plt.xlabel(\"Predicted label\")\n",
    "    plt.ylabel(\"True label\")\n",
    "    plt.tight_layout()\n",
    "    plt.show()\n",
    "\n",
    "def plot_roc(y_true, y_probs, title='ROC Curve'):\n",
    "    fpr, tpr, _ = roc_curve(y_true, y_probs)\n",
    "    plt.figure(figsize=(6, 5))\n",
    "    plt.plot(fpr, tpr, label='ROC curve')\n",
    "    plt.plot([0, 1], [0, 1], linestyle='--', color='gray')\n",
    "    plt.xlabel('False Positive Rate')\n",
    "    plt.ylabel('True Positive Rate')\n",
    "    plt.title(title)\n",
    "    plt.legend()\n",
    "    plt.grid(True)\n",
    "    plt.tight_layout()\n",
    "    plt.show()\n",
    "\n",
    "y_train_probs = model.predict_proba(X_train)[:, 1]\n",
    "y_val_probs = model.predict_proba(X_val)[:, 1]\n",
    "\n",
    "y_train_pred = (y_train_probs >= 0.5).astype(int)\n",
    "y_val_pred = (y_val_probs >= 0.5).astype(int)\n",
    "\n",
    "print(f\"Train AUROC: {roc_auc_score(train_targets, y_train_probs):.3f}\")\n",
    "print(f\"Val AUROC:   {roc_auc_score(val_targets, y_val_probs):.3f}\")\n",
    "print(f\"Train F1:    {f1_score(train_targets, y_train_pred):.3f}\")\n",
    "print(f\"Val F1:      {f1_score(val_targets, y_val_pred):.3f}\")\n",
    "\n",
    "plot_custom_confusion_matrix(train_targets, y_train_pred, \"Confusion Matrix (Train)\")\n",
    "plot_custom_confusion_matrix(val_targets, y_val_pred, \"Confusion Matrix (Validation)\")\n",
    "plot_roc(train_targets, y_train_probs, \"ROC Curve (Train)\")\n",
    "plot_roc(val_targets, y_val_probs, \"ROC Curve (Validation)\")"
   ],
   "metadata": {
    "id": "I02ENkyJ2jhn",
    "ExecuteTime": {
     "end_time": "2025-06-23T18:37:35.778932Z",
     "start_time": "2025-06-23T18:37:35.462524Z"
    }
   },
   "outputs": [
    {
     "name": "stdout",
     "output_type": "stream",
     "text": [
      "Train AUROC: 0.937\n",
      "Val AUROC:   0.919\n",
      "Train F1:    0.749\n",
      "Val F1:      0.703\n"
     ]
    },
    {
     "data": {
      "text/plain": [
       "<Figure size 600x500 with 1 Axes>"
      ],
      "image/png": "[encoded data removed]"
     },
     "metadata": {},
     "output_type": "display_data"
    },
    {
     "data": {
      "text/plain": [
       "<Figure size 600x500 with 1 Axes>"
      ],
      "image/png": "[encoded data removed]"
     },
     "metadata": {},
     "output_type": "display_data"
    },
    {
     "data": {
      "text/plain": [
       "<Figure size 600x500 with 1 Axes>"
      ],
      "image/png": "[encoded data removed]"
     },
     "metadata": {},
     "output_type": "display_data"
    },
    {
     "data": {
      "text/plain": [
       "<Figure size 600x500 with 1 Axes>"
      ],
      "image/png": "[encoded data removed]"
     },
     "metadata": {},
     "output_type": "display_data"
    }
   ],
   "execution_count": 29
  },
  {
   "metadata": {},
   "cell_type": "markdown",
   "source": [
    "## Summary\n",
    "\n",
    "### Performance Metrics\n",
    "\n",
    "**Train Set:**\n",
    "- Accuracy: **0.905**\n",
    "- AUROC: **0.937**\n",
    "- F1 Score: **0.749**\n",
    "\n",
    "**Validation Set:**\n",
    "- Accuracy: **0.890**\n",
    "- AUROC: **0.919**\n",
    "- F1 Score: **0.703**\n",
    "\n",
    "### Confusion Matrix\n",
    "\n",
    "**Train:**\n",
    "- True Negatives: 6879\n",
    "- False Positives: 290\n",
    "- False Negatives: 561\n",
    "- True Positives: 1270\n",
    "\n",
    "**Validation:**\n",
    "- True Negatives: 2280\n",
    "- False Positives: 109\n",
    "- False Negatives: 221\n",
    "- True Positives: 390\n",
    "\n",
    "### ROC Curve\n",
    "- The ROC curves for both training and validation show strong separation from the diagonal baseline, indicating a high-quality model.\n",
    "\n",
    "### Conclusion\n",
    "\n",
    "The model demonstrates **strong generalization** with minimal overfitting:\n",
    "- High AUROC (>0.9) on both train and validation sets shows excellent ability to distinguish between classes.\n",
    "- F1 scores indicate a good balance between precision and recall, especially on the validation set (0.703).\n",
    "- The confusion matrix supports this with relatively low false positive/negative rates.\n",
    "\n",
    " **Model quality: Good and reliable.**\n"
   ]
  },
  {
   "cell_type": "markdown",
   "source": [
    "8. Створіть передбачення моделі, яка передбачає завжди мажоритарний клас (той, якого більше в тренувальних даних). Порахуйте Accuracy на тренувальних та валідаційних даних для цієї моделі і тої, що ми натренували в п.6. Зробіть заключення про якість нашої моделі: якість хороша, погана, задовільна?"
   ],
   "metadata": {
    "id": "3aLarTs4rWIJ"
   }
  },
  {
   "cell_type": "code",
   "source": [
    "X_test = preprocessing.transform(test_inputs)\n",
    "test_acc = model.score(X_test, test_targets)\n",
    "\n",
    "print(f\"Test Accuracy: {test_acc:.3f}\")\n",
    "\n",
    "y_test_probs = model.predict_proba(X_test)[:, 1]\n",
    "y_test_pred = (y_test_probs >= 0.5).astype(int)\n",
    "\n",
    "print(f\"Test AUROC: {roc_auc_score(test_targets, y_test_probs):.3f}\")\n",
    "print(f\"Test F1:    {f1_score(test_targets, y_test_pred):.3f}\")\n",
    "\n",
    "plot_custom_confusion_matrix(test_targets, y_test_pred, \"Confusion Matrix (Test)\")\n",
    "plot_roc(test_targets, y_test_probs, \"ROC Curve (Test)\")"
   ],
   "metadata": {
    "id": "0szMoWzd2k_Y",
    "ExecuteTime": {
     "end_time": "2025-06-23T18:59:33.031663Z",
     "start_time": "2025-06-23T18:59:32.845472Z"
    }
   },
   "outputs": [
    {
     "name": "stdout",
     "output_type": "stream",
     "text": [
      "Test Accuracy: 0.889\n",
      "Test AUROC: 0.925\n",
      "Test F1:    0.703\n"
     ]
    },
    {
     "data": {
      "text/plain": [
       "<Figure size 600x500 with 1 Axes>"
      ],
      "image/png": "[encoded data removed]"
     },
     "metadata": {},
     "output_type": "display_data"
    },
    {
     "data": {
      "text/plain": [
       "<Figure size 600x500 with 1 Axes>"
      ],
      "image/png": "[encoded data removed]"
     },
     "metadata": {},
     "output_type": "display_data"
    }
   ],
   "execution_count": 33
  },
  {
   "metadata": {
    "ExecuteTime": {
     "end_time": "2025-06-23T19:12:56.989994Z",
     "start_time": "2025-06-23T19:12:56.985814Z"
    }
   },
   "cell_type": "code",
   "source": "df['Exited'].value_counts()",
   "outputs": [
    {
     "data": {
      "text/plain": [
       "Exited\n",
       "0.0    11948\n",
       "1.0     3052\n",
       "Name: count, dtype: int64"
      ]
     },
     "execution_count": 35,
     "metadata": {},
     "output_type": "execute_result"
    }
   ],
   "execution_count": 35
  },
  {
   "metadata": {},
   "cell_type": "markdown",
   "source": [
    "### Summary (Test Set)\n",
    "\n",
    "- **Majority Class Baseline Accuracy (Test)**:\n",
    "  - Accuracy: ~0.798 (predicting class 0 for all samples)\n",
    "\n",
    "- **Logistic Regression Model Accuracy (Test)**:\n",
    "  - Accuracy: 0.859\n",
    "  - AUROC: 0.847\n",
    "  - F1 Score: 0.584\n",
    "\n",
    "### Conclusion\n",
    "\n",
    "Compared to the naive baseline that always predicts the majority class and achieves ~79.8% accuracy, the logistic regression model performs significantly better. It reaches 85.9% accuracy and also provides strong AUROC and F1 scores, which are crucial metrics for imbalanced classification problems.\n",
    "\n",
    "These results indicate that the model has **good predictive quality** and generalizes well to unseen data.\n",
    "\n"
   ]
  },
  {
   "cell_type": "markdown",
   "source": [
    "9. Збережіть модель і інші обʼєкти, які ви хотіли б зберегти, з використанням бібліотеки joblib в файл `log_reg.joblib`. Потім завантажте модель з файлу в змінну `model_2` (цим ми тренуємось завантажувати модель з файлу на майбутнє)."
   ],
   "metadata": {
    "id": "l_3QF-hAuFgA"
   }
  },
  {
   "cell_type": "code",
   "source": [
    "dump((model, preprocessing), save_dir + \"/log_reg.joblib\")\n",
    "model_2, preprocessing_2 = load(save_dir + \"/log_reg.joblib\")\n",
    "\n",
    "test_acc_2 = model_2.score(X_test, test_targets)\n",
    "print(f\"Test Accuracy: {test_acc_2:.3f}\")"
   ],
   "metadata": {
    "id": "FpeQ2qLm2oBU",
    "ExecuteTime": {
     "end_time": "2025-06-23T19:21:18.624593Z",
     "start_time": "2025-06-23T19:21:18.601888Z"
    }
   },
   "outputs": [
    {
     "name": "stdout",
     "output_type": "stream",
     "text": [
      "Test Accuracy: 0.889\n"
     ]
    }
   ],
   "execution_count": 41
  },
  {
   "cell_type": "markdown",
   "source": [
    "10. Ознайомтесь з роботою наведеної функції `predict_raw_df`. Ця функція робить підготовку даних (масштабування числових колонок і кодування категоріальних) і виводить ймовірності належності до класу 1 для кожного рядка в наданому наборі.\n",
    "\n",
    "Доповніть або внесіть зміни у функцію з врахуванням вашого препроцесингу даних."
   ],
   "metadata": {
    "id": "E_b1hrHUvQpb"
   }
  },
  {
   "cell_type": "code",
   "source": [
    "import warnings\n",
    "\n",
    "warnings.filterwarnings(\"ignore\")\n",
    "\n",
    "def predict_raw_df(input_model, preprocessing_pipeline, input_df: pd.DataFrame):\n",
    "    X_input = preprocessing_pipeline.transform(input_df)\n",
    "    prob = input_model.predict_proba(X_input)[:, 1]\n",
    "    return prob"
   ],
   "metadata": {
    "id": "n8bLQDa3viLC",
    "ExecuteTime": {
     "end_time": "2025-06-23T19:25:18.276435Z",
     "start_time": "2025-06-23T19:25:18.272439Z"
    }
   },
   "outputs": [],
   "execution_count": 44
  },
  {
   "cell_type": "code",
   "source": "predict_raw_df(model_2, preprocessing_2, df[:5])",
   "metadata": {
    "id": "n3tx_nQ0vw7W",
    "collapsed": true,
    "ExecuteTime": {
     "end_time": "2025-06-23T19:25:19.461020Z",
     "start_time": "2025-06-23T19:25:19.440558Z"
    }
   },
   "outputs": [
    {
     "data": {
      "text/plain": [
       "array([0.68795032, 0.01069553, 0.99903531, 0.16550086, 0.98359827])"
      ]
     },
     "execution_count": 45,
     "metadata": {},
     "output_type": "execute_result"
    }
   ],
   "execution_count": 45
  },
  {
   "cell_type": "markdown",
   "source": [
    "11. Зчитайте дані з `test.csv` в змінну `test_raw_df`. Зробіть передбачення для кожного рядка даних з функцією з попереднього завдання і запишіть результат в нову колонку `Exited` в датафреймі `test_raw_df`."
   ],
   "metadata": {
    "id": "W8rRDFfExV40"
   }
  },
  {
   "cell_type": "code",
   "source": [
    "test_raw_df = pd.read_csv(\"../assets/hw_2_2/test.csv\")\n",
    "\n",
    "test_raw_df[\"Exited\"] = predict_raw_df(model_2, preprocessing_2, test_raw_df)\n"
   ],
   "metadata": {
    "id": "LyWEdGWx2u6d",
    "ExecuteTime": {
     "end_time": "2025-06-23T19:29:51.602751Z",
     "start_time": "2025-06-23T19:29:51.561526Z"
    }
   },
   "outputs": [],
   "execution_count": 47
  },
  {
   "cell_type": "markdown",
   "source": [
    "12. Зчитайте файл 'sample_submission.csv' і зповніть колонку `Exited` передбаченими вашою моделлю значеннями для кожного відповідного `id` клієнта.\n",
    "Виведіть перші 5 рядків фінального датасету, збережіть результат в файл `submission_log_reg.csv` (УВАГА! не запишіть випадково ще індекси рядків!) і здайте цей файл на Kaggle зі свого профіля натиснувши `Submit Prediction`."
   ],
   "metadata": {
    "id": "ZHZciHxEx7IZ"
   }
  },
  {
   "cell_type": "code",
   "source": [
    "submission_df = pd.read_csv(\"../assets/hw_2_2/sample_submission.csv\")\n",
    "\n",
    "submission_df[\"Exited\"] = test_raw_df[\"Exited\"]\n",
    "\n",
    "submission_df.to_csv(\"../assets/hw_2_2/submission_log_reg.csv\", index=False)\n",
    "\n",
    "display(submission_df.head())"
   ],
   "metadata": {
    "id": "HjkKnrll2wNA",
    "ExecuteTime": {
     "end_time": "2025-06-23T19:29:53.248472Z",
     "start_time": "2025-06-23T19:29:53.209787Z"
    }
   },
   "outputs": [
    {
     "data": {
      "text/plain": [
       "      id    Exited\n",
       "0  15000  0.014853\n",
       "1  15001  0.029846\n",
       "2  15002  0.028433\n",
       "3  15003  0.846528\n",
       "4  15004  0.016867"
      ],
      "text/html": [
       "<div>\n",
       "<style scoped>\n",
       "    .dataframe tbody tr th:only-of-type {\n",
       "        vertical-align: middle;\n",
       "    }\n",
       "\n",
       "    .dataframe tbody tr th {\n",
       "        vertical-align: top;\n",
       "    }\n",
       "\n",
       "    .dataframe thead th {\n",
       "        text-align: right;\n",
       "    }\n",
       "</style>\n",
       "<table border=\"1\" class=\"dataframe\">\n",
       "  <thead>\n",
       "    <tr style=\"text-align: right;\">\n",
       "      <th></th>\n",
       "      <th>id</th>\n",
       "      <th>Exited</th>\n",
       "    </tr>\n",
       "  </thead>\n",
       "  <tbody>\n",
       "    <tr>\n",
       "      <th>0</th>\n",
       "      <td>15000</td>\n",
       "      <td>0.014853</td>\n",
       "    </tr>\n",
       "    <tr>\n",
       "      <th>1</th>\n",
       "      <td>15001</td>\n",
       "      <td>0.029846</td>\n",
       "    </tr>\n",
       "    <tr>\n",
       "      <th>2</th>\n",
       "      <td>15002</td>\n",
       "      <td>0.028433</td>\n",
       "    </tr>\n",
       "    <tr>\n",
       "      <th>3</th>\n",
       "      <td>15003</td>\n",
       "      <td>0.846528</td>\n",
       "    </tr>\n",
       "    <tr>\n",
       "      <th>4</th>\n",
       "      <td>15004</td>\n",
       "      <td>0.016867</td>\n",
       "    </tr>\n",
       "  </tbody>\n",
       "</table>\n",
       "</div>"
      ]
     },
     "metadata": {},
     "output_type": "display_data"
    }
   ],
   "execution_count": 48
  }
 ]
}
